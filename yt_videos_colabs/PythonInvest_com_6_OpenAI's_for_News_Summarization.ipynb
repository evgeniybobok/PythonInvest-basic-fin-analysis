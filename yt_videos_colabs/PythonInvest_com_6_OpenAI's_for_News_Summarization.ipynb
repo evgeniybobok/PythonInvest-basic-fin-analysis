{
  "nbformat": 4,
  "nbformat_minor": 0,
  "metadata": {
    "colab": {
      "provenance": [],
      "collapsed_sections": [
        "Xvry3wHfxvWx"
      ],
      "authorship_tag": "ABX9TyM3dQzH2wf1AExUjZ+rGnIb",
      "include_colab_link": true
    },
    "kernelspec": {
      "name": "python3",
      "display_name": "Python 3"
    },
    "language_info": {
      "name": "python"
    }
  },
  "cells": [
    {
      "cell_type": "markdown",
      "metadata": {
        "id": "view-in-github",
        "colab_type": "text"
      },
      "source": [
        "<a href=\"https://colab.research.google.com/github/realmistic/PythonInvest-basic-fin-analysis/blob/master/yt_videos_colabs/PythonInvest_com_6_OpenAI's_for_News_Summarization.ipynb\" target=\"_parent\"><img src=\"https://colab.research.google.com/assets/colab-badge.svg\" alt=\"Open In Colab\"/></a>"
      ]
    },
    {
      "cell_type": "markdown",
      "source": [
        ">**Goals:**\n",
        "* *Task:* Explore ChatGPT programmatically\n",
        "* *Use-case:* Summarize a massive set of news (5000 articles per week).\n",
        "* *Why*: Gain insights, understand market sentiment, and make informed investment decisions.\n",
        "\n",
        "* ***Result***: AI-generated news summaries available at: https://pythoninvest.com/#weekly-fin-news-feed\n",
        "* ***Full Article***: \"Leveraging OpenAI's API for Financial News Summarization\n",
        "\": https://pythoninvest.com/long-read/chatgpt-api-for-financial-news-summarization\n",
        "\n",
        "* ***How to Support Us:***\n",
        "  * *Please react:* Like, comment, subscribe, and share your thoughts\n",
        "  * *Read other blog articles*:  Explore more insights on our website https://pythoninvest.com/blog\n",
        "  * *Make a Donation*: Support PythonInvest on BuyMeACoffee by becoming a [regular member](https://www.buymeacoffee.com/pythoninvest/membership) or contributing to a specific idea from our [Wishlist](https://www.buymeacoffee.com/pythoninvest/wishlist) : https://www.buymeacoffee.com/pythoninvest  \n",
        "\n",
        "\n",
        "---\n",
        "\n",
        "\n",
        ">**Plan:**\n",
        "  * *Colab Env*: storing secrets in Google Drive\n",
        "  * *API hygiene:* Rate Limits, Access Keys, other Errors handling\n",
        "  * *Polygon.io News API:*\n",
        "    * Ticker: One Stock vs. Market\n",
        "    * Title vs. Description\n",
        "    * Chunking\n",
        "  * *ChatGPT's API*:\n",
        "    * Model Selection (GPT-3.5 Turbo in most cases, GPT-4 after the first payment). Tokens, prompts, messages, and usage.\n",
        "    * API call example for one stock\n",
        "    * Few Shots Prompting for a large set of news\n",
        "    * Use-case for Summarizer: https://platform.openai.com/examples/default-meeting-notes-summarizer\n",
        "\n",
        "---\n",
        "\n",
        ">**Pre-reads:**\n",
        "  * [7 Jul'23] \"Lean how to work with the GPT-35-Turbo and GPT-4 Models\": https://learn.microsoft.com/en-us/azure/cognitive-services/openai/how-to/chatgpt?pivots=programming-language-chat-completions  \n",
        "  * [6 Jul'23] \"GPT-4-API-general-availability (8k tokens)\" https://openai.com/blog/gpt-4-api-general-availability\n",
        "  * [July 2023] \"But no access to GPT-4-32k tokens model yet\" https://help.openai.com/en/articles/7102672-how-can-i-access-gpt-4\n",
        "  * [14 Jun'23] \"OpenAI GPT-3.5 Turbo Model\": https://cobusgreyling.medium.com/openai-16k-context-3-5-turbo-model-1ebd979041dc\n",
        "  * [11 Jun'20] REST APIs usage : https://www.nylas.com/blog/use-python-requests-module-rest-apis/\n",
        "  * Task Examples on OpenAI: https://platform.openai.com/examples\n",
        "  * OpenAI docs 3.5 (Chat Completions API): https://platform.openai.com/docs/guides/gpt/chat-completions-api\n",
        "  * API reference: https://platform.openai.com/docs/api-reference/completions/create\n",
        "  * Open AI customer stories: https://openai.com/customer-stories\n",
        "\n",
        "---"
      ],
      "metadata": {
        "id": "pXU4LRHj7R3B"
      }
    },
    {
      "cell_type": "markdown",
      "source": [
        "#0) Imports and Env Variables for APIs"
      ],
      "metadata": {
        "id": "-YXtNwlCeCV-"
      }
    },
    {
      "cell_type": "code",
      "source": [
        "!pip install openai"
      ],
      "metadata": {
        "colab": {
          "base_uri": "https://localhost:8080/"
        },
        "id": "M6s0C6zXVrPB",
        "outputId": "4793ba2d-6a1f-4115-f214-f2be4999805e"
      },
      "execution_count": null,
      "outputs": [
        {
          "output_type": "stream",
          "name": "stdout",
          "text": [
            "Collecting openai\n",
            "  Downloading openai-0.27.9-py3-none-any.whl (75 kB)\n",
            "\u001b[?25l     \u001b[90m━━━━━━━━━━━━━━━━━━━━━━━━━━━━━━━━━━━━━━━━\u001b[0m \u001b[32m0.0/75.5 kB\u001b[0m \u001b[31m?\u001b[0m eta \u001b[36m-:--:--\u001b[0m\r\u001b[2K     \u001b[91m━━━━━━━━━━━━━━━━━━━━━━━━━━━━━━━━━━━━━\u001b[0m\u001b[91m╸\u001b[0m\u001b[90m━━\u001b[0m \u001b[32m71.7/75.5 kB\u001b[0m \u001b[31m2.2 MB/s\u001b[0m eta \u001b[36m0:00:01\u001b[0m\r\u001b[2K     \u001b[90m━━━━━━━━━━━━━━━━━━━━━━━━━━━━━━━━━━━━━━━━\u001b[0m \u001b[32m75.5/75.5 kB\u001b[0m \u001b[31m1.9 MB/s\u001b[0m eta \u001b[36m0:00:00\u001b[0m\n",
            "\u001b[?25hRequirement already satisfied: requests>=2.20 in /usr/local/lib/python3.10/dist-packages (from openai) (2.31.0)\n",
            "Requirement already satisfied: tqdm in /usr/local/lib/python3.10/dist-packages (from openai) (4.66.1)\n",
            "Requirement already satisfied: aiohttp in /usr/local/lib/python3.10/dist-packages (from openai) (3.8.5)\n",
            "Requirement already satisfied: charset-normalizer<4,>=2 in /usr/local/lib/python3.10/dist-packages (from requests>=2.20->openai) (3.2.0)\n",
            "Requirement already satisfied: idna<4,>=2.5 in /usr/local/lib/python3.10/dist-packages (from requests>=2.20->openai) (3.4)\n",
            "Requirement already satisfied: urllib3<3,>=1.21.1 in /usr/local/lib/python3.10/dist-packages (from requests>=2.20->openai) (2.0.4)\n",
            "Requirement already satisfied: certifi>=2017.4.17 in /usr/local/lib/python3.10/dist-packages (from requests>=2.20->openai) (2023.7.22)\n",
            "Requirement already satisfied: attrs>=17.3.0 in /usr/local/lib/python3.10/dist-packages (from aiohttp->openai) (23.1.0)\n",
            "Requirement already satisfied: multidict<7.0,>=4.5 in /usr/local/lib/python3.10/dist-packages (from aiohttp->openai) (6.0.4)\n",
            "Requirement already satisfied: async-timeout<5.0,>=4.0.0a3 in /usr/local/lib/python3.10/dist-packages (from aiohttp->openai) (4.0.3)\n",
            "Requirement already satisfied: yarl<2.0,>=1.0 in /usr/local/lib/python3.10/dist-packages (from aiohttp->openai) (1.9.2)\n",
            "Requirement already satisfied: frozenlist>=1.1.1 in /usr/local/lib/python3.10/dist-packages (from aiohttp->openai) (1.4.0)\n",
            "Requirement already satisfied: aiosignal>=1.1.2 in /usr/local/lib/python3.10/dist-packages (from aiohttp->openai) (1.3.1)\n",
            "Installing collected packages: openai\n",
            "Successfully installed openai-0.27.9\n"
          ]
        }
      ]
    },
    {
      "cell_type": "code",
      "source": [
        "# use local Google Drive to store/retrive API KEYS\n",
        "# https://stackoverflow.com/questions/66631333/how-do-i-set-environment-variables-in-google-colab\n",
        "!pip install colab-env --upgrade\n"
      ],
      "metadata": {
        "colab": {
          "base_uri": "https://localhost:8080/"
        },
        "id": "4_n8xXkDPyvd",
        "outputId": "21722c65-807d-40e5-e1a9-90e4a3df1913"
      },
      "execution_count": null,
      "outputs": [
        {
          "output_type": "stream",
          "name": "stdout",
          "text": [
            "Collecting colab-env\n",
            "  Downloading colab-env-0.2.0.tar.gz (4.7 kB)\n",
            "  Preparing metadata (setup.py) ... \u001b[?25l\u001b[?25hdone\n",
            "Collecting python-dotenv<1.0,>=0.10.0 (from colab-env)\n",
            "  Downloading python_dotenv-0.21.1-py3-none-any.whl (19 kB)\n",
            "Building wheels for collected packages: colab-env\n",
            "  Building wheel for colab-env (setup.py) ... \u001b[?25l\u001b[?25hdone\n",
            "  Created wheel for colab-env: filename=colab_env-0.2.0-py3-none-any.whl size=3805 sha256=bc261702e6b486bd9b979e25a5701073f0c816d8ddbe5dd8dcf1693a9a0e75c6\n",
            "  Stored in directory: /root/.cache/pip/wheels/ae/36/4f/466c2cd4db5d08f317893a920c4a0f58a81459ee3bdb136d35\n",
            "Successfully built colab-env\n",
            "Installing collected packages: python-dotenv, colab-env\n",
            "Successfully installed colab-env-0.2.0 python-dotenv-0.21.1\n"
          ]
        }
      ]
    },
    {
      "cell_type": "code",
      "source": [
        "import json\n",
        "import requests\n",
        "import numpy as np\n",
        "import pandas as pd\n",
        "\n",
        "import datetime\n",
        "from datetime import datetime, timezone #https://stackoverflow.com/questions/796008/cant-subtract-offset-naive-and-offset-aware-datetimes\n",
        "\n",
        "import random\n",
        "\n",
        "import os\n",
        "import openai\n",
        "import time\n",
        "import textwrap #for wrapping the output string"
      ],
      "metadata": {
        "id": "IlbfyWt0--Y0"
      },
      "execution_count": null,
      "outputs": []
    },
    {
      "cell_type": "code",
      "source": [
        "# Get Env. Variable for Colab\n",
        "  # https://github.com/apolitical/colab-env/blob/master/colab_env_testbed.ipynb\n",
        "import colab_env\n",
        "\n",
        "print(f'Colab Env. version: {colab_env.__version__}')"
      ],
      "metadata": {
        "id": "L15KnR7GROBn",
        "colab": {
          "base_uri": "https://localhost:8080/"
        },
        "outputId": "4a914180-543e-4916-d9a3-3b1db70d49ce"
      },
      "execution_count": null,
      "outputs": [
        {
          "output_type": "stream",
          "name": "stdout",
          "text": [
            "Mounted at /content/gdrive\n",
            "Colab Env. version: 0.2.0\n"
          ]
        }
      ]
    },
    {
      "cell_type": "code",
      "source": [
        "# Test this env. variable\n",
        "colab_env.envvar_handler.add_env(\"TEST\", \"HELLO WORLD!\", overwrite=True)\n",
        "os.getenv(\"TEST\")"
      ],
      "metadata": {
        "id": "HS1zQh5eUGr-",
        "colab": {
          "base_uri": "https://localhost:8080/",
          "height": 35
        },
        "outputId": "26cbcdba-a45c-4b1a-ca2c-d78b6892b097"
      },
      "execution_count": null,
      "outputs": [
        {
          "output_type": "execute_result",
          "data": {
            "text/plain": [
              "'HELLO WORLD!'"
            ],
            "application/vnd.google.colaboratory.intrinsic+json": {
              "type": "string"
            }
          },
          "metadata": {},
          "execution_count": 5
        }
      ]
    },
    {
      "cell_type": "code",
      "source": [
        "# register your keys\n",
        "# colab_env.envvar_handler.add_env(\"OPENAI_API_KEY\", <your key>, overwrite=True)\n",
        "# colab_env.envvar_handler.add_env(\"POLYGON_API_KEY\", <your key>, overwrite=True)"
      ],
      "metadata": {
        "id": "wzI3voB0VCqO"
      },
      "execution_count": null,
      "outputs": []
    },
    {
      "cell_type": "code",
      "source": [
        "# API for openAI, polygonNews\n",
        "    # Usage: https://platform.openai.com/account/usage\n",
        "    # Pricing: https://openai.com/pricing\n",
        "\n",
        "#Import your API keys from the Env. file on Drive/System, or simply type-in it here\n",
        "POLYGON_API_KEY = os.getenv(\"POLYGON_API_KEY\")\n",
        "OPENAI_API_KEY = os.getenv(\"OPENAI_API_KEY\")"
      ],
      "metadata": {
        "id": "_EhxJMyFVSlm"
      },
      "execution_count": null,
      "outputs": []
    },
    {
      "cell_type": "markdown",
      "source": [
        "# 1) POLYGON NEWS\n",
        "Import 5k latest fin. news via 5 calls on the Free API tier: https://polygon.io/docs/stocks/get_v2_reference_news\n"
      ],
      "metadata": {
        "id": "tyUHhUIze9A-"
      }
    },
    {
      "cell_type": "code",
      "source": [
        "from datetime import datetime, timezone\n",
        "datetime.now(timezone.utc).strftime(\"%Y-%m-%d\")"
      ],
      "metadata": {
        "id": "WvCbF5fNV75T",
        "colab": {
          "base_uri": "https://localhost:8080/",
          "height": 35
        },
        "outputId": "f1089bc2-3ffe-421b-aa67-a4a45760b6b9"
      },
      "execution_count": null,
      "outputs": [
        {
          "output_type": "execute_result",
          "data": {
            "text/plain": [
              "'2023-08-28'"
            ],
            "application/vnd.google.colaboratory.intrinsic+json": {
              "type": "string"
            }
          },
          "metadata": {},
          "execution_count": 8
        }
      ]
    },
    {
      "cell_type": "code",
      "source": [
        "# The exact time of running the Colab\n",
        "now = datetime.utcnow().isoformat(sep=' ', timespec='milliseconds')\n",
        "now_right_format = \"T\".join(now.split(' '))\n",
        "now_right_format"
      ],
      "metadata": {
        "id": "iHLv5aacZT90",
        "colab": {
          "base_uri": "https://localhost:8080/",
          "height": 35
        },
        "outputId": "25cc3681-a027-4856-8847-77003a9d9ebe"
      },
      "execution_count": null,
      "outputs": [
        {
          "output_type": "execute_result",
          "data": {
            "text/plain": [
              "'2023-08-28T20:54:24.085'"
            ],
            "application/vnd.google.colaboratory.intrinsic+json": {
              "type": "string"
            }
          },
          "metadata": {},
          "execution_count": 9
        }
      ]
    },
    {
      "cell_type": "code",
      "source": [
        "# https://polygon.io/docs/stocks/get_v2_reference_news\n",
        "# https://polygon.io/blog/api-pagination-patterns/\n",
        "# API CALL : # https://api.polygon.io/v2/reference/news?order=desc&limit=1000&sort=published_utc&apiKey=<your key> or POLYGON_API_KEY\n",
        "      # need to get 200 OK status\n",
        "\n",
        "# retrieve max 1000 news via one API call\n",
        "def get_one_chunk_of_news_polygon_io(api_key = POLYGON_API_KEY, news_limit=1000, max_date = now_right_format):\n",
        "  url = f\"https://api.polygon.io/v2/reference/news?order=desc&limit={news_limit}&sort=published_utc&published_utc.lt={max_date}&apiKey={api_key}\"\n",
        "\n",
        "  # https://www.nylas.com/blog/use-python-requests-module-rest-apis/ - Python for rest APIs\n",
        "  # try/catch for HTTP requests: https://stackoverflow.com/questions/16511337/correct-way-to-try-except-using-python-requests-module\n",
        "  try:\n",
        "      r = requests.get(url, timeout=3)\n",
        "      r.raise_for_status()\n",
        "  except requests.exceptions.HTTPError as errh:\n",
        "      print (\"Http Error:\",errh)\n",
        "  except requests.exceptions.ConnectionError as errc:\n",
        "      print (\"Error Connecting:\",errc)\n",
        "  except requests.exceptions.Timeout as errt:\n",
        "      print (\"Timeout Error:\",errt)\n",
        "  except requests.exceptions.RequestException as err:\n",
        "      print (\"OOps: Something Else\",err)\n",
        "\n",
        "  data = r.json()\n",
        "\n",
        "  # https://towardsdatascience.com/how-to-convert-json-into-a-pandas-dataframe-100b2ae1e0d8\n",
        "  df_nested_list = pd.json_normalize(data, record_path =['results'])\n",
        "  print(f'Retrieved : {len(df_nested_list)} news; min_datetime = {df_nested_list.published_utc.min()}, max_datetime = {df_nested_list.published_utc.max()}')\n",
        "  return df_nested_list"
      ],
      "metadata": {
        "id": "yZSyAWGvWnRC"
      },
      "execution_count": null,
      "outputs": []
    },
    {
      "cell_type": "code",
      "source": [
        "def get_all_news(api_calls_left = 5, api_key = POLYGON_API_KEY, news_limit=1000, max_date = now_right_format):\n",
        "  all_news = None\n",
        "  for i in range(api_calls_left):\n",
        "    cur = get_one_chunk_of_news_polygon_io(api_key = api_key, news_limit = news_limit, max_date = max_date)\n",
        "    if all_news is None:\n",
        "      all_news = cur\n",
        "    else:\n",
        "      all_news = pd.concat([all_news,cur], ignore_index=True, axis=0) #stacking dataframes\n",
        "\n",
        "    max_date = cur.published_utc.min() #update max_date of the news\n",
        "  return all_news"
      ],
      "metadata": {
        "id": "ug5sYkH8bBhB"
      },
      "execution_count": null,
      "outputs": []
    },
    {
      "cell_type": "code",
      "source": [
        "# 5 calls per minute limit for a free account - all recent news (5000)\n",
        "all_news = get_all_news()"
      ],
      "metadata": {
        "id": "21KHqrYncCP4",
        "colab": {
          "base_uri": "https://localhost:8080/"
        },
        "outputId": "5d659a62-38ee-4c3a-b106-7f955daf5240"
      },
      "execution_count": null,
      "outputs": [
        {
          "output_type": "stream",
          "name": "stdout",
          "text": [
            "Retrieved : 1000 news; min_datetime = 2023-08-25T14:35:00Z, max_datetime = 2023-08-28T20:32:00Z\n",
            "Retrieved : 1000 news; min_datetime = 2023-08-24T11:20:22Z, max_datetime = 2023-08-25T14:33:00Z\n",
            "Retrieved : 1000 news; min_datetime = 2023-08-22T21:45:14Z, max_datetime = 2023-08-24T11:19:00Z\n",
            "Retrieved : 1000 news; min_datetime = 2023-08-21T13:00:51Z, max_datetime = 2023-08-22T21:45:13Z\n",
            "Retrieved : 1000 news; min_datetime = 2023-08-18T10:50:00Z, max_datetime = 2023-08-21T13:00:45Z\n"
          ]
        }
      ]
    },
    {
      "cell_type": "code",
      "source": [
        "all_news.info()"
      ],
      "metadata": {
        "id": "DFi8oEMoclzN",
        "colab": {
          "base_uri": "https://localhost:8080/"
        },
        "outputId": "b945ea98-fb88-4ce9-ce5f-17359de0f23f"
      },
      "execution_count": null,
      "outputs": [
        {
          "output_type": "stream",
          "name": "stdout",
          "text": [
            "<class 'pandas.core.frame.DataFrame'>\n",
            "RangeIndex: 5000 entries, 0 to 4999\n",
            "Data columns (total 14 columns):\n",
            " #   Column                  Non-Null Count  Dtype \n",
            "---  ------                  --------------  ----- \n",
            " 0   id                      5000 non-null   object\n",
            " 1   title                   5000 non-null   object\n",
            " 2   author                  5000 non-null   object\n",
            " 3   published_utc           5000 non-null   object\n",
            " 4   article_url             5000 non-null   object\n",
            " 5   tickers                 5000 non-null   object\n",
            " 6   amp_url                 3985 non-null   object\n",
            " 7   image_url               5000 non-null   object\n",
            " 8   description             4938 non-null   object\n",
            " 9   keywords                2431 non-null   object\n",
            " 10  publisher.name          5000 non-null   object\n",
            " 11  publisher.homepage_url  5000 non-null   object\n",
            " 12  publisher.logo_url      5000 non-null   object\n",
            " 13  publisher.favicon_url   5000 non-null   object\n",
            "dtypes: object(14)\n",
            "memory usage: 547.0+ KB\n"
          ]
        }
      ]
    },
    {
      "cell_type": "code",
      "source": [
        "all_news[\"publisher.name\"].value_counts()"
      ],
      "metadata": {
        "id": "kaz5RhZZdVor",
        "colab": {
          "base_uri": "https://localhost:8080/"
        },
        "outputId": "6a03f026-bcfb-4cad-cd67-93e8e96c051f"
      },
      "execution_count": null,
      "outputs": [
        {
          "output_type": "execute_result",
          "data": {
            "text/plain": [
              "Zacks Investment Research    2098\n",
              "The Motley Fool               866\n",
              "GlobeNewswire Inc.            835\n",
              "Benzinga                      723\n",
              "MarketWatch                   293\n",
              "Seeking Alpha                 131\n",
              "Investing.com                  37\n",
              "PennyStocks                    17\n",
              "Name: publisher.name, dtype: int64"
            ]
          },
          "metadata": {},
          "execution_count": 14
        }
      ]
    },
    {
      "cell_type": "code",
      "source": [
        "# Identify news count per stock (ever mentioned)\n",
        "tickers = []\n",
        "for el in all_news.tickers:\n",
        "  tickers.extend(el)\n",
        "\n",
        "dd= {}\n",
        "for e in tickers:\n",
        "  if e in dd.keys():\n",
        "    dd[e]+=1\n",
        "  else:\n",
        "    dd[e]=1"
      ],
      "metadata": {
        "id": "lZR8VmMchQ4w"
      },
      "execution_count": null,
      "outputs": []
    },
    {
      "cell_type": "code",
      "source": [
        "# https://www.freecodecamp.org/news/sort-dictionary-by-value-in-python/\n",
        "sorted_dd = sorted(dd.items(), key=lambda x:x[1], reverse=True)"
      ],
      "metadata": {
        "id": "5ZVJurJziU_o"
      },
      "execution_count": null,
      "outputs": []
    },
    {
      "cell_type": "code",
      "source": [
        "sorted_dd[0:10]"
      ],
      "metadata": {
        "id": "kma6PYvvix4-",
        "colab": {
          "base_uri": "https://localhost:8080/"
        },
        "outputId": "b1677952-ecef-4396-95a9-ea247147489f"
      },
      "execution_count": null,
      "outputs": [
        {
          "output_type": "execute_result",
          "data": {
            "text/plain": [
              "[('NVDA', 283),\n",
              " ('AMZN', 157),\n",
              " ('AAPL', 139),\n",
              " ('MSFT', 116),\n",
              " ('TSLA', 103),\n",
              " ('GOOGL', 92),\n",
              " ('SPY', 74),\n",
              " ('GOOG', 74),\n",
              " ('AMD', 66),\n",
              " ('META', 63)]"
            ]
          },
          "metadata": {},
          "execution_count": 18
        }
      ]
    },
    {
      "cell_type": "code",
      "source": [
        "all_news.head(1)"
      ],
      "metadata": {
        "id": "DQ9PrMqdyvC5",
        "colab": {
          "base_uri": "https://localhost:8080/",
          "height": 188
        },
        "outputId": "4b146a7a-c556-40fd-b9da-a18fb85406ed"
      },
      "execution_count": null,
      "outputs": [
        {
          "output_type": "execute_result",
          "data": {
            "text/plain": [
              "                                            id  \\\n",
              "0  886xm7AiA-jZTkP-R0ren2x-bsHFqq2HpHg_V4f5xuY   \n",
              "\n",
              "                                               title       author  \\\n",
              "0  Qorvo Statement on the Passing of Board Member...  Qorvo, Inc.   \n",
              "\n",
              "          published_utc                                        article_url  \\\n",
              "0  2023-08-28T20:32:00Z  https://www.globenewswire.com/news-release/202...   \n",
              "\n",
              "  tickers                                            amp_url  \\\n",
              "0  [QRVO]  https://www.globenewswire.com/news-release/202...   \n",
              "\n",
              "                                           image_url  \\\n",
              "0  https://ml.globenewswire.com/Resource/Download...   \n",
              "\n",
              "                                         description                 keywords  \\\n",
              "0  GREENSBORO, N.C., Aug.  28, 2023  (GLOBE NEWSW...  [Management statements]   \n",
              "\n",
              "       publisher.name         publisher.homepage_url  \\\n",
              "0  GlobeNewswire Inc.  https://www.globenewswire.com   \n",
              "\n",
              "                                  publisher.logo_url  \\\n",
              "0  https://s3.polygon.io/public/assets/news/logos...   \n",
              "\n",
              "                               publisher.favicon_url  \n",
              "0  https://s3.polygon.io/public/assets/news/favic...  "
            ],
            "text/html": [
              "\n",
              "  <div id=\"df-776024ed-2b5d-4b8f-aed2-cafff44cd427\" class=\"colab-df-container\">\n",
              "    <div>\n",
              "<style scoped>\n",
              "    .dataframe tbody tr th:only-of-type {\n",
              "        vertical-align: middle;\n",
              "    }\n",
              "\n",
              "    .dataframe tbody tr th {\n",
              "        vertical-align: top;\n",
              "    }\n",
              "\n",
              "    .dataframe thead th {\n",
              "        text-align: right;\n",
              "    }\n",
              "</style>\n",
              "<table border=\"1\" class=\"dataframe\">\n",
              "  <thead>\n",
              "    <tr style=\"text-align: right;\">\n",
              "      <th></th>\n",
              "      <th>id</th>\n",
              "      <th>title</th>\n",
              "      <th>author</th>\n",
              "      <th>published_utc</th>\n",
              "      <th>article_url</th>\n",
              "      <th>tickers</th>\n",
              "      <th>amp_url</th>\n",
              "      <th>image_url</th>\n",
              "      <th>description</th>\n",
              "      <th>keywords</th>\n",
              "      <th>publisher.name</th>\n",
              "      <th>publisher.homepage_url</th>\n",
              "      <th>publisher.logo_url</th>\n",
              "      <th>publisher.favicon_url</th>\n",
              "    </tr>\n",
              "  </thead>\n",
              "  <tbody>\n",
              "    <tr>\n",
              "      <th>0</th>\n",
              "      <td>886xm7AiA-jZTkP-R0ren2x-bsHFqq2HpHg_V4f5xuY</td>\n",
              "      <td>Qorvo Statement on the Passing of Board Member...</td>\n",
              "      <td>Qorvo, Inc.</td>\n",
              "      <td>2023-08-28T20:32:00Z</td>\n",
              "      <td>https://www.globenewswire.com/news-release/202...</td>\n",
              "      <td>[QRVO]</td>\n",
              "      <td>https://www.globenewswire.com/news-release/202...</td>\n",
              "      <td>https://ml.globenewswire.com/Resource/Download...</td>\n",
              "      <td>GREENSBORO, N.C., Aug.  28, 2023  (GLOBE NEWSW...</td>\n",
              "      <td>[Management statements]</td>\n",
              "      <td>GlobeNewswire Inc.</td>\n",
              "      <td>https://www.globenewswire.com</td>\n",
              "      <td>https://s3.polygon.io/public/assets/news/logos...</td>\n",
              "      <td>https://s3.polygon.io/public/assets/news/favic...</td>\n",
              "    </tr>\n",
              "  </tbody>\n",
              "</table>\n",
              "</div>\n",
              "    <div class=\"colab-df-buttons\">\n",
              "\n",
              "  <div class=\"colab-df-container\">\n",
              "    <button class=\"colab-df-convert\" onclick=\"convertToInteractive('df-776024ed-2b5d-4b8f-aed2-cafff44cd427')\"\n",
              "            title=\"Convert this dataframe to an interactive table.\"\n",
              "            style=\"display:none;\">\n",
              "\n",
              "  <svg xmlns=\"http://www.w3.org/2000/svg\" height=\"24px\" viewBox=\"0 -960 960 960\">\n",
              "    <path d=\"M120-120v-720h720v720H120Zm60-500h600v-160H180v160Zm220 220h160v-160H400v160Zm0 220h160v-160H400v160ZM180-400h160v-160H180v160Zm440 0h160v-160H620v160ZM180-180h160v-160H180v160Zm440 0h160v-160H620v160Z\"/>\n",
              "  </svg>\n",
              "    </button>\n",
              "\n",
              "  <style>\n",
              "    .colab-df-container {\n",
              "      display:flex;\n",
              "      gap: 12px;\n",
              "    }\n",
              "\n",
              "    .colab-df-convert {\n",
              "      background-color: #E8F0FE;\n",
              "      border: none;\n",
              "      border-radius: 50%;\n",
              "      cursor: pointer;\n",
              "      display: none;\n",
              "      fill: #1967D2;\n",
              "      height: 32px;\n",
              "      padding: 0 0 0 0;\n",
              "      width: 32px;\n",
              "    }\n",
              "\n",
              "    .colab-df-convert:hover {\n",
              "      background-color: #E2EBFA;\n",
              "      box-shadow: 0px 1px 2px rgba(60, 64, 67, 0.3), 0px 1px 3px 1px rgba(60, 64, 67, 0.15);\n",
              "      fill: #174EA6;\n",
              "    }\n",
              "\n",
              "    .colab-df-buttons div {\n",
              "      margin-bottom: 4px;\n",
              "    }\n",
              "\n",
              "    [theme=dark] .colab-df-convert {\n",
              "      background-color: #3B4455;\n",
              "      fill: #D2E3FC;\n",
              "    }\n",
              "\n",
              "    [theme=dark] .colab-df-convert:hover {\n",
              "      background-color: #434B5C;\n",
              "      box-shadow: 0px 1px 3px 1px rgba(0, 0, 0, 0.15);\n",
              "      filter: drop-shadow(0px 1px 2px rgba(0, 0, 0, 0.3));\n",
              "      fill: #FFFFFF;\n",
              "    }\n",
              "  </style>\n",
              "\n",
              "    <script>\n",
              "      const buttonEl =\n",
              "        document.querySelector('#df-776024ed-2b5d-4b8f-aed2-cafff44cd427 button.colab-df-convert');\n",
              "      buttonEl.style.display =\n",
              "        google.colab.kernel.accessAllowed ? 'block' : 'none';\n",
              "\n",
              "      async function convertToInteractive(key) {\n",
              "        const element = document.querySelector('#df-776024ed-2b5d-4b8f-aed2-cafff44cd427');\n",
              "        const dataTable =\n",
              "          await google.colab.kernel.invokeFunction('convertToInteractive',\n",
              "                                                    [key], {});\n",
              "        if (!dataTable) return;\n",
              "\n",
              "        const docLinkHtml = 'Like what you see? Visit the ' +\n",
              "          '<a target=\"_blank\" href=https://colab.research.google.com/notebooks/data_table.ipynb>data table notebook</a>'\n",
              "          + ' to learn more about interactive tables.';\n",
              "        element.innerHTML = '';\n",
              "        dataTable['output_type'] = 'display_data';\n",
              "        await google.colab.output.renderOutput(dataTable, element);\n",
              "        const docLink = document.createElement('div');\n",
              "        docLink.innerHTML = docLinkHtml;\n",
              "        element.appendChild(docLink);\n",
              "      }\n",
              "    </script>\n",
              "  </div>\n",
              "\n",
              "    </div>\n",
              "  </div>\n"
            ]
          },
          "metadata": {},
          "execution_count": 19
        }
      ]
    },
    {
      "cell_type": "code",
      "source": [
        "# DATA CLEANING Step1: GOOGL = GOOG  # https://datagy.io/python-replace-item-in-list/\n",
        "all_news['tickers_adj'] = all_news.tickers.apply(lambda x:['GOOG' if item == 'GOOGL' else item for item in x])"
      ],
      "metadata": {
        "id": "dggOD49xicx0"
      },
      "execution_count": null,
      "outputs": []
    },
    {
      "cell_type": "code",
      "source": [
        "# DATA CLEANING Step2: Remove duplicates from List: https://www.geeksforgeeks.org/python-ways-to-remove-duplicates-from-list/\n",
        "all_news['tickers_adj'] = all_news.tickers_adj.apply(lambda x: [*set(x)])"
      ],
      "metadata": {
        "id": "JWJxiQVJjKxj"
      },
      "execution_count": null,
      "outputs": []
    },
    {
      "cell_type": "code",
      "source": [
        "for i in range(2):\n",
        "  elem = all_news.iloc[i]\n",
        "  print(elem)\n",
        "  print('--------')"
      ],
      "metadata": {
        "id": "WNMGJX5R5aBP",
        "colab": {
          "base_uri": "https://localhost:8080/"
        },
        "outputId": "94565648-ae87-4196-9bf3-2b7d7deb7aad"
      },
      "execution_count": null,
      "outputs": [
        {
          "output_type": "stream",
          "name": "stdout",
          "text": [
            "id                              886xm7AiA-jZTkP-R0ren2x-bsHFqq2HpHg_V4f5xuY\n",
            "title                     Qorvo Statement on the Passing of Board Member...\n",
            "author                                                          Qorvo, Inc.\n",
            "published_utc                                          2023-08-28T20:32:00Z\n",
            "article_url               https://www.globenewswire.com/news-release/202...\n",
            "tickers                                                              [QRVO]\n",
            "amp_url                   https://www.globenewswire.com/news-release/202...\n",
            "image_url                 https://ml.globenewswire.com/Resource/Download...\n",
            "description               GREENSBORO, N.C., Aug.  28, 2023  (GLOBE NEWSW...\n",
            "keywords                                            [Management statements]\n",
            "publisher.name                                           GlobeNewswire Inc.\n",
            "publisher.homepage_url                        https://www.globenewswire.com\n",
            "publisher.logo_url        https://s3.polygon.io/public/assets/news/logos...\n",
            "publisher.favicon_url     https://s3.polygon.io/public/assets/news/favic...\n",
            "tickers_adj                                                          [QRVO]\n",
            "Name: 0, dtype: object\n",
            "--------\n",
            "id                              aTSoGUYcS-VTJFo3Np87V4U_Q-DCLXfEHHu5idkv50Y\n",
            "title                     Ross Acquisition Corp II Receives NYSE Notice ...\n",
            "author                                             Ross Acquisition Corp II\n",
            "published_utc                                          2023-08-28T20:31:00Z\n",
            "article_url               https://www.globenewswire.com/news-release/202...\n",
            "tickers                                                              [ROSS]\n",
            "amp_url                   https://www.globenewswire.com/news-release/202...\n",
            "image_url                 https://www.globenewswire.com/news-release/202...\n",
            "description               PALM BEACH, Fla., Aug.  28, 2023  (GLOBE NEWSW...\n",
            "keywords                  [Stock Market News, Major shareholder announce...\n",
            "publisher.name                                           GlobeNewswire Inc.\n",
            "publisher.homepage_url                        https://www.globenewswire.com\n",
            "publisher.logo_url        https://s3.polygon.io/public/assets/news/logos...\n",
            "publisher.favicon_url     https://s3.polygon.io/public/assets/news/favic...\n",
            "tickers_adj                                                          [ROSS]\n",
            "Name: 1, dtype: object\n",
            "--------\n"
          ]
        }
      ]
    },
    {
      "cell_type": "code",
      "source": [
        "for i in range(2):\n",
        "  print(f' Title: {all_news.iloc[i].title} \\n Descr: {all_news.iloc[i].description} \\n Tickers ={all_news.iloc[i].tickers}')\n",
        "  print('------------------------')"
      ],
      "metadata": {
        "id": "7PhMxpQA6Avr",
        "colab": {
          "base_uri": "https://localhost:8080/"
        },
        "outputId": "8ed20578-6cfb-403e-9835-16cfc149e8d9"
      },
      "execution_count": null,
      "outputs": [
        {
          "output_type": "stream",
          "name": "stdout",
          "text": [
            " Title: Qorvo Statement on the Passing of Board Member Jeffery R. Gardner \n",
            " Descr: GREENSBORO, N.C., Aug.  28, 2023  (GLOBE NEWSWIRE) -- Qorvo, Inc. (Nasdaq: QRVO), a leading global provider of connectivity and power solutions, issued a statement today announcing the loss of board member Jeffery R. Gardner, who unexpectedly passed away on Sunday, August 27th. \n",
            " Tickers =['QRVO']\n",
            "------------------------\n",
            " Title: Ross Acquisition Corp II Receives NYSE Notice Regarding Delayed Form 10-Q Filing \n",
            " Descr: PALM BEACH, Fla., Aug.  28, 2023  (GLOBE NEWSWIRE) -- Ross Acquisition Corp II (NYSE:ROSS) (the “Company”) announced today that it received a notice (the “Notice”) on August 22, 2023 from the NYSE Regulation staff of the New York Stock Exchange (the “NYSE”) stating that the Company is not in compliance with Section 802.01E of the NYSE Listed Company Manual (the “Rule”) because it has not timely filed its Quarterly Report on Form 10-Q for the quarter ended June 30, 2023 (the “Form 10-Q”) with the Securities and Exchange Commission (the “SEC”). The Rule requires listed companies to timely file all required periodic financial reports with the SEC. The Notice has no immediate effect on the listing or trading of the Company’s securities. However, if the Company fails to timely regain compliance with the Rule, the Company’s securities will be subject to delisting from the NYSE. \n",
            " Tickers =['ROSS']\n",
            "------------------------\n"
          ]
        }
      ]
    },
    {
      "cell_type": "code",
      "source": [
        "# generate the dictionary for all descriptions : MARKET DATA (more than 1 ticker)\n",
        "  # two regimes : only last day AND all market data from 5k news (~7 days)\n",
        "def get_market_descriptions_concat(df, only_last_day = False):\n",
        "  all_descs={}\n",
        "  descs =[]\n",
        "  used_news = 0\n",
        "  unused_news = 0\n",
        "  total_words_tokens = 0\n",
        "\n",
        "  now = datetime.now(timezone.utc)\n",
        "  # .date() # example: datetime.date(2023, 7, 11)\n",
        "  # datetime.now(timezone.utc).strftime(\"%Y-%m-%d\") # string form of today\n",
        "\n",
        "  for i in range(len(df)):\n",
        "    elem = df.iloc[i]\n",
        "    time_hours_to_now = (now-pd.to_datetime(elem.published_utc))/pd.Timedelta(hours=1) #https://stackoverflow.com/questions/22923775/calculate-time-difference-between-two-pandas-columns-in-hours-and-minutes\n",
        "    if len(elem.tickers_adj)>1:\n",
        "      if not only_last_day or (only_last_day and time_hours_to_now<=24): # last 24 hours, or all days before\n",
        "        news_title_desc_str = str(elem.published_utc)+'| '+ str(elem.tickers_adj)+ '| '+str(elem.title)+ '| ' +str(elem.description)\n",
        "        descs.append(news_title_desc_str)\n",
        "        used_news += 1\n",
        "        total_words_tokens += len(news_title_desc_str.split(' '))\n",
        "    else:\n",
        "      unused_news += 1\n",
        "\n",
        "  print(f'Used news for market summary = {used_news}, not used news (individual tickers) = {unused_news}, and with total_words_tokens = {total_words_tokens}')\n",
        "  new_e = ('multiple_tickers', used_news)\n",
        "  all_descs[new_e] = descs\n",
        "  return all_descs"
      ],
      "metadata": {
        "id": "AiEhkbMa16gY"
      },
      "execution_count": null,
      "outputs": []
    },
    {
      "cell_type": "code",
      "source": [
        "market_summary_desc_last_day = get_market_descriptions_concat(all_news, only_last_day=True);\n",
        "market_summary_desc_week = get_market_descriptions_concat(all_news, only_last_day=False);\n",
        "\n",
        "market_summary_key_last_day = list(market_summary_desc_last_day.keys())[0]\n",
        "print(f'Used tickers for the last day market summary {market_summary_key_last_day}')\n",
        "\n",
        "market_summary_key_week = list(market_summary_desc_week.keys())[0]\n",
        "print(f'Used tickers for the last week market summary {market_summary_key_week}')\n"
      ],
      "metadata": {
        "id": "a1OVytBq2aJY",
        "colab": {
          "base_uri": "https://localhost:8080/"
        },
        "outputId": "cbcac173-39b1-4a3c-8b12-befdea12646b"
      },
      "execution_count": null,
      "outputs": [
        {
          "output_type": "stream",
          "name": "stdout",
          "text": [
            "Used news for market summary = 231, not used news (individual tickers) = 2792, and with total_words_tokens = 12358\n",
            "Used news for market summary = 2208, not used news (individual tickers) = 2792, and with total_words_tokens = 111115\n",
            "Used tickers for the last day market summary ('multiple_tickers', 231)\n",
            "Used tickers for the last week market summary ('multiple_tickers', 2208)\n"
          ]
        }
      ]
    },
    {
      "cell_type": "code",
      "source": [
        "for i in range(min(20,market_summary_key_last_day[1])):\n",
        " print(i,': ',market_summary_desc_last_day[market_summary_key_last_day][i])"
      ],
      "metadata": {
        "id": "RqTMrlKA2vyf",
        "colab": {
          "base_uri": "https://localhost:8080/"
        },
        "outputId": "c3ba9df6-aeb5-4831-9e7b-f8a9fb4fdb50"
      },
      "execution_count": null,
      "outputs": [
        {
          "output_type": "stream",
          "name": "stdout",
          "text": [
            "0 :  2023-08-28T20:27:00Z| ['DJIA', 'DHR', 'MMM', 'RAD', 'HE', 'COMP', 'ABCM']| S&P 500 and Nasdaq end higher, attempting to beat back worst month since December| Stocks see gains Monday as investors continue to weigh cautious comments from Federal Reserve Chairman Jerome Powell and get ready for another big data week.\n",
            "1 :  2023-08-28T20:07:00Z| ['DJIA', 'COMP']| The stock market is set up for a relief rally. Don't chase the bounce, says technician.| The potential reward from chasing a stock-market bounce isn't attractive, according to Tyler Richey, co-editor at Sevens Report Research.\n",
            "2 :  2023-08-28T20:01:00Z| ['FIVE', 'DG', 'DLTR']| Five Below And Dollar General Q2 Earnings Preview: Aiming To Emulate Dollar Tree's Beat| Two leading discount retailers are set to report quarterly earnings this week, aiming to emulate a peer company that recently beat analysts’ estimates.\n",
            "Here’s a look at what investors should know ahead of second quarter financial results from Five Below Inc (NASDAQ: FIVE) and Dollar General (NYSE: DG).\n",
            "Earnings Estimates: Five Below will report second quarter financial results after market close Wednesday, Aug. 30. Analysts expect the company to report revenue of $758.3 million, according to data from Benzinga Pro.\n",
            "The company reported revenue of $668.9 million in the second quarter of last year and revenue of $726.7 million in the first quarter of the current fiscal year.\n",
            "The company has beaten seven and missed five of the last 12 quarters for revenue estimates, including missing four of the last six quarters.\n",
            "Analysts expect the company to report second quarter earnings per share of 83 cents. The company reported earnings of 74 cents per share in the second quarter of last year and earnings per share of 67 cents in the first quarter of the current fiscal year.\n",
            "Over the last 11 quarters, Five Below has beat analysts’ EPS estimates in nine quarters, missed in one quarter and matched in one quarter.\n",
            "The company previously forecasted for second quarter revenue to come in the range of $755 million to $765 million.\n",
            "Turning to Dollar General, they're set to report second quarter financial results before market open on Thursday, Aug. 31.\n",
            "Analysts expect the company to report second quarter revenue of $9.9 billion. The company reported revenue of $9.4 billion in the second quarter of last year and reported revenue of $9.3 billion in the first quarter of the current fiscal year.\n",
            "Dollar General has beaten revenue estimates in three of the last ...Full story available on Benzinga.com\n",
            "3 :  2023-08-28T19:19:00Z| ['JETS', 'AAL']| American Airlines fined for leaving thousands stranded on tarmac| American Airlines Group Inc. was fined $4.1 million for keeping thousands of passengers sitting in planes on the tarmac for hours without a chance to deplane.\n",
            "4 :  2023-08-28T19:13:02Z| ['UBER', 'DASH']| Uber Eats To Roll Out AI Companion That Will Help You Pick Your Next Meal| With the rapid rise of artificial intelligence tools available, more and more companies are looking for ways to integrate the potentially transformative technology into their businesses. Uber Eats is no different. \n",
            "Uber Eats is preparing to roll out an AI-powered chatbot that will help you decide what to eat for your next meal, according to a Bloomberg report. The report states that details of Uber’s AI chatbot were ...\n",
            "5 :  2023-08-28T19:12:12Z| ['ESPR', 'XERS', 'AKBA']| 3 Penny Stocks To Buy According To Analysts, Targets Up To 1,494%| Analysts say these are penny stocks to buy but are they worth the risk?\n",
            "The post 3 Penny Stocks To Buy According To Analysts, Targets Up To 1,494% appeared first on Penny Stocks to Buy, Picks, News and Information | PennyStocks.com.\n",
            "6 :  2023-08-28T19:00:22Z| ['NVCR', 'GDC', 'HT', 'HE', 'IDEX', 'AGIL']| Dow Gains Over 100 Points; Hawaiian Electric Shares Surge| U.S. stocks traded higher toward the end of trading, with the Dow Jones gaining over 100 points on Monday.\n",
            "The Dow traded up 0.42% to 34,490.80 while the NASDAQ rose 0.62% to 13,674.49. The S&P 500, also rose, gaining, 0.42% to 4,424.26.\n",
            "Check This Out:  Top 5 Tech Stocks That May Plunge This Quarter\n",
            " \n",
            "Leading and Lagging Sectors\n",
            "\n",
            "Real estate shares jumped by 0.9% on Monday.\n",
            "In trading on Monday, consumer discretionary shares fell by 0.2%.\n",
            " \n",
            "Top Headline\n",
            "\n",
            "Hersha Hospitality Trust  (NYSE: HT) announced a merger with KSL Capital Partners LLC, an investor in travel and leisure businesses.\n",
            " \n",
            "Equities Trading UP\n",
            "\n",
            "Hawaiian Electric Industries, Inc. (NYSE: HE) shares shot up 40% to $13.52 after the company released an in-depth response to the lawsuit recently filed by the County of Maui surrounding the tragic fires on August 8.\n",
            "Shares of  GD Culture Group Limited  (NASDAQ: GDC) got a boost, shooting 43% to $3.64 after it announced the launch of live-streaming e-commerce business on TikTok, a popular social media platform.\n",
            "Hersha Hospitality Trust  (NYSE: HT) shares were also up, gaining 56% to $9.81 ...\n",
            "7 :  2023-08-28T18:54:00Z| ['IRBO', 'ARKK']| Is ARK Innovation ETF Still a Top Buy?| The innovation-focused ETF might be an ideal choice for growth investors who value expert guidance.\n",
            "8 :  2023-08-28T18:44:00Z| ['RPT', 'KIM']| Why RPT Realty Stock Soared Today| RPT Realty agreed to be acquired by Kimco in an all-stock transaction.\n",
            "9 :  2023-08-28T18:13:19Z| ['MTSI', 'WOLF']| Why MACOM Technology Is A 'Buy': Analyst Upgrades MTSI With $92 Price Target Post-Wolfspeed Acquisition| Benchmark analyst David Williams upgraded MACOM Technology Solutions Holdings Inc. (NASDAQ: MTSI) to Buy from Hold, with a price target of $92.\n",
            "The analyst is bullish on MTSI acquiring radio frequency business from Wolfspeed Inc (NYSE: WOLF) for $125 million.\n",
            "The analyst expects the company to garner an annualized EPS accretion of about $0.58 post-full integration if gross ...Full story available on Benzinga.com\n",
            "10 :  2023-08-28T17:52:48Z| ['LQR', 'YS', 'NURO', 'BNOX', 'VFS', 'RAD', 'AEHR', 'HT', 'FLJ', 'AIXI', 'IDEX', 'SLNA', 'NKLA', 'UPWK', 'SGMO', 'FFIE', 'MCOM', 'HLGN', 'PLSE', 'BV', 'SCLX', 'NVAX', 'METX', 'AGIL', 'NVCR', 'IMCC', 'JBL', 'THRN', 'GDC', 'HE', 'RPT', 'RETO', 'ELIQ', 'VHNA', 'OPT', 'APM', 'MULN', 'GNS', 'BGLC']| Why NovoCure Are Trading Lower By Around 31%? Here Are Other Stocks Moving In Monday's Mid-Day Session| Gainers\n",
            "\n",
            "Mobile Infrastructure Corporation (NASDAQ: BEEP) shares jumped 98.7% to $12.02.\n",
            "GD Culture Group Limited  (NASDAQ: GDC) gained 61.8% to $4.11 after it announced the launch of live-streaming e-commerce business on TikTok, a popular social media platform.\n",
            "Hersha Hospitality Trust  (NYSE: HT) shares climbed 56.5% to $9.82 after it announced a merger with KSL Capital Partners LLC, an investor in travel and leisure businesses.\n",
            "Bionomics Limited (NASDAQ: BNOX) rose 54% to $2.3550.\n",
            "Hawaiian Electric Industries, Inc. (NYSE: HE) gained 41.8% to $13.70 after the company released an in-depth response to the lawsuit recently filed by the County of Maui surrounding the tragic fires on August 8.\n",
            "Genius Group Limited (NYSE: GNS) shares climbed 35.6% to $1.98 after jumping 29% on Friday.\n",
            "Thorne HealthTech, Inc. (NASDAQ: THRN) gained 29.3% to $10.10 after the company entered an agreement to be acquired by L Catterton for $10.20 per share in cash.\n",
            "Micromobility.com Inc. (NASDAQ: MCOM) shares climbed 28.5% to $0.1028 after gaining 20% on Friday.\n",
            "LQR House Inc.  (NASDAQ: LQR) shares climbed 27.5% to $1.30. The company's board authorized a share repurchase program, along with an innovative marketing partnership with Gold Standard Media.\n",
            "IM Cannabis Corp. (NASDAQ: IMCC) rose 22.4% to $0.8450.\n",
            "Selina Hospitality PLC (NASDAQ: SLNA) gained 22.2% to $0.6601. Globant S.A. recently inked a global corporate brand partnership with Selina Hospitality.\n",
            "RPT Realty (NYSE: RPT) rose 20% to $11.48. Kimco Realty penned a merger agreement to acquire RPT Realty in an all-stock transaction for around $2 billion, including the assumption of debt and preferred stock.\n",
            "VinFast Auto Ltd. (NASDAQ:\n",
            "11 :  2023-08-28T17:41:00Z| ['FLS', 'AOS', 'GHM']| A. O. Smith (AOS) Up Nearly 22% YTD: Will the Trend Last?| Improving supply chains and strong demand for commercial and residential water heaters are expected to aid A. O. Smith (AOS). Lower boiler sales in North America raises concerns.\n",
            "12 :  2023-08-28T17:40:00Z| ['CHUY', 'QSR', 'ANF', 'BJRI']| Here's Why You Should Retain Restaurant Brands (QSR) Stock Now| Restaurant Brands (QSR) is poised to benefit from digitalization and expansion efforts. Yet, inflationary pressures are a concern.\n",
            "13 :  2023-08-28T17:32:05Z| ['IREN', 'MSTR', 'HUT', 'ICFI', 'ACIW', 'LPRO', 'CIFR', 'PGY', 'NVEI', 'CNXC', 'HIVE']| Why FinTech and Digital Payments Are the Future: Analyst's Issues Buy Ratings on Related Stocks| Canaccord analyst Joseph Vafi reiterated a Buy rating on digital asset stocks, including Cipher Mining Inc (NASDAQ: CIFR), HIVE Digital Technologies Ltd (NASDAQ: HIVE), Hut 8 Mining Corp (NASDAQ: HUT), Iris Energy Limited (NASDAQ: IREN).\n",
            "The analyst also maintained a Buy rating on financial technology stocks, including ACI Worldwide, Inc (NASDAQ: ACIW), Open Lending Corp (NASDAQ: LPRO), Nuvei Corp (NASDAQ: NVEI), Payfare, Inc (OTC: PYFRF) and Pagaya Technologies Ltd (NASDAQ: PGY).\n",
            "Vafi also reaffirmed a Buy rating on IT and business services stocks, including Concentrix Corp (NASDAQ: CNXC) and ICF International, Inc (NASDAQ: ICFI).\n",
            "The analyst rerated after hosting ~28 fireside chats across FinTech, Digital Assets, and Tech Services.\n",
            "Many companies use this slow growth period to boost their competitive positioning, take share, and prepare themselves ...Full story available on Benzinga.com\n",
            "14 :  2023-08-28T17:30:44Z| ['BSX', 'XLRE', 'SPY', 'HZNP', 'XPEV', 'TME', 'UUP', 'TLT', 'AMGN', 'XLY', 'XLI', 'XLU', 'DIA', 'NVDA', 'BABA', 'MMM', 'XLB', 'FEZ', 'HE', 'FXE', 'QQQ', 'BIDU']| US Stocks Grind Higher As China Cuts Taxes On Trading, Eyes Further Stimulus: What's Driving Markets Monday?| Wall Street kicked off the week positively, boosted by an improvement in global risk sentiment following China’s announcement of a 50% reduction in the stamp duty on domestic stocks and guidelines for relaxing residential housing loans over the weekend.\n",
            "By midday trading in New York, all major U.S. stock indices were in positive territory, with sectors tied to growth such as real estate, materials and industrials showing better performance compared to the rest of the market.\n",
            "Chinese companies listed on U.S. exchanges experienced a rally, with Tencent Music Entertainment Group (NYSE:TME) surging by 7.3%, Baidu, Inc. (NASDAQ:BIDU) rising by 3.3% and Alibaba Group Holdings, Inc. (NYSE:BABA) gaining 2.5%.\n",
            "During last week’s Jackson Hole Symposium, Fed Chair Jerome Powell indicated the Federal Reserve is ready to raise interest rates further if necessary. Yet he also emphasized the importance of proceeding cautiously to bring inflation back to the target of 2%. Traders interpreted this as a signal for a potential rate pause in September and a close call between a rate hike and a hold in November.\n",
            "Cues From Monday’s Trading:\n",
            "The Dow added 150 points or 0.44%, slightly outperforming both the S&P 500 Index, up 0.3%, and the Nasdaq 100, up 0.2%. \n",
            "Small caps are the bright spot, with the Russell 2000 index up 0.9%. \n",
            "      ...Full story available on Benzinga.com\n",
            "15 :  2023-08-28T17:19:00Z| ['CFBK', 'BPRN', 'CASH']| Pathward Financial (CASH) Announces New Share Repurchase Plan| Pathward Financial (CASH) introduces a new share repurchase program, authorizing the repurchase of 7 million shares. This is expected to boost shareholders' confidence in the stock.\n",
            "16 :  2023-08-28T17:09:00Z| ['SYBT', 'CCBG', 'VRTS']| Capital City (CCBG) Rewards Shareholders With Dividend Hike| Boosting shareholder wealth, Capital City (CCBG) announces an 11.1% increase in its quarterly dividends. Its decent capital position is expected to support the latest hike.\n",
            "17 :  2023-08-28T17:01:00Z| ['HURN', 'FC', 'CRAI']| 3 Stocks to Buy From the Booming Consulting Services Industry| With service activities remaining healthy, the Zacks Consulting Services industry is poised to prosper. HURN, CRAI and FC are three stocks that are well-placed to ride the demand strength.\n",
            "18 :  2023-08-28T17:00:00Z| ['TU', 'T']| TELUS expands community boards in Alberta, empowering more youth to reach their full potential| Expansions will support more than 4.7 million Albertans across the province, opening up new opportunities that help make life-changing connections and nurture a sense of belonging\n",
            "19 :  2023-08-28T17:00:00Z| ['RATE', 'PFIX', 'TFLO', 'RISR', 'CPII']| Fed Warns of More Rate Hikes to Tame Inflation: ETFs to Buy| Federal Reserve Chair Jerome Powell emphasized the need for continued vigilance in the battle against inflation in a meeting in Jackson Hole.\n"
          ]
        }
      ]
    },
    {
      "cell_type": "code",
      "source": [
        "#empirical thing - as tokens are counted for input AND output - > we need some number less 16k\n",
        "#  we can do less MAX_WORDS - to make sure we're below total 16k tokens used\n",
        "def get_message_chunks_indexes(news_list, MAX_WORDS = 6000):\n",
        "  rez = [0]\n",
        "  cur_words = 0\n",
        "  for i,elem in enumerate(news_list):\n",
        "    cur_elem_len = len(elem.split(' '))\n",
        "    if cur_words + cur_elem_len >MAX_WORDS:\n",
        "      rez.append(i)\n",
        "      cur_words = cur_elem_len\n",
        "    else:\n",
        "      cur_words += cur_elem_len\n",
        "  return rez"
      ],
      "metadata": {
        "id": "R29us2vZL3_0"
      },
      "execution_count": null,
      "outputs": []
    },
    {
      "cell_type": "code",
      "source": [
        "chunks_day = get_message_chunks_indexes(market_summary_desc_last_day[market_summary_key_last_day])\n",
        "chunks_day_for_gpt4 = get_message_chunks_indexes(market_summary_desc_last_day[market_summary_key_last_day], MAX_WORDS=3000)\n",
        "chunks_week = get_message_chunks_indexes(market_summary_desc_week[market_summary_key_week])\n",
        "print(f'Chunks for market summary last day: {chunks_day}')\n",
        "print(f'Chunks for market summary last day for GPT-4: {chunks_day_for_gpt4}')\n",
        "print(f'Chunks for market summary last week: {chunks_week}')"
      ],
      "metadata": {
        "id": "LVWFr6jSM-Nr",
        "colab": {
          "base_uri": "https://localhost:8080/"
        },
        "outputId": "d7804b57-4d7a-4816-adce-47e89cdeaf2a"
      },
      "execution_count": null,
      "outputs": [
        {
          "output_type": "stream",
          "name": "stdout",
          "text": [
            "Chunks for market summary last day: [0, 96, 222]\n",
            "Chunks for market summary last day for GPT-4: [0, 38, 96, 155, 222]\n",
            "Chunks for market summary last week: [0, 96, 222, 367, 483, 608, 681, 809, 931, 1034, 1145, 1292, 1402, 1504, 1625, 1730, 1851, 1988, 2107]\n"
          ]
        }
      ]
    },
    {
      "cell_type": "code",
      "source": [
        "def get_prompts_for_market_data(news_list, chunks):\n",
        "  rez =[]\n",
        "  if chunks == [0]: #only one element - return full list\n",
        "    rez.append(\";\".join(news_list))\n",
        "  else:\n",
        "    for i in range(len(chunks)-1):\n",
        "      p = news_list[chunks[i]: chunks[i+1]]\n",
        "      rez.append(\";\".join(p))\n",
        "  return rez"
      ],
      "metadata": {
        "id": "kK-e_vbbNHTp"
      },
      "execution_count": null,
      "outputs": []
    },
    {
      "cell_type": "code",
      "source": [
        "market_summary_prompts_last_day = get_prompts_for_market_data(market_summary_desc_last_day[market_summary_key_last_day],chunks_day)\n",
        "market_summary_prompts_last_day_for_gpt4 = get_prompts_for_market_data(market_summary_desc_last_day[market_summary_key_last_day],chunks_day_for_gpt4)\n",
        "market_summary_prompts_week = get_prompts_for_market_data(market_summary_desc_week[market_summary_key_week],chunks_week)"
      ],
      "metadata": {
        "id": "VLfZh4CONzDS"
      },
      "execution_count": null,
      "outputs": []
    },
    {
      "cell_type": "code",
      "source": [
        "# count words in the prompt with the news:\n",
        "len(market_summary_prompts_last_day[0].split(' '))"
      ],
      "metadata": {
        "id": "lMQQ8D3gOPHt",
        "colab": {
          "base_uri": "https://localhost:8080/"
        },
        "outputId": "a366fbe6-32fe-4658-be5d-1cf591d0ff0e"
      },
      "execution_count": null,
      "outputs": [
        {
          "output_type": "execute_result",
          "data": {
            "text/plain": [
              "5828"
            ]
          },
          "metadata": {},
          "execution_count": 31
        }
      ]
    },
    {
      "cell_type": "code",
      "source": [
        "len(market_summary_prompts_week[0].split(' '))"
      ],
      "metadata": {
        "id": "z39DhMmrb-FA",
        "colab": {
          "base_uri": "https://localhost:8080/"
        },
        "outputId": "b8f4de9e-ca6e-4768-bd18-8408c3e8963f"
      },
      "execution_count": null,
      "outputs": [
        {
          "output_type": "execute_result",
          "data": {
            "text/plain": [
              "5828"
            ]
          },
          "metadata": {},
          "execution_count": 32
        }
      ]
    },
    {
      "cell_type": "code",
      "source": [
        "# count words in the prompt with the news:\n",
        "len(market_summary_prompts_last_day_for_gpt4[0].split(' '))"
      ],
      "metadata": {
        "colab": {
          "base_uri": "https://localhost:8080/"
        },
        "id": "pl0M93Kx5B1n",
        "outputId": "d31ad1fe-5e71-450e-ed34-97f713e141df"
      },
      "execution_count": null,
      "outputs": [
        {
          "output_type": "execute_result",
          "data": {
            "text/plain": [
              "2943"
            ]
          },
          "metadata": {},
          "execution_count": 33
        }
      ]
    },
    {
      "cell_type": "code",
      "source": [
        "# generate the dictionary for all descriptions\n",
        "def get_individual_descriptions_concat(df, max_indiv_stocks = 20):\n",
        "  all_descs={}\n",
        "  descs =[]\n",
        "  used_news = 0\n",
        "\n",
        "  for e in sorted_dd[0:max_indiv_stocks]:\n",
        "    print(e[0], e[1])\n",
        "    ticker = e[0]\n",
        "    descs =[]\n",
        "    used_news = 0\n",
        "    for i in range(len(df)):\n",
        "      elem = df.iloc[i]\n",
        "      if ticker in elem.tickers_adj and len(elem.tickers_adj)==1:\n",
        "        descs.append(str(elem.published_utc)+ '| ' + str(elem.tickers_adj) + '| ' + str(elem.title)+ '| ' +str(elem.description))\n",
        "        used_news+=1\n",
        "    print(f' Ticker {e[0]}, used news = {used_news}, length news words = {len(\";\".join(descs).split(\" \"))}')\n",
        "    new_e = (e[0], used_news)\n",
        "    all_descs[new_e] = descs\n",
        "\n",
        "  return all_descs"
      ],
      "metadata": {
        "id": "jx0toqwL-kNC"
      },
      "execution_count": null,
      "outputs": []
    },
    {
      "cell_type": "code",
      "source": [
        "indiv_tickers_summary_desc = get_individual_descriptions_concat(all_news)"
      ],
      "metadata": {
        "id": "GvCFEpqk5NG2",
        "colab": {
          "base_uri": "https://localhost:8080/"
        },
        "outputId": "19881003-be85-46df-f7f5-ac70309da5d6"
      },
      "execution_count": null,
      "outputs": [
        {
          "output_type": "stream",
          "name": "stdout",
          "text": [
            "NVDA 283\n",
            " Ticker NVDA, used news = 52, length news words = 2476\n",
            "AMZN 157\n",
            " Ticker AMZN, used news = 23, length news words = 819\n",
            "AAPL 139\n",
            " Ticker AAPL, used news = 18, length news words = 621\n",
            "MSFT 116\n",
            " Ticker MSFT, used news = 4, length news words = 120\n",
            "TSLA 103\n",
            " Ticker TSLA, used news = 23, length news words = 1318\n",
            "GOOGL 92\n",
            " Ticker GOOGL, used news = 0, length news words = 1\n",
            "SPY 74\n",
            " Ticker SPY, used news = 14, length news words = 1543\n",
            "GOOG 74\n",
            " Ticker GOOG, used news = 10, length news words = 364\n",
            "AMD 66\n",
            " Ticker AMD, used news = 10, length news words = 386\n",
            "META 63\n",
            " Ticker META, used news = 7, length news words = 241\n",
            "PANW 59\n",
            " Ticker PANW, used news = 14, length news words = 655\n",
            "WMT 58\n",
            " Ticker WMT, used news = 4, length news words = 245\n",
            "DJIA 54\n",
            " Ticker DJIA, used news = 11, length news words = 418\n",
            "COMP 52\n",
            " Ticker COMP, used news = 3, length news words = 93\n",
            "AEO 51\n",
            " Ticker AEO, used news = 2, length news words = 58\n",
            "DIS 46\n",
            " Ticker DIS, used news = 13, length news words = 578\n",
            "TGT 46\n",
            " Ticker TGT, used news = 7, length news words = 176\n",
            "QQQ 44\n",
            " Ticker QQQ, used news = 1, length news words = 39\n",
            "CRM 44\n",
            " Ticker CRM, used news = 4, length news words = 251\n",
            "FL 43\n",
            " Ticker FL, used news = 8, length news words = 279\n"
          ]
        }
      ]
    },
    {
      "cell_type": "code",
      "source": [
        "indiv_tickers_summary_desc.keys()\n",
        "\n",
        "# 10th Jul: dict_keys([('META', 34), ('NVDA', 24), ('TSLA', 22), ('AMZN', 15), ('AAPL', 15), ('CRM', 13), ('GOOGL', 12), ('MSFT', 12), ('SPY', 11), ('AMD', 9), ('GOOG', 9), ('DJIA', 9), ('AAL', 9), ('QQQ', 8), ('F', 8), ('GM', 8), ('EPM', 8), ('WFC', 7), ('XOM', 7), ('INTC', 7)])\n"
      ],
      "metadata": {
        "id": "98Cl96HV_i5f",
        "colab": {
          "base_uri": "https://localhost:8080/"
        },
        "outputId": "32129a04-f55f-4cc0-a8c0-369f9b31827d"
      },
      "execution_count": null,
      "outputs": [
        {
          "output_type": "execute_result",
          "data": {
            "text/plain": [
              "dict_keys([('NVDA', 52), ('AMZN', 23), ('AAPL', 18), ('MSFT', 4), ('TSLA', 23), ('GOOGL', 0), ('SPY', 14), ('GOOG', 10), ('AMD', 10), ('META', 7), ('PANW', 14), ('WMT', 4), ('DJIA', 11), ('COMP', 3), ('AEO', 2), ('DIS', 13), ('TGT', 7), ('QQQ', 1), ('CRM', 4), ('FL', 8)])"
            ]
          },
          "metadata": {},
          "execution_count": 36
        }
      ]
    },
    {
      "cell_type": "code",
      "source": [
        "random.choice(list(indiv_tickers_summary_desc.keys()))"
      ],
      "metadata": {
        "id": "ResxDbWn-LD6",
        "colab": {
          "base_uri": "https://localhost:8080/"
        },
        "outputId": "53f686e5-2907-4bc4-f13f-54437486766b"
      },
      "execution_count": null,
      "outputs": [
        {
          "output_type": "execute_result",
          "data": {
            "text/plain": [
              "('PANW', 14)"
            ]
          },
          "metadata": {},
          "execution_count": 37
        }
      ]
    },
    {
      "cell_type": "code",
      "source": [
        "# one random Ticker to analyse:\n",
        "random_key = random.choice(list(indiv_tickers_summary_desc.keys()))\n",
        "# random.choice(list(indiv_tickers_summary_desc.keys()))\n",
        "random_ticker_news_array = indiv_tickers_summary_desc[random_key]\n",
        "random_ticker_joined_news = ';'.join(random_ticker_news_array)\n",
        "print(f'Selected <ticker, news_count>:{random_key}, with total length {len(random_ticker_joined_news.split(\" \"))}')"
      ],
      "metadata": {
        "id": "JAxYjrkm83ap",
        "colab": {
          "base_uri": "https://localhost:8080/"
        },
        "outputId": "e8ce7072-e384-466d-fa79-9c00658939e8"
      },
      "execution_count": null,
      "outputs": [
        {
          "output_type": "stream",
          "name": "stdout",
          "text": [
            "Selected <ticker, news_count>:('CRM', 4), with total length 251\n"
          ]
        }
      ]
    },
    {
      "cell_type": "code",
      "source": [
        "# https://stackoverflow.com/questions/11418192/pandas-complex-filter-on-rows-of-dataframe\n",
        "# Look in the dataframe for the news about the random_ticker\n",
        "all_news.loc[all_news['tickers'].apply(lambda x: True if len(x)==1 and x[0]==random_key[0] else False)].head(1)"
      ],
      "metadata": {
        "id": "hbeg6qpjm5jU",
        "colab": {
          "base_uri": "https://localhost:8080/",
          "height": 153
        },
        "outputId": "8196b01d-4d58-477d-a95b-75bd5794db21"
      },
      "execution_count": null,
      "outputs": [
        {
          "output_type": "execute_result",
          "data": {
            "text/plain": [
              "                                              id  \\\n",
              "274  1_GbB0PB-eSRV7_cAy5F5mYLrfD8Y64py1Q3hQbm7jg   \n",
              "\n",
              "                                                 title                 author  \\\n",
              "274  Should You Invest in Salesforce.com (CRM) Base...  Zacks Equity Research   \n",
              "\n",
              "            published_utc                                        article_url  \\\n",
              "274  2023-08-28T13:30:06Z  https://www.zacks.com/stock/news/2141297/shoul...   \n",
              "\n",
              "    tickers                                            amp_url  \\\n",
              "274   [CRM]  https://www.zacks.com/amp/stock/news/2141297/s...   \n",
              "\n",
              "                                             image_url  \\\n",
              "274  https://staticx-tuner.zacks.com/images/default...   \n",
              "\n",
              "                                           description keywords  \\\n",
              "274  According to the average brokerage recommendat...      NaN   \n",
              "\n",
              "                publisher.name  publisher.homepage_url  \\\n",
              "274  Zacks Investment Research  https://www.zacks.com/   \n",
              "\n",
              "                                    publisher.logo_url  \\\n",
              "274  https://s3.polygon.io/public/assets/news/logos...   \n",
              "\n",
              "                                 publisher.favicon_url tickers_adj  \n",
              "274  https://s3.polygon.io/public/assets/news/favic...       [CRM]  "
            ],
            "text/html": [
              "\n",
              "  <div id=\"df-79b816a1-7f58-4733-b2bf-bd5757776767\" class=\"colab-df-container\">\n",
              "    <div>\n",
              "<style scoped>\n",
              "    .dataframe tbody tr th:only-of-type {\n",
              "        vertical-align: middle;\n",
              "    }\n",
              "\n",
              "    .dataframe tbody tr th {\n",
              "        vertical-align: top;\n",
              "    }\n",
              "\n",
              "    .dataframe thead th {\n",
              "        text-align: right;\n",
              "    }\n",
              "</style>\n",
              "<table border=\"1\" class=\"dataframe\">\n",
              "  <thead>\n",
              "    <tr style=\"text-align: right;\">\n",
              "      <th></th>\n",
              "      <th>id</th>\n",
              "      <th>title</th>\n",
              "      <th>author</th>\n",
              "      <th>published_utc</th>\n",
              "      <th>article_url</th>\n",
              "      <th>tickers</th>\n",
              "      <th>amp_url</th>\n",
              "      <th>image_url</th>\n",
              "      <th>description</th>\n",
              "      <th>keywords</th>\n",
              "      <th>publisher.name</th>\n",
              "      <th>publisher.homepage_url</th>\n",
              "      <th>publisher.logo_url</th>\n",
              "      <th>publisher.favicon_url</th>\n",
              "      <th>tickers_adj</th>\n",
              "    </tr>\n",
              "  </thead>\n",
              "  <tbody>\n",
              "    <tr>\n",
              "      <th>274</th>\n",
              "      <td>1_GbB0PB-eSRV7_cAy5F5mYLrfD8Y64py1Q3hQbm7jg</td>\n",
              "      <td>Should You Invest in Salesforce.com (CRM) Base...</td>\n",
              "      <td>Zacks Equity Research</td>\n",
              "      <td>2023-08-28T13:30:06Z</td>\n",
              "      <td>https://www.zacks.com/stock/news/2141297/shoul...</td>\n",
              "      <td>[CRM]</td>\n",
              "      <td>https://www.zacks.com/amp/stock/news/2141297/s...</td>\n",
              "      <td>https://staticx-tuner.zacks.com/images/default...</td>\n",
              "      <td>According to the average brokerage recommendat...</td>\n",
              "      <td>NaN</td>\n",
              "      <td>Zacks Investment Research</td>\n",
              "      <td>https://www.zacks.com/</td>\n",
              "      <td>https://s3.polygon.io/public/assets/news/logos...</td>\n",
              "      <td>https://s3.polygon.io/public/assets/news/favic...</td>\n",
              "      <td>[CRM]</td>\n",
              "    </tr>\n",
              "  </tbody>\n",
              "</table>\n",
              "</div>\n",
              "    <div class=\"colab-df-buttons\">\n",
              "\n",
              "  <div class=\"colab-df-container\">\n",
              "    <button class=\"colab-df-convert\" onclick=\"convertToInteractive('df-79b816a1-7f58-4733-b2bf-bd5757776767')\"\n",
              "            title=\"Convert this dataframe to an interactive table.\"\n",
              "            style=\"display:none;\">\n",
              "\n",
              "  <svg xmlns=\"http://www.w3.org/2000/svg\" height=\"24px\" viewBox=\"0 -960 960 960\">\n",
              "    <path d=\"M120-120v-720h720v720H120Zm60-500h600v-160H180v160Zm220 220h160v-160H400v160Zm0 220h160v-160H400v160ZM180-400h160v-160H180v160Zm440 0h160v-160H620v160ZM180-180h160v-160H180v160Zm440 0h160v-160H620v160Z\"/>\n",
              "  </svg>\n",
              "    </button>\n",
              "\n",
              "  <style>\n",
              "    .colab-df-container {\n",
              "      display:flex;\n",
              "      gap: 12px;\n",
              "    }\n",
              "\n",
              "    .colab-df-convert {\n",
              "      background-color: #E8F0FE;\n",
              "      border: none;\n",
              "      border-radius: 50%;\n",
              "      cursor: pointer;\n",
              "      display: none;\n",
              "      fill: #1967D2;\n",
              "      height: 32px;\n",
              "      padding: 0 0 0 0;\n",
              "      width: 32px;\n",
              "    }\n",
              "\n",
              "    .colab-df-convert:hover {\n",
              "      background-color: #E2EBFA;\n",
              "      box-shadow: 0px 1px 2px rgba(60, 64, 67, 0.3), 0px 1px 3px 1px rgba(60, 64, 67, 0.15);\n",
              "      fill: #174EA6;\n",
              "    }\n",
              "\n",
              "    .colab-df-buttons div {\n",
              "      margin-bottom: 4px;\n",
              "    }\n",
              "\n",
              "    [theme=dark] .colab-df-convert {\n",
              "      background-color: #3B4455;\n",
              "      fill: #D2E3FC;\n",
              "    }\n",
              "\n",
              "    [theme=dark] .colab-df-convert:hover {\n",
              "      background-color: #434B5C;\n",
              "      box-shadow: 0px 1px 3px 1px rgba(0, 0, 0, 0.15);\n",
              "      filter: drop-shadow(0px 1px 2px rgba(0, 0, 0, 0.3));\n",
              "      fill: #FFFFFF;\n",
              "    }\n",
              "  </style>\n",
              "\n",
              "    <script>\n",
              "      const buttonEl =\n",
              "        document.querySelector('#df-79b816a1-7f58-4733-b2bf-bd5757776767 button.colab-df-convert');\n",
              "      buttonEl.style.display =\n",
              "        google.colab.kernel.accessAllowed ? 'block' : 'none';\n",
              "\n",
              "      async function convertToInteractive(key) {\n",
              "        const element = document.querySelector('#df-79b816a1-7f58-4733-b2bf-bd5757776767');\n",
              "        const dataTable =\n",
              "          await google.colab.kernel.invokeFunction('convertToInteractive',\n",
              "                                                    [key], {});\n",
              "        if (!dataTable) return;\n",
              "\n",
              "        const docLinkHtml = 'Like what you see? Visit the ' +\n",
              "          '<a target=\"_blank\" href=https://colab.research.google.com/notebooks/data_table.ipynb>data table notebook</a>'\n",
              "          + ' to learn more about interactive tables.';\n",
              "        element.innerHTML = '';\n",
              "        dataTable['output_type'] = 'display_data';\n",
              "        await google.colab.output.renderOutput(dataTable, element);\n",
              "        const docLink = document.createElement('div');\n",
              "        docLink.innerHTML = docLinkHtml;\n",
              "        element.appendChild(docLink);\n",
              "      }\n",
              "    </script>\n",
              "  </div>\n",
              "\n",
              "    </div>\n",
              "  </div>\n"
            ]
          },
          "metadata": {},
          "execution_count": 39
        }
      ]
    },
    {
      "cell_type": "code",
      "source": [
        "# Summary of news: ARRAY OF <ticker| news title| news description>\n",
        "random_ticker_news_array"
      ],
      "metadata": {
        "id": "hndZ4Q_t7qr0",
        "colab": {
          "base_uri": "https://localhost:8080/"
        },
        "outputId": "7d768ca1-8f40-4cbe-e502-407e7dd5c3fa"
      },
      "execution_count": null,
      "outputs": [
        {
          "output_type": "execute_result",
          "data": {
            "text/plain": [
              "[\"2023-08-28T13:30:06Z| ['CRM']| Should You Invest in Salesforce.com (CRM) Based on Bullish Wall Street Views?| According to the average brokerage recommendation (ABR), one should invest in Salesforce.com (CRM). It is debatable whether this highly sought-after metric is effective because Wall Street analysts' recommendations tend to be overly optimistic. Would it be worth investing in the stock?\",\n",
              " \"2023-08-24T18:03:58Z| ['CRM']| What To Expect From Salesforce Q2? Analyst Sees Mixed Business Trends| Oppenheimer\\xa0analyst Brian Schwartz reiterated an Outperform rating on\\xa0Salesforce, Inc.\\xa0(NYSE: CRM) with a\\xa0price target of $235.\\nThe earnings risk for CRM weighs slightly positive ahead of 2Q results despite his recent field checks pointing to mixed business trends for Salesforce and with investor expectations at higher levels for this earnings report.\\xa0\\nPositively, the analyst detected improvement in the demand environment and possibly stabilizing trends in the sales operations for Salesforce in 2Q.\\xa0\\nAlso, the estimated bar is low for Salesforce this quarter. Schwartz thinks there are enough positives in the business trends and bookings performance detected in his field checks, Marketing Cloud customer survey, the set-ups, and read-throughs from company ...Full story available on Benzinga.com\",\n",
              " \"2023-08-22T21:45:13Z| ['CRM']| Salesforce.com (CRM) Dips More Than Broader Markets: What You Should Know| In the latest trading session, Salesforce.com (CRM) closed at $206.76, marking a -1.09% move from the previous day.\",\n",
              " \"2023-08-21T13:00:11Z| ['CRM']| Investors Heavily Search Salesforce Inc. (CRM): Here is What You Need to Know| Salesforce.com (CRM) has received quite a bit of attention from Zacks.com users lately. Therefore, it is wise to be aware of the facts that can impact the stock's prospects.\"]"
            ]
          },
          "metadata": {},
          "execution_count": 40
        }
      ]
    },
    {
      "cell_type": "markdown",
      "source": [
        "# OPENAI.COM"
      ],
      "metadata": {
        "id": "7qewEft3fBZu"
      }
    },
    {
      "cell_type": "code",
      "source": [
        "# setting up a key\n",
        "openai.api_key = OPENAI_API_KEY"
      ],
      "metadata": {
        "id": "ZEBLZYAS7wxH"
      },
      "execution_count": null,
      "outputs": []
    },
    {
      "cell_type": "markdown",
      "source": [
        "# 0) Text completion several models:"
      ],
      "metadata": {
        "id": "t_esFWDDyV04"
      }
    },
    {
      "cell_type": "code",
      "source": [
        "# list of the available models - we'll use gpt-3.5-turbo-16k or gpt-4 (8k)\n",
        "list_models = openai.Model.list()\n",
        "gpts= [e for e in list_models['data'] if 'gpt' in e.id]\n",
        "[e.root for e in gpts]"
      ],
      "metadata": {
        "id": "PsZNPSIF7t7n",
        "colab": {
          "base_uri": "https://localhost:8080/"
        },
        "outputId": "eb4d976e-e5fa-471c-cdff-c22d0b7b014f"
      },
      "execution_count": null,
      "outputs": [
        {
          "output_type": "execute_result",
          "data": {
            "text/plain": [
              "['gpt-3.5-turbo',\n",
              " 'gpt-3.5-turbo-0613',\n",
              " 'gpt-3.5-turbo-16k-0613',\n",
              " 'gpt-4-0314',\n",
              " 'gpt-4',\n",
              " 'gpt-3.5-turbo-16k',\n",
              " 'gpt-4-0613',\n",
              " 'gpt-3.5-turbo-0301']"
            ]
          },
          "metadata": {},
          "execution_count": 42
        }
      ]
    },
    {
      "cell_type": "code",
      "source": [
        "messages = [\n",
        "    {'role': 'user',\n",
        "     'content': f\"Summarize the news: {random_ticker_joined_news}\"}\n",
        "  ]"
      ],
      "metadata": {
        "id": "7l-0R5vD9Vhg"
      },
      "execution_count": null,
      "outputs": []
    },
    {
      "cell_type": "code",
      "source": [
        "# NEW ENDPOINT: https://platform.openai.com/docs/guides/gpt/chat-completions-api\n",
        "# OLD LEGACY endpoint (until-July'23) https://platform.openai.com/docs/guides/gpt/completions-api\n",
        "# https://stackoverflow.com/questions/75617865/openai-chatgpt-gpt-3-5-api-error-invalidrequesterror-unrecognized-request-a\n",
        "\n",
        "response_turbo_16k = openai.ChatCompletion.create(\n",
        "# openai.Completion.create(\n",
        "  model=\"gpt-3.5-turbo-16k\",\n",
        "  messages = messages,\n",
        "  temperature = 0\n",
        ")"
      ],
      "metadata": {
        "id": "3hBgC5HNy-2F"
      },
      "execution_count": null,
      "outputs": []
    },
    {
      "cell_type": "code",
      "source": [
        "print(f'Command to OpenAI: {messages[0][\"content\"]}, len words = {len(messages[0][\"content\"].split(\" \"))}')\n"
      ],
      "metadata": {
        "id": "sRFKPo6EZYO5",
        "colab": {
          "base_uri": "https://localhost:8080/"
        },
        "outputId": "3fc166e9-2506-4f40-894e-32405f1823a6"
      },
      "execution_count": null,
      "outputs": [
        {
          "output_type": "stream",
          "name": "stdout",
          "text": [
            "Command to OpenAI: Summarize the news: 2023-08-28T13:30:06Z| ['CRM']| Should You Invest in Salesforce.com (CRM) Based on Bullish Wall Street Views?| According to the average brokerage recommendation (ABR), one should invest in Salesforce.com (CRM). It is debatable whether this highly sought-after metric is effective because Wall Street analysts' recommendations tend to be overly optimistic. Would it be worth investing in the stock?;2023-08-24T18:03:58Z| ['CRM']| What To Expect From Salesforce Q2? Analyst Sees Mixed Business Trends| Oppenheimer analyst Brian Schwartz reiterated an Outperform rating on Salesforce, Inc. (NYSE: CRM) with a price target of $235.\n",
            "The earnings risk for CRM weighs slightly positive ahead of 2Q results despite his recent field checks pointing to mixed business trends for Salesforce and with investor expectations at higher levels for this earnings report. \n",
            "Positively, the analyst detected improvement in the demand environment and possibly stabilizing trends in the sales operations for Salesforce in 2Q. \n",
            "Also, the estimated bar is low for Salesforce this quarter. Schwartz thinks there are enough positives in the business trends and bookings performance detected in his field checks, Marketing Cloud customer survey, the set-ups, and read-throughs from company ...Full story available on Benzinga.com;2023-08-22T21:45:13Z| ['CRM']| Salesforce.com (CRM) Dips More Than Broader Markets: What You Should Know| In the latest trading session, Salesforce.com (CRM) closed at $206.76, marking a -1.09% move from the previous day.;2023-08-21T13:00:11Z| ['CRM']| Investors Heavily Search Salesforce Inc. (CRM): Here is What You Need to Know| Salesforce.com (CRM) has received quite a bit of attention from Zacks.com users lately. Therefore, it is wise to be aware of the facts that can impact the stock's prospects., len words = 254\n"
          ]
        }
      ]
    },
    {
      "cell_type": "code",
      "source": [
        "response_turbo_16k"
      ],
      "metadata": {
        "id": "HCUTaa75zwY5",
        "colab": {
          "base_uri": "https://localhost:8080/"
        },
        "outputId": "b01b9eeb-4381-42ac-edbe-31dda42060ec"
      },
      "execution_count": null,
      "outputs": [
        {
          "output_type": "execute_result",
          "data": {
            "text/plain": [
              "<OpenAIObject chat.completion id=chatcmpl-7sdY0DqzpNzeNe8wMmiGJt6GEYnu8 at 0x7e2f655ce020> JSON: {\n",
              "  \"id\": \"chatcmpl-7sdY0DqzpNzeNe8wMmiGJt6GEYnu8\",\n",
              "  \"object\": \"chat.completion\",\n",
              "  \"created\": 1693256088,\n",
              "  \"model\": \"gpt-3.5-turbo-16k-0613\",\n",
              "  \"choices\": [\n",
              "    {\n",
              "      \"index\": 0,\n",
              "      \"message\": {\n",
              "        \"role\": \"assistant\",\n",
              "        \"content\": \"Salesforce.com (CRM) is receiving bullish views from Wall Street analysts, with the average brokerage recommendation suggesting that investors should invest in the stock. However, there is debate over the effectiveness of this metric as analysts' recommendations tend to be overly optimistic. Despite mixed business trends, Oppenheimer analyst Brian Schwartz maintains an Outperform rating on CRM with a price target of $235. He notes improvement in the demand environment and possibly stabilizing trends in sales operations for the company. Salesforce.com's stock closed at $206.76, down 1.09% from the previous day. The stock has been receiving attention from investors, and it is important to be aware of factors that can impact its prospects.\"\n",
              "      },\n",
              "      \"finish_reason\": \"stop\"\n",
              "    }\n",
              "  ],\n",
              "  \"usage\": {\n",
              "    \"prompt_tokens\": 438,\n",
              "    \"completion_tokens\": 141,\n",
              "    \"total_tokens\": 579\n",
              "  }\n",
              "}"
            ]
          },
          "metadata": {},
          "execution_count": 46
        }
      ]
    },
    {
      "cell_type": "code",
      "source": [
        "response_turbo_16k[\"choices\"][0][\"message\"][\"content\"]"
      ],
      "metadata": {
        "id": "xxrjjL5P-A-V",
        "colab": {
          "base_uri": "https://localhost:8080/",
          "height": 140
        },
        "outputId": "c0cc709c-c89b-44e8-a780-b11f11da8466"
      },
      "execution_count": null,
      "outputs": [
        {
          "output_type": "execute_result",
          "data": {
            "text/plain": [
              "\"Salesforce.com (CRM) is receiving bullish views from Wall Street analysts, with the average brokerage recommendation suggesting that investors should invest in the stock. However, there is debate over the effectiveness of this metric as analysts' recommendations tend to be overly optimistic. Despite mixed business trends, Oppenheimer analyst Brian Schwartz maintains an Outperform rating on CRM with a price target of $235. He notes improvement in the demand environment and possibly stabilizing trends in sales operations for the company. Salesforce.com's stock closed at $206.76, down 1.09% from the previous day. The stock has been receiving attention from investors, and it is important to be aware of factors that can impact its prospects.\""
            ],
            "application/vnd.google.colaboratory.intrinsic+json": {
              "type": "string"
            }
          },
          "metadata": {},
          "execution_count": 47
        }
      ]
    },
    {
      "cell_type": "code",
      "source": [
        "response_turbo_16k_0613 = openai.ChatCompletion.create(\n",
        "# openai.Completion.create(\n",
        "  model=\"gpt-3.5-turbo-16k-0613\",\n",
        "  messages = messages,\n",
        "  temperature = 0\n",
        ")\n"
      ],
      "metadata": {
        "id": "PbYXmyOwCWpA"
      },
      "execution_count": null,
      "outputs": []
    },
    {
      "cell_type": "code",
      "source": [
        "# SAME response actually\n",
        "response_turbo_16k_0613"
      ],
      "metadata": {
        "id": "grgq-gM_Ci-H",
        "colab": {
          "base_uri": "https://localhost:8080/"
        },
        "outputId": "e2d7f441-8719-4300-e698-87a10a9a0924"
      },
      "execution_count": null,
      "outputs": [
        {
          "output_type": "execute_result",
          "data": {
            "text/plain": [
              "<OpenAIObject chat.completion id=chatcmpl-7sdY4FHFzBqBPdzVx6oyxhIQnkMFF at 0x7e2f64f67ce0> JSON: {\n",
              "  \"id\": \"chatcmpl-7sdY4FHFzBqBPdzVx6oyxhIQnkMFF\",\n",
              "  \"object\": \"chat.completion\",\n",
              "  \"created\": 1693256092,\n",
              "  \"model\": \"gpt-3.5-turbo-16k-0613\",\n",
              "  \"choices\": [\n",
              "    {\n",
              "      \"index\": 0,\n",
              "      \"message\": {\n",
              "        \"role\": \"assistant\",\n",
              "        \"content\": \"Salesforce.com (CRM) is receiving bullish views from Wall Street analysts, with the average brokerage recommendation suggesting that investors should invest in the stock. However, there is debate over the effectiveness of this metric as analysts' recommendations tend to be overly optimistic. Despite mixed business trends, Oppenheimer analyst Brian Schwartz maintains an Outperform rating on CRM with a price target of $235. He notes improvement in the demand environment and possibly stabilizing trends in sales operations for the company. In the latest trading session, CRM closed at $206.76, down 1.09% from the previous day. The stock has been receiving attention from investors recently, so it is important to be aware of factors that could impact its prospects.\"\n",
              "      },\n",
              "      \"finish_reason\": \"stop\"\n",
              "    }\n",
              "  ],\n",
              "  \"usage\": {\n",
              "    \"prompt_tokens\": 438,\n",
              "    \"completion_tokens\": 145,\n",
              "    \"total_tokens\": 583\n",
              "  }\n",
              "}"
            ]
          },
          "metadata": {},
          "execution_count": 49
        }
      ]
    },
    {
      "cell_type": "markdown",
      "source": [
        "# 1) Analyse individual stocks performance"
      ],
      "metadata": {
        "id": "VWIfgEgxmbEW"
      }
    },
    {
      "cell_type": "code",
      "source": [
        "# https://stackoverflow.com/questions/11418192/pandas-complex-filter-on-rows-of-dataframe\n",
        "all_news.loc[all_news['tickers'].apply(lambda x: True if len(x)==1 and x[0]=='TSLA' else False)].head(2)"
      ],
      "metadata": {
        "id": "xmBgETj-_x6v",
        "colab": {
          "base_uri": "https://localhost:8080/",
          "height": 306
        },
        "outputId": "4bf1d7f8-9b71-4025-c8ab-abeeb68b3d53"
      },
      "execution_count": null,
      "outputs": [
        {
          "output_type": "execute_result",
          "data": {
            "text/plain": [
              "                                               id  \\\n",
              "530   0wPdLQkg5_Wm4ivBCcU4aUhpIDjyK3oQWOAIKuw7mvw   \n",
              "1193  vpzWbs4kvaOhxeziIQCV5YNPz7GWOihpARqqBt8oBmo   \n",
              "\n",
              "                                                  title  \\\n",
              "530                 Good News for Tesla Stock Investors   \n",
              "1193  Doors Open For Elon Musk's Tesla? India Mulls ...   \n",
              "\n",
              "                                      author         published_utc  \\\n",
              "530   newsfeedback@fool.com (Neil Rozenbaum)  2023-08-27T14:00:00Z   \n",
              "1193                             Arpit Nayak  2023-08-25T12:01:46Z   \n",
              "\n",
              "                                            article_url tickers  \\\n",
              "530   https://www.fool.com/investing/2023/08/27/good...  [TSLA]   \n",
              "1193  https://www.benzinga.com/government/23/08/3403...  [TSLA]   \n",
              "\n",
              "                                            amp_url  \\\n",
              "530                                             NaN   \n",
              "1193  https://www.benzinga.com/amp/content/34038927   \n",
              "\n",
              "                                              image_url  \\\n",
              "530   https://g.foolcdn.com/editorial/images/745580/...   \n",
              "1193  https://cdn.benzinga.com/files/images/story/20...   \n",
              "\n",
              "                                            description  \\\n",
              "530   Here's everything you need to know about the e...   \n",
              "1193  This story was first published by the Benzinga...   \n",
              "\n",
              "                                     keywords   publisher.name  \\\n",
              "530                               [investing]  The Motley Fool   \n",
              "1193  [News, Government, Regulations, Rumors]         Benzinga   \n",
              "\n",
              "         publisher.homepage_url  \\\n",
              "530       https://www.fool.com/   \n",
              "1193  https://www.benzinga.com/   \n",
              "\n",
              "                                     publisher.logo_url  \\\n",
              "530   https://s3.polygon.io/public/assets/news/logos...   \n",
              "1193  https://s3.polygon.io/public/assets/news/logos...   \n",
              "\n",
              "                                  publisher.favicon_url tickers_adj  \n",
              "530   https://s3.polygon.io/public/assets/news/favic...      [TSLA]  \n",
              "1193  https://s3.polygon.io/public/assets/news/favic...      [TSLA]  "
            ],
            "text/html": [
              "\n",
              "  <div id=\"df-ed2ee3d8-248c-425d-a187-29f33e46ad55\" class=\"colab-df-container\">\n",
              "    <div>\n",
              "<style scoped>\n",
              "    .dataframe tbody tr th:only-of-type {\n",
              "        vertical-align: middle;\n",
              "    }\n",
              "\n",
              "    .dataframe tbody tr th {\n",
              "        vertical-align: top;\n",
              "    }\n",
              "\n",
              "    .dataframe thead th {\n",
              "        text-align: right;\n",
              "    }\n",
              "</style>\n",
              "<table border=\"1\" class=\"dataframe\">\n",
              "  <thead>\n",
              "    <tr style=\"text-align: right;\">\n",
              "      <th></th>\n",
              "      <th>id</th>\n",
              "      <th>title</th>\n",
              "      <th>author</th>\n",
              "      <th>published_utc</th>\n",
              "      <th>article_url</th>\n",
              "      <th>tickers</th>\n",
              "      <th>amp_url</th>\n",
              "      <th>image_url</th>\n",
              "      <th>description</th>\n",
              "      <th>keywords</th>\n",
              "      <th>publisher.name</th>\n",
              "      <th>publisher.homepage_url</th>\n",
              "      <th>publisher.logo_url</th>\n",
              "      <th>publisher.favicon_url</th>\n",
              "      <th>tickers_adj</th>\n",
              "    </tr>\n",
              "  </thead>\n",
              "  <tbody>\n",
              "    <tr>\n",
              "      <th>530</th>\n",
              "      <td>0wPdLQkg5_Wm4ivBCcU4aUhpIDjyK3oQWOAIKuw7mvw</td>\n",
              "      <td>Good News for Tesla Stock Investors</td>\n",
              "      <td>newsfeedback@fool.com (Neil Rozenbaum)</td>\n",
              "      <td>2023-08-27T14:00:00Z</td>\n",
              "      <td>https://www.fool.com/investing/2023/08/27/good...</td>\n",
              "      <td>[TSLA]</td>\n",
              "      <td>NaN</td>\n",
              "      <td>https://g.foolcdn.com/editorial/images/745580/...</td>\n",
              "      <td>Here's everything you need to know about the e...</td>\n",
              "      <td>[investing]</td>\n",
              "      <td>The Motley Fool</td>\n",
              "      <td>https://www.fool.com/</td>\n",
              "      <td>https://s3.polygon.io/public/assets/news/logos...</td>\n",
              "      <td>https://s3.polygon.io/public/assets/news/favic...</td>\n",
              "      <td>[TSLA]</td>\n",
              "    </tr>\n",
              "    <tr>\n",
              "      <th>1193</th>\n",
              "      <td>vpzWbs4kvaOhxeziIQCV5YNPz7GWOihpARqqBt8oBmo</td>\n",
              "      <td>Doors Open For Elon Musk's Tesla? India Mulls ...</td>\n",
              "      <td>Arpit Nayak</td>\n",
              "      <td>2023-08-25T12:01:46Z</td>\n",
              "      <td>https://www.benzinga.com/government/23/08/3403...</td>\n",
              "      <td>[TSLA]</td>\n",
              "      <td>https://www.benzinga.com/amp/content/34038927</td>\n",
              "      <td>https://cdn.benzinga.com/files/images/story/20...</td>\n",
              "      <td>This story was first published by the Benzinga...</td>\n",
              "      <td>[News, Government, Regulations, Rumors]</td>\n",
              "      <td>Benzinga</td>\n",
              "      <td>https://www.benzinga.com/</td>\n",
              "      <td>https://s3.polygon.io/public/assets/news/logos...</td>\n",
              "      <td>https://s3.polygon.io/public/assets/news/favic...</td>\n",
              "      <td>[TSLA]</td>\n",
              "    </tr>\n",
              "  </tbody>\n",
              "</table>\n",
              "</div>\n",
              "    <div class=\"colab-df-buttons\">\n",
              "\n",
              "  <div class=\"colab-df-container\">\n",
              "    <button class=\"colab-df-convert\" onclick=\"convertToInteractive('df-ed2ee3d8-248c-425d-a187-29f33e46ad55')\"\n",
              "            title=\"Convert this dataframe to an interactive table.\"\n",
              "            style=\"display:none;\">\n",
              "\n",
              "  <svg xmlns=\"http://www.w3.org/2000/svg\" height=\"24px\" viewBox=\"0 -960 960 960\">\n",
              "    <path d=\"M120-120v-720h720v720H120Zm60-500h600v-160H180v160Zm220 220h160v-160H400v160Zm0 220h160v-160H400v160ZM180-400h160v-160H180v160Zm440 0h160v-160H620v160ZM180-180h160v-160H180v160Zm440 0h160v-160H620v160Z\"/>\n",
              "  </svg>\n",
              "    </button>\n",
              "\n",
              "  <style>\n",
              "    .colab-df-container {\n",
              "      display:flex;\n",
              "      gap: 12px;\n",
              "    }\n",
              "\n",
              "    .colab-df-convert {\n",
              "      background-color: #E8F0FE;\n",
              "      border: none;\n",
              "      border-radius: 50%;\n",
              "      cursor: pointer;\n",
              "      display: none;\n",
              "      fill: #1967D2;\n",
              "      height: 32px;\n",
              "      padding: 0 0 0 0;\n",
              "      width: 32px;\n",
              "    }\n",
              "\n",
              "    .colab-df-convert:hover {\n",
              "      background-color: #E2EBFA;\n",
              "      box-shadow: 0px 1px 2px rgba(60, 64, 67, 0.3), 0px 1px 3px 1px rgba(60, 64, 67, 0.15);\n",
              "      fill: #174EA6;\n",
              "    }\n",
              "\n",
              "    .colab-df-buttons div {\n",
              "      margin-bottom: 4px;\n",
              "    }\n",
              "\n",
              "    [theme=dark] .colab-df-convert {\n",
              "      background-color: #3B4455;\n",
              "      fill: #D2E3FC;\n",
              "    }\n",
              "\n",
              "    [theme=dark] .colab-df-convert:hover {\n",
              "      background-color: #434B5C;\n",
              "      box-shadow: 0px 1px 3px 1px rgba(0, 0, 0, 0.15);\n",
              "      filter: drop-shadow(0px 1px 2px rgba(0, 0, 0, 0.3));\n",
              "      fill: #FFFFFF;\n",
              "    }\n",
              "  </style>\n",
              "\n",
              "    <script>\n",
              "      const buttonEl =\n",
              "        document.querySelector('#df-ed2ee3d8-248c-425d-a187-29f33e46ad55 button.colab-df-convert');\n",
              "      buttonEl.style.display =\n",
              "        google.colab.kernel.accessAllowed ? 'block' : 'none';\n",
              "\n",
              "      async function convertToInteractive(key) {\n",
              "        const element = document.querySelector('#df-ed2ee3d8-248c-425d-a187-29f33e46ad55');\n",
              "        const dataTable =\n",
              "          await google.colab.kernel.invokeFunction('convertToInteractive',\n",
              "                                                    [key], {});\n",
              "        if (!dataTable) return;\n",
              "\n",
              "        const docLinkHtml = 'Like what you see? Visit the ' +\n",
              "          '<a target=\"_blank\" href=https://colab.research.google.com/notebooks/data_table.ipynb>data table notebook</a>'\n",
              "          + ' to learn more about interactive tables.';\n",
              "        element.innerHTML = '';\n",
              "        dataTable['output_type'] = 'display_data';\n",
              "        await google.colab.output.renderOutput(dataTable, element);\n",
              "        const docLink = document.createElement('div');\n",
              "        docLink.innerHTML = docLinkHtml;\n",
              "        element.appendChild(docLink);\n",
              "      }\n",
              "    </script>\n",
              "  </div>\n",
              "\n",
              "    </div>\n",
              "  </div>\n"
            ]
          },
          "metadata": {},
          "execution_count": 50
        }
      ]
    },
    {
      "cell_type": "code",
      "source": [
        "# check 1 ticker inputs\n",
        "for t in indiv_tickers_summary_desc.keys():\n",
        "  if len(';'.join(indiv_tickers_summary_desc[t]))==0:\n",
        "    continue\n",
        "  print(f'---- {t} --------')\n",
        "  print('\\n ;'.join(indiv_tickers_summary_desc[t]))\n",
        "  print('------------')\n",
        "  break;"
      ],
      "metadata": {
        "id": "nNlTAS10qO8i",
        "colab": {
          "base_uri": "https://localhost:8080/"
        },
        "outputId": "a753e79f-a45d-4ffb-e952-c25ba6bd44e1"
      },
      "execution_count": null,
      "outputs": [
        {
          "output_type": "stream",
          "name": "stdout",
          "text": [
            "---- ('NVDA', 52) --------\n",
            "2023-08-28T16:45:07Z| ['NVDA']| 3 Reasons Growth Investors Will Love Nvidia (NVDA)| Nvidia (NVDA) is well positioned to outperform the market, as it exhibits above-average growth in financials.\n",
            " ;2023-08-28T14:50:06Z| ['NVDA']| Arm IPOs on Nvidia's Success and AI Hype. Here's Why I'm Not Touching It| Nvidia wanted to acquire the company for $40 billion and failed. Arm is reported to be valued at $60 billion. In my opinion, it's worth much less.\n",
            " ;2023-08-28T13:30:06Z| ['NVDA']| Wall Street Bulls Look Optimistic About Nvidia (NVDA): Should You Buy?| Based on the average brokerage recommendation (ABR), Nvidia (NVDA) should be added to one's portfolio. Wall Street analysts' overly optimistic recommendations cast doubt on the effectiveness of this highly sought-after metric. So, is the stock worth buying?\n",
            " ;2023-08-28T13:00:11Z| ['NVDA']| Investors Heavily Search NVIDIA Corporation (NVDA): Here is What You Need to Know| Nvidia (NVDA) has received quite a bit of attention from Zacks.com users lately. Therefore, it is wise to be aware of the facts that can impact the stock's prospects.\n",
            " ;2023-08-28T06:48:00Z| ['NVDA']| Nvidia Stock Looks to Break Above Fibonacci Resistance| nan\n",
            " ;2023-08-28T03:00:00Z| ['NVDA']| 1 Reason Nvidia's Earnings Report Was Even More Fantastic Than Many Investors Might Realize| Demand is \"tremendous\" for the tech giant's data center products that enable generative AI.\n",
            " ;2023-08-27T16:15:00Z| ['NVDA']| 4 Reasons to Buy Nvidia Stock, and 1 Reason to Sell| Is it the right time to buy this red-hot AI semiconductor stock?\n",
            " ;2023-08-27T11:15:00Z| ['NVDA']| Nvidia CEO Jensen Huang Says \"A New Computing Era Has Begun\" -- How Much Higher Can the Stock Fly?| Nvidia isn't just fluff; it could soon be the world's largest semiconductor business by revenue.\n",
            " ;2023-08-26T12:45:00Z| ['NVDA']| 1 Green Flag for Nvidia in 2023, and 1 Red Flag| The company just released glowing quarterly results, which could power even more gains for the high-flying stock this year.\n",
            " ;2023-08-26T10:20:00Z| ['NVDA']| AI Just Helped Nvidia Crush Q2 Earnings Expectations -- and the Chip Giant's Massive Artificial Intelligence Transformation Is Just Heating Up| Nvidia is still in the early stages of an earthshaking new technology trend.\n",
            " ;2023-08-26T10:15:00Z| ['NVDA']| Nvidia Capitalizes on Booming Artificial Intelligence (AI) Demand -- a Look at Data Center Updates| Nvidia shared numerous updates about the current semiconductor industry, and more importantly, its data center segment.\n",
            " ;2023-08-25T17:02:06Z| ['NVDA']| Why Nvidia Stock Hit New Highs This Week| AI chip demand beat the most optimistic expectations, but growth might already be slowing.\n",
            " ;2023-08-25T12:49:32Z| ['NVDA']| NVIDIA Options Traders Betting On Further Upside Into September| Shares of  NVIDIA Corporation (NASDAQ: NVDA) surged to an all-time high on Thursday after the company reported better-than-expected second-quarter financial results and issued strong revenue guidance for the third quarter. However, the stock was only 0.1% higher at the close on Thursday.\n",
            "On CNBC’s \"Options Action,\" Mike Khouw of Optimize Advisors said NVIDIA was the ...\n",
            " ;2023-08-25T10:05:00Z| ['NVDA']| Wall Street Thinks Nvidia Could Soon Double After Another Blowout Earnings. How Realistic Is That?| After generating blockbuster financial results, the GPU maker could soar much higher -- but there's the little matter of valuation.\n",
            " ;2023-08-25T06:57:00Z| ['NVDA']| Why S&P 500 Selloff Shouldn't Surprise You| nan\n",
            " ;2023-08-24T21:00:00Z| ['NVDA']| NVIDIA Announces Upcoming Events for Financial Community| SANTA CLARA, Calif., Aug.  24, 2023  (GLOBE NEWSWIRE) -- NVIDIA will present at the following events for the financial community:\n",
            " ;2023-08-24T18:45:00Z| ['NVDA']| If I Had to Buy 1 Trillion-Dollar Artificial Intelligence Stock, This Would Be It| Nvidia just rode the AI wave to yet another spectacular quarterly result.\n",
            " ;2023-08-24T17:29:00Z| ['NVDA']| 4 Billion (More) Reasons to Buy Nvidia Stock and Hold Forever| Crushed expectations were just the beginning.\n",
            " ;2023-08-24T15:30:26Z| ['NVDA']| Nvidia Impresses Analysts With 'Back-To-Back Miraculous Quarters': Are Estimates Too Modest?| Semiconductor and technology company NVIDIA Corporation (NASDAQ: NVDA) reported second quarter financial results after market close Wednesday that beat analysts’ estimates.\n",
            "Analysts reacted to the quarter beat and updated guidance from the company.\n",
            "The NVDA Analysts: Goldman Sachs analyst Toshiya Hari has a Buy rating and raises the price target from $495 to $605.\n",
            "Wedbush analyst Matt Bryson has an Outperform rating and raises the price target from $490 to $600.\n",
            "Susquehanna analyst Christopher Rolland has a Positive rating and raises the price target from $575 to $600.\n",
            "Morgan Stanley analyst Joseph Moore has an Overweight rating and raises the price target from $500 to $630.\n",
            "Bernstein analyst Stacy Rasgon has an Outperform rating and raises the price target from $475 to $675.\n",
            "KeyBanc analyst John Vinh has an Overweight rating and raises the price target from $620 to $670.\n",
            "Related Link: Nvidia's Q2 'Drop The Mic' Moment Potentially Igniting A Tech Rally That Will Continue \n",
            "Goldman Sachs on NVDA: The chipmaker saw strong generative artificial intelligence demand and improving supply chain in the second quarter, which could continue moving forward, Hari said.\n",
            "“Nvidia delivered against heightened investor expectations as growing investments in Gen AI infrastructure drove a 21% revenue beat and non-GAAP EPS exceeded Street consensus by 30%,” Hari said.\n",
            "The analysts said Nvidia can have sustained revenue growth through 2024 with strong demand for its Data Center segment and its improving supply backdrop.\n",
            "Hari notes that competition from large cloud service providers and other semiconductor companies could be coming.\n",
            "“We expect Nvidia to maintain its status as the accelerated computing industry standard for the foreseeable future given its ...Full story available on Benzinga.com\n",
            " ;2023-08-24T15:04:00Z| ['NVDA']| Here's the biggest surprise from Nvidia's earnings, according to Morgan Stanley| Even though Wall Street expected a beat-and-raise quarter from Nvidia Corp., many were blown away by the sheer magnitude of the upside.\n",
            " ;2023-08-24T14:44:17Z| ['NVDA']| Why Nvidia Stock Jumped Again After Earnings| The exponential rise in Nvidia's sales continues with no end in sight.\n",
            " ;2023-08-24T12:44:00Z| ['NVDA']| Nvidia: One Stock Does Not Make a Market| nan\n",
            " ;2023-08-24T12:38:12Z| ['NVDA']| How To Earn $500 A Month From NVIDIA Stock| Shares of NVIDIA Corporation (NASDAQ: NVDA) topped the $500 mark in pre-market trading on Thursday after the company reported better-than-expected second-quarter financial results and issued strong revenue guidance for the third quarter.\n",
            "Shares of several semiconductor and AI-related stocks also traded higher in sympathy with NVIDIA.\n",
            "NVIDIA’s Data Center revenue surged to a record and accounted for roughly two-thirds of the total. The company’s board also approved an additional $25 billion in share repurchases.\n",
            "So, how can investors exploit its dividend yield to pocket a regular $500 monthly?\n",
            "To earn $500 per month or $6,000 annually from dividends alone, you would need an investment of ...\n",
            " ;2023-08-24T12:30:00Z| ['NVDA']| Why Nvidia's AI bonanza may have only just begun| Those analysts who weren't merely speechless after Nvidia Corp.'s latest earnings were effusive with their praise.\n",
            " ;2023-08-24T12:00:00Z| ['NVDA']| Nvidia to $1,100? This analyst thinks the stock can more than double.| Analysts are increasingly optimistic about Nvidia's stock after the latest earnings, but perhaps none more so than Rosenblatt Securities' Hans Mosesmann.\n",
            " ;2023-08-24T11:03:00Z| ['NVDA']| Is the Short Correction Already Behind Us? Here's What to Watch| nan\n",
            " ;2023-08-24T10:28:00Z| ['NVDA']| Nvidia's Q2 Shock: Surging Sales, Profits Validate AI Enthusiasm| nan\n",
            " ;2023-08-24T09:43:10Z| ['NVDA']| Nvidia Stock Pops After Another Blowout Earnings. Just How High Can This All-Star Stock Fly?| Massive AI tailwinds continue to power Nvidia's staggering revenue growth.\n",
            " ;2023-08-24T09:03:23Z| ['NVDA']| Nvidia Analyst Sees 42% Upside To Stock With 2nd Price Target Boost This Week After Stellar Q2| Nvidia Corp.'s (NASDAQ:NVDA) stock received a price target boost, potentially the first of many to follow, after the company exceeded the most optimistic of Wall Street forecasts for the second quarter.\n",
            "The Nvidia Analyst: KeyBanc Capital Markets analyst John Vinh maintained an Overweight rating on Nvidia shares and raised the price target from $620 to $670, suggesting over 42% upside from current levels.\n",
            "The price target hike represented a back-to-back revision as the firm earlier this week increased the price target from $550 to $620.\n",
            "The Nvidia Thesis: Nvidia's Data Center revenues jumped over 170% year-over-over to a record $10.32 billion in the second quarter and is on track to increase by 230% to $12.7 billion in the third quarter, KeyBanc's Vinh said. The segment benefited from accelerating generative AI trends, the analyst said.\n",
            "The strength reflected firming demand from cloud service ...Full story available on Benzinga.com\n",
            " ;2023-08-24T07:02:02Z| ['NVDA']| Munster Says Nvidia's Q2 Triumph Outshines Apple's Glory Days, Q3 Guidance 'Lights-Out-Good'| Nvidia Corp. (NASDAQ:NVDA) second-quarter results have left analysts short of adjectives to describe the chipmaker's superlative performance.\n",
            "What Happened: “I have never seen anything like this,” said Deepwater Asset Management co-founder Gene Munster. “Even Apple during the go-go days of the iPod and iPhone did not see two consecutive quarters of 30% plus revenue guide ups,” he said.\n",
            "Wednesday, Nvidia reported better-than-expected second-quarter results and guided third-quarter revenue to $1.6 billion, plus or minus 2%. This ...Full story available on Benzinga.com\n",
            " ;2023-08-24T03:30:26Z| ['NVDA']| Nvidia (NVDA) Q2 2024 Earnings Call Transcript| NVDA earnings call for the period ending June 30, 2023.\n",
            " ;2023-08-23T22:26:00Z| ['NVDA']| Nvidia Stock Soars as AI-Powered Earnings and Guidance Crush Estimates (Again!)| In Q2, the tech giant's data-center platform's revenue rocketed 171% year over year, driven by soaring demand for the company's products that enable artificial intelligence capabilities.\n",
            " ;2023-08-23T22:00:05Z| ['NVDA']| Nvidia (NVDA) Q2 Earnings: How Key Metrics Compare to Wall Street Estimates| Although the revenue and EPS for Nvidia (NVDA) give a sense of how its business performed in the quarter ended July 2023, it might be worth considering how some key metrics compare with Wall Street estimates and the year-ago numbers.\n",
            " ;2023-08-23T22:00:00Z| ['NVDA']| Nvidia Stock Soars After the Company Reports Another Blowout Quarter -- NVDA Stock Update| Nvidia stock is up over 200% year to date and with another double beat and raise, investors could expect more of the same.\n",
            " ;2023-08-23T21:40:04Z| ['NVDA']| Nvidia (NVDA) Tops Q2 Earnings and Revenue Estimates| Nvidia (NVDA) delivered earnings and revenue surprises of 29.19% and 20.89%, respectively, for the quarter ended July 2023. Do the numbers hold clues to what lies ahead for the stock?\n",
            " ;2023-08-23T21:05:37Z| ['NVDA']| Nvidia Stock Didn't Just Beat Earnings, it Crushed Them!| Nvidia stock just reported earnings, and the artificial intelligence (AI) demand is more insane than anyone predicted.\n",
            " ;2023-08-23T20:36:11Z| ['NVDA']| Nvidia Stock Soars Past $500 After Chipmaker Demolishes Q2 Estimates On AI-Fueled Record Data Center Revenue| Nvidia Corp. (NASDAQ:NVDA) did not disappoint investors Wednesday with second-quarter earnings that are well ahead of expectations thanks to the strong momentum imparted by its positioning in hot-and-happening artificial intelligence technology. \n",
            "Reflecting the strength, Data Center revenue rose to a record and accounted for roughly two-thirds of the total. The company issued third-quarter revenue guidance of $16 billion, more than $3 billion above what the Street was expecting.  \n",
            "After settling Wednesday’s regular session 3.17% higher at $471.16, the stock is running 8.04% higher to $509.06 in the after-hours session, according to Benzinga Pro data.\n",
            "Nvidia’s Key Q2 Numbers: Santa Clara, California-based Nvidia’s second-quarter non-GAAP earnings per share rose 429% year-over-year from 51 cents to $2.70. Sequentially, the measure improved 148% from the previous quarter’s $1.09 per share.\n",
            "Analysts, on average, expected the bottom-line result to come in at $1.91.\n",
            "The earnings growth reflects strong revenue that climbed 101% year-over-year and 88% sequentially to a record $13.51 billion. The topline came ahead of the consensus estimate of $10.3 billion and the company’s guidance of $11 billion plus or minus 2%.\n",
            "The non-GAAP gross margin was 71.2%, higher than the year-ago’s 45.9% and the previous quarter’s 66.8%.\n",
            "Ahead of the results, KeyBanc Capital Markets analyst John Vinh said he expected second-quarter revenue and earnings per share of $12.7 billion and $2.49 per share, respectively.\n",
            "Huang Says ‘New Computing Era Has Begun’: Nvidia CEO Jensen Huang said major cloud service providers rolled out “massive” Nvidia H100 AI infrastructures, and enterprise IT and software providers announced partnerships bringing Nvidia AI to every industry. \n",
            "“The race is on to adopt generative AI,” Huang ...Full story available on Benzinga.com\n",
            " ;2023-08-23T20:20:00Z| ['NVDA']| NVIDIA Announces Financial Results for Second Quarter Fiscal 2024| SANTA CLARA, Calif., Aug.  23, 2023  (GLOBE NEWSWIRE) -- NVIDIA (NASDAQ: NVDA) today reported revenue for the second quarter ended July 30, 2023, of $13.51 billion, up 101% from a year ago and up 88% from the previous quarter.\n",
            " ;2023-08-23T14:27:00Z| ['NVDA']| Nvidia stock options traders are bracing for larger move than usual after earnings| Options traders are bracing for an outsize swing in Nvidia Corp.'s stock price after the chip giant's earnings report Wednesday afternoon.\n",
            " ;2023-08-23T12:55:00Z| ['NVDA']| The history of companies with Nvidia-like valuations isn't a good one| Nvidia now holds the distinction of having the highest price-to-sales ratio in the S&P 500, a title 99 companies have had since the 1960s.  Here's how they have fared.\n",
            " ;2023-08-23T12:45:00Z| ['NVDA']| Up 200%, Is Nvidia Stock Still a Buy?| This technology leader's shares have skyrocketed in 2023. Is it too late for new investors to hop on board?\n",
            " ;2023-08-23T12:37:59Z| ['NVDA']| NVIDIA Set To Report Earnings Wednesday, Options Market Implies Double-Digit Move| NVIDIA Corporation  (NASDAQ: NVDA) is set to report its quarterly earnings after the closing bell on Wednesday.\n",
            "On CNBC’s \"Options Action,\"  Mike Khouw of Optimize Advisors said NVIDIA was one of the busiest single stock options and implied a move of around +/-11% by the end of the week.\n",
            "Don’t ...\n",
            " ;2023-08-22T21:33:29Z| ['NVDA']| Nvidia (NVDA) Just Overtook the 50-Day Moving Average| When a stock breaks out above the 50-Day simple moving average, good things could be on the horizon. How should investors react?\n",
            " ;2023-08-22T21:33:19Z| ['NVDA']| Here's How Much You'd Have If You Invested $1000 in Nvidia a Decade Ago| Holding on to popular or trending stocks for the long-term can make your portfolio a winner.\n",
            " ;2023-08-22T20:19:00Z| ['NVDA']| How Nvidia's Jensen Huang may be driving Fed rate-hike expectations| In the bond market, a surge of AI-related expectations is translating into higher real yields, according to Ben Emons of NewEdge Wealth.\n",
            " ;2023-08-22T16:30:00Z| ['NVDA']| NVIDIA AI-Ready Servers From World’s Leading System Manufacturers to Supercharge Generative AI for Enterprises| Servers Featuring NVIDIA L40S GPUs and NVIDIA BlueField Coming Soon From Dell Technologies, Hewlett Packard Enterprise and Lenovo to Support VMware Private AI Foundation with NVIDIA Servers Featuring NVIDIA L40S GPUs and NVIDIA BlueField Coming Soon From Dell Technologies, Hewlett Packard Enterprise and Lenovo to Support VMware Private AI Foundation with NVIDIA\n",
            " ;2023-08-22T13:50:00Z| ['NVDA']| Nvidia Leads Market Rebound, but for How Long?| nan\n",
            " ;2023-08-22T13:41:59Z| ['NVDA']| What to Know Before Nvidia's Highly Anticipated Earnings Amid the Artificial Intelligence (AI) Surge| The market has high expectations for Nvidia stock and its data center segment, thanks to the demand for its AI chips.\n",
            " ;2023-08-22T12:32:00Z| ['NVDA']| Should You Buy NVIDIA (NVDA) Ahead of Earnings?| NVIDIA (NVDA) is seeing favorable earnings estimate revision activity and has a positive Zacks Earnings ESP heading into earnings season.\n",
            " ;2023-08-22T10:28:00Z| ['NVDA']| Nvidia Q2 Earnings Preview: Can the AI Frenzy Continue Amid Sky-High Valuations?| nan\n",
            " ;2023-08-21T11:27:37Z| ['NVDA']| Why Nvidia Stock Is Jumping Nearly 2% Premarket Today| Shares of Nvidia Corp. (NASDAQ:NVDA) rose in premarket trading on Monday, inspired by positive commentaries regarding its second-quarter earnings from some analysts.\n",
            "Nvidia is scheduled to release its quarterly results Wednesday after the market close, with analysts, on average, estimating earnings per share of $2.07 on revenue of $11.17 billion. This marks an increase from the year-ago number of $0.51 and $6.7 billion, respectively.\n",
            "KeyBanc Capital Markets analyst John Vinh in a note released Monday said he expects a beat-and-raise quarter from the chipmaker. He ...Full story available on Benzinga.com\n",
            " ;2023-08-19T10:14:00Z| ['NVDA']| The Bull Market in Artificial Intelligence Is Just Getting Started: 2 Big Reasons to Buy Nvidia Stock Right Now| Wall Street's growth projections for the generative AI leader are high, but perhaps not high enough.\n",
            "------------\n"
          ]
        }
      ]
    },
    {
      "cell_type": "code",
      "source": [
        "# https://callmefred.com/how-to-fix-openai-error-ratelimiterror-the-server-had-an-error/\n",
        "# Call an OpenGPT's API with the prompt, model, and system_message_adj parameters.\n",
        "#  Prompt is an input text (info about the stock news in our case), Model is the model to be used (the list of available models is obtained earlier in the code),\n",
        "#  System_message_adj is what you want to ask from the System\n",
        "def chat(prompt, model = \"gpt-3.5-turbo-16k\", system_message_adj=\"\"):\n",
        "\n",
        "   try:\n",
        "\n",
        "      response = openai.ChatCompletion.create(\n",
        "      model = model,\n",
        "      messages = [ {\"role\": 'system', \"content\": f'Summarize the news. {system_message_adj}'},\n",
        "                   {\"role\": 'user', \"content\": f'{prompt}'}]\n",
        "      )\n",
        "\n",
        "      answer = response[\"choices\"][0][\"message\"][\"content\"]\n",
        "      usage = response[\"usage\"][\"total_tokens\"]\n",
        "\n",
        "      return (answer, usage)\n",
        "\n",
        "\n",
        "   except openai.error.RateLimitError as e:\n",
        "\n",
        "      retry_time = e.retry_after if hasattr(e, 'retry_after') else 30\n",
        "      print(f\"Rate limit exceeded. Retrying in {retry_time} seconds...\")\n",
        "      time.sleep(retry_time)\n",
        "      return chat(prompt)\n",
        "\n",
        "   except openai.error.ServiceUnavailableError as e:\n",
        "      retry_time = 10  # Adjust the retry time as needed\n",
        "      print(f\"Service is unavailable. Retrying in {retry_time} seconds...\")\n",
        "      time.sleep(retry_time)\n",
        "      return chat(prompt)\n",
        "\n",
        "   except openai.error.APIError as e:\n",
        "      retry_time = e.retry_after if hasattr(e, 'retry_after') else 30\n",
        "      print(f\"API error occurred. Retrying in {retry_time} seconds...\")\n",
        "      time.sleep(retry_time)\n",
        "      return chat(prompt)\n",
        "\n",
        "   except OSError as e:\n",
        "        retry_time = 5  # Adjust the retry time as needed\n",
        "        print(f\"Connection error occurred: {e}. Retrying in {retry_time} seconds...\")\n",
        "        time.sleep(retry_time)\n",
        "        return chat(prompt)"
      ],
      "metadata": {
        "id": "Z65mIeUtFUrR"
      },
      "execution_count": null,
      "outputs": []
    },
    {
      "cell_type": "code",
      "source": [
        "indiv_tickers_summary_desc.keys()"
      ],
      "metadata": {
        "id": "_cFqXnVblRMe",
        "colab": {
          "base_uri": "https://localhost:8080/"
        },
        "outputId": "7e2f8c77-ae2e-4b69-b800-bb4b5d75b037"
      },
      "execution_count": null,
      "outputs": [
        {
          "output_type": "execute_result",
          "data": {
            "text/plain": [
              "dict_keys([('NVDA', 52), ('AMZN', 23), ('AAPL', 18), ('MSFT', 4), ('TSLA', 23), ('GOOGL', 0), ('SPY', 14), ('GOOG', 10), ('AMD', 10), ('META', 7), ('PANW', 14), ('WMT', 4), ('DJIA', 11), ('COMP', 3), ('AEO', 2), ('DIS', 13), ('TGT', 7), ('QQQ', 1), ('CRM', 4), ('FL', 8)])"
            ]
          },
          "metadata": {},
          "execution_count": 53
        }
      ]
    },
    {
      "cell_type": "code",
      "source": [
        "# https://learn.microsoft.com/en-us/azure/cognitive-services/openai/how-to/chatgpt?pivots=programming-language-chat-completions\n",
        "# About %%time magic: https://colab.research.google.com/github/jakevdp/PythonDataScienceHandbook/blob/master/notebooks/01.07-Timing-and-Profiling.ipynb#scrollTo=K1vMtils6Q8N\n",
        "%%time\n",
        "\n",
        "responses = []\n",
        "responses_keys = []\n",
        "usages = []\n",
        "for t in indiv_tickers_summary_desc.keys():\n",
        "  ticker, count_news = t\n",
        "  # SPY, DJIA, QQQ - are market info - we publish the stats about it anyway, as it is precious\n",
        "  if count_news<10 and ticker not in ('SPY','DJIA','QQQ'):\n",
        "    continue\n",
        "  count_words = len(';'.join(indiv_tickers_summary_desc[t]).split(\" \"))\n",
        "  print(f' Analyzing <stock, news_count> {t} - total count of words {count_words}')\n",
        "  prompt = ';'.join(indiv_tickers_summary_desc[t])\n",
        "\n",
        "  response, usage = chat(prompt=prompt, system_message_adj='Not more than 5 sentences.')\n",
        "\n",
        "  print(f'.   used tokens {usage}')\n",
        "\n",
        "  responses.append(response)\n",
        "  responses_keys.append(t)\n",
        "  usages.append(usage)\n",
        "  time.sleep(2)"
      ],
      "metadata": {
        "id": "lNzuL_umAr-l",
        "colab": {
          "base_uri": "https://localhost:8080/"
        },
        "outputId": "80f18930-f507-4cb5-cd1e-f59a0ddaa560"
      },
      "execution_count": null,
      "outputs": [
        {
          "output_type": "stream",
          "name": "stdout",
          "text": [
            " Analyzing <stock, news_count> ('NVDA', 52) - total count of words 2476\n",
            ".   used tokens 4583\n",
            " Analyzing <stock, news_count> ('AMZN', 23) - total count of words 819\n",
            ".   used tokens 1673\n",
            " Analyzing <stock, news_count> ('AAPL', 18) - total count of words 621\n",
            ".   used tokens 1270\n",
            " Analyzing <stock, news_count> ('TSLA', 23) - total count of words 1318\n",
            ".   used tokens 2443\n",
            " Analyzing <stock, news_count> ('SPY', 14) - total count of words 1543\n",
            ".   used tokens 2558\n",
            " Analyzing <stock, news_count> ('GOOG', 10) - total count of words 364\n",
            ".   used tokens 772\n",
            " Analyzing <stock, news_count> ('AMD', 10) - total count of words 386\n",
            ".   used tokens 819\n",
            " Analyzing <stock, news_count> ('PANW', 14) - total count of words 655\n",
            ".   used tokens 1291\n",
            " Analyzing <stock, news_count> ('DJIA', 11) - total count of words 418\n",
            ".   used tokens 893\n",
            " Analyzing <stock, news_count> ('DIS', 13) - total count of words 578\n",
            ".   used tokens 1195\n",
            " Analyzing <stock, news_count> ('QQQ', 1) - total count of words 39\n",
            ".   used tokens 171\n",
            "CPU times: user 333 ms, sys: 34.9 ms, total: 368 ms\n",
            "Wall time: 52.8 s\n"
          ]
        }
      ]
    },
    {
      "cell_type": "code",
      "source": [
        "# TOTAL COST is $0.003-$0.004 per 1K tokens https://www.geeky-gadgets.com/chatgpt-update/#:~:text=gpt%2D3.5%2Dturbo%2D16k%20will%20be%20priced%20at%20%240.003,%240.004%20per%201K%20output%20tokens.\n",
        "print(f'Min-Max cost estimate is : ${np.round(sum(usages)/1000*0.003,3)} - ${np.round(sum(usages)/1000*0.004,3)}')"
      ],
      "metadata": {
        "id": "Aqm7TrZMMiBR",
        "colab": {
          "base_uri": "https://localhost:8080/"
        },
        "outputId": "ea42a72c-c7d2-48ee-a765-4a51abf3bee2"
      },
      "execution_count": null,
      "outputs": [
        {
          "output_type": "stream",
          "name": "stdout",
          "text": [
            "Min-Max cost estimate is : $0.053 - $0.071\n"
          ]
        }
      ]
    },
    {
      "cell_type": "code",
      "source": [
        "rr = all_news[\"published_utc\"].agg({\"min\":np.min,\n",
        "               \"max\":np.max})\n",
        "print(f' Dates for the articles min/max: {rr}')\n"
      ],
      "metadata": {
        "id": "mJpXsjiTpPQX",
        "colab": {
          "base_uri": "https://localhost:8080/"
        },
        "outputId": "f04a9582-c316-4504-fe8b-b32b88108624"
      },
      "execution_count": null,
      "outputs": [
        {
          "output_type": "stream",
          "name": "stdout",
          "text": [
            " Dates for the articles min/max: min    2023-08-18T10:50:00Z\n",
            "max    2023-08-28T20:32:00Z\n",
            "Name: published_utc, dtype: object\n"
          ]
        }
      ]
    },
    {
      "cell_type": "code",
      "source": [
        "min_date,max_date = pd.to_datetime(rr.to_list())\n",
        "print(min_date,max_date)"
      ],
      "metadata": {
        "id": "CJTITtdRy50N",
        "colab": {
          "base_uri": "https://localhost:8080/"
        },
        "outputId": "ccc643a6-5b7d-4819-c4e2-07db86cc8431"
      },
      "execution_count": null,
      "outputs": [
        {
          "output_type": "stream",
          "name": "stdout",
          "text": [
            "2023-08-18 10:50:00+00:00 2023-08-28 20:32:00+00:00\n"
          ]
        }
      ]
    },
    {
      "cell_type": "code",
      "source": [
        "import yfinance as yf"
      ],
      "metadata": {
        "id": "yKzhjD32yt92"
      },
      "execution_count": null,
      "outputs": []
    },
    {
      "cell_type": "code",
      "source": [
        "for (ticker,_) in responses_keys:\n",
        "  print(ticker)"
      ],
      "metadata": {
        "id": "NqjoM5B8yt1j",
        "colab": {
          "base_uri": "https://localhost:8080/"
        },
        "outputId": "3600ed63-3d48-4609-ce70-e98c6bb55c27"
      },
      "execution_count": null,
      "outputs": [
        {
          "output_type": "stream",
          "name": "stdout",
          "text": [
            "NVDA\n",
            "AMZN\n",
            "AAPL\n",
            "TSLA\n",
            "SPY\n",
            "GOOG\n",
            "AMD\n",
            "PANW\n",
            "DJIA\n",
            "DIS\n",
            "QQQ\n"
          ]
        }
      ]
    },
    {
      "cell_type": "code",
      "source": [
        "# TODO: Ivan to change on Adj_Close? (read docs)\n",
        "# TODO: Ivan: add 7d, 30d, 90d, 365d change\n",
        "df = None\n",
        "for (t,_) in responses_keys:\n",
        "  data_ticker = yf.download(t, start=min_date.date())\n",
        "  data_ticker['ticker'] = t\n",
        "  data_ticker['change_close']= data_ticker.Close.pct_change() *100\n",
        "  data_ticker['date'] = data_ticker.index\n",
        "  if df is None:\n",
        "    df = data_ticker\n",
        "  else:\n",
        "    df = pd.concat([df,data_ticker], ignore_index =True, axis=0)"
      ],
      "metadata": {
        "id": "PovzHxJf30Ru",
        "colab": {
          "base_uri": "https://localhost:8080/"
        },
        "outputId": "8878737e-4110-4b09-80c5-3208f2087d08"
      },
      "execution_count": null,
      "outputs": [
        {
          "output_type": "stream",
          "name": "stdout",
          "text": [
            "[*********************100%%**********************]  1 of 1 completed\n",
            "[*********************100%%**********************]  1 of 1 completed\n",
            "[*********************100%%**********************]  1 of 1 completed\n",
            "[*********************100%%**********************]  1 of 1 completed\n",
            "[*********************100%%**********************]  1 of 1 completed\n",
            "[*********************100%%**********************]  1 of 1 completed\n",
            "[*********************100%%**********************]  1 of 1 completed\n",
            "[*********************100%%**********************]  1 of 1 completed\n",
            "[*********************100%%**********************]  1 of 1 completed\n",
            "[*********************100%%**********************]  1 of 1 completed\n",
            "[*********************100%%**********************]  1 of 1 completed\n"
          ]
        }
      ]
    },
    {
      "cell_type": "code",
      "source": [
        "data_ticker"
      ],
      "metadata": {
        "id": "Ta8c6xtl5tZq",
        "colab": {
          "base_uri": "https://localhost:8080/",
          "height": 300
        },
        "outputId": "1e28a53f-3591-4cac-bd04-c3cd85db5dbe"
      },
      "execution_count": null,
      "outputs": [
        {
          "output_type": "execute_result",
          "data": {
            "text/plain": [
              "                  Open        High         Low       Close   Adj Close  \\\n",
              "Date                                                                     \n",
              "2023-08-18  355.260010  359.410004  354.709991  358.130005  358.130005   \n",
              "2023-08-21  359.619995  364.589996  359.149994  363.899994  363.899994   \n",
              "2023-08-22  366.549988  366.559998  362.679993  363.380005  363.380005   \n",
              "2023-08-23  364.579987  370.220001  364.359985  369.109985  369.109985   \n",
              "2023-08-24  372.640015  372.739990  361.010010  361.220001  361.220001   \n",
              "2023-08-25  362.070007  365.739990  358.579987  364.019989  364.019989   \n",
              "2023-08-28  366.989990  367.709991  364.250000  366.760010  366.760010   \n",
              "\n",
              "              Volume ticker  change_close       date  \n",
              "Date                                                  \n",
              "2023-08-18  61119500    QQQ           NaN 2023-08-18  \n",
              "2023-08-21  50696500    QQQ      1.611144 2023-08-21  \n",
              "2023-08-22  44613500    QQQ     -0.142893 2023-08-22  \n",
              "2023-08-23  51770600    QQQ      1.576856 2023-08-23  \n",
              "2023-08-24  66842500    QQQ     -2.137570 2023-08-24  \n",
              "2023-08-25  69910900    QQQ      0.775147 2023-08-25  \n",
              "2023-08-28  40614469    QQQ      0.752712 2023-08-28  "
            ],
            "text/html": [
              "\n",
              "  <div id=\"df-15885405-9a7e-4915-b088-acdb7f840b65\" class=\"colab-df-container\">\n",
              "    <div>\n",
              "<style scoped>\n",
              "    .dataframe tbody tr th:only-of-type {\n",
              "        vertical-align: middle;\n",
              "    }\n",
              "\n",
              "    .dataframe tbody tr th {\n",
              "        vertical-align: top;\n",
              "    }\n",
              "\n",
              "    .dataframe thead th {\n",
              "        text-align: right;\n",
              "    }\n",
              "</style>\n",
              "<table border=\"1\" class=\"dataframe\">\n",
              "  <thead>\n",
              "    <tr style=\"text-align: right;\">\n",
              "      <th></th>\n",
              "      <th>Open</th>\n",
              "      <th>High</th>\n",
              "      <th>Low</th>\n",
              "      <th>Close</th>\n",
              "      <th>Adj Close</th>\n",
              "      <th>Volume</th>\n",
              "      <th>ticker</th>\n",
              "      <th>change_close</th>\n",
              "      <th>date</th>\n",
              "    </tr>\n",
              "    <tr>\n",
              "      <th>Date</th>\n",
              "      <th></th>\n",
              "      <th></th>\n",
              "      <th></th>\n",
              "      <th></th>\n",
              "      <th></th>\n",
              "      <th></th>\n",
              "      <th></th>\n",
              "      <th></th>\n",
              "      <th></th>\n",
              "    </tr>\n",
              "  </thead>\n",
              "  <tbody>\n",
              "    <tr>\n",
              "      <th>2023-08-18</th>\n",
              "      <td>355.260010</td>\n",
              "      <td>359.410004</td>\n",
              "      <td>354.709991</td>\n",
              "      <td>358.130005</td>\n",
              "      <td>358.130005</td>\n",
              "      <td>61119500</td>\n",
              "      <td>QQQ</td>\n",
              "      <td>NaN</td>\n",
              "      <td>2023-08-18</td>\n",
              "    </tr>\n",
              "    <tr>\n",
              "      <th>2023-08-21</th>\n",
              "      <td>359.619995</td>\n",
              "      <td>364.589996</td>\n",
              "      <td>359.149994</td>\n",
              "      <td>363.899994</td>\n",
              "      <td>363.899994</td>\n",
              "      <td>50696500</td>\n",
              "      <td>QQQ</td>\n",
              "      <td>1.611144</td>\n",
              "      <td>2023-08-21</td>\n",
              "    </tr>\n",
              "    <tr>\n",
              "      <th>2023-08-22</th>\n",
              "      <td>366.549988</td>\n",
              "      <td>366.559998</td>\n",
              "      <td>362.679993</td>\n",
              "      <td>363.380005</td>\n",
              "      <td>363.380005</td>\n",
              "      <td>44613500</td>\n",
              "      <td>QQQ</td>\n",
              "      <td>-0.142893</td>\n",
              "      <td>2023-08-22</td>\n",
              "    </tr>\n",
              "    <tr>\n",
              "      <th>2023-08-23</th>\n",
              "      <td>364.579987</td>\n",
              "      <td>370.220001</td>\n",
              "      <td>364.359985</td>\n",
              "      <td>369.109985</td>\n",
              "      <td>369.109985</td>\n",
              "      <td>51770600</td>\n",
              "      <td>QQQ</td>\n",
              "      <td>1.576856</td>\n",
              "      <td>2023-08-23</td>\n",
              "    </tr>\n",
              "    <tr>\n",
              "      <th>2023-08-24</th>\n",
              "      <td>372.640015</td>\n",
              "      <td>372.739990</td>\n",
              "      <td>361.010010</td>\n",
              "      <td>361.220001</td>\n",
              "      <td>361.220001</td>\n",
              "      <td>66842500</td>\n",
              "      <td>QQQ</td>\n",
              "      <td>-2.137570</td>\n",
              "      <td>2023-08-24</td>\n",
              "    </tr>\n",
              "    <tr>\n",
              "      <th>2023-08-25</th>\n",
              "      <td>362.070007</td>\n",
              "      <td>365.739990</td>\n",
              "      <td>358.579987</td>\n",
              "      <td>364.019989</td>\n",
              "      <td>364.019989</td>\n",
              "      <td>69910900</td>\n",
              "      <td>QQQ</td>\n",
              "      <td>0.775147</td>\n",
              "      <td>2023-08-25</td>\n",
              "    </tr>\n",
              "    <tr>\n",
              "      <th>2023-08-28</th>\n",
              "      <td>366.989990</td>\n",
              "      <td>367.709991</td>\n",
              "      <td>364.250000</td>\n",
              "      <td>366.760010</td>\n",
              "      <td>366.760010</td>\n",
              "      <td>40614469</td>\n",
              "      <td>QQQ</td>\n",
              "      <td>0.752712</td>\n",
              "      <td>2023-08-28</td>\n",
              "    </tr>\n",
              "  </tbody>\n",
              "</table>\n",
              "</div>\n",
              "    <div class=\"colab-df-buttons\">\n",
              "\n",
              "  <div class=\"colab-df-container\">\n",
              "    <button class=\"colab-df-convert\" onclick=\"convertToInteractive('df-15885405-9a7e-4915-b088-acdb7f840b65')\"\n",
              "            title=\"Convert this dataframe to an interactive table.\"\n",
              "            style=\"display:none;\">\n",
              "\n",
              "  <svg xmlns=\"http://www.w3.org/2000/svg\" height=\"24px\" viewBox=\"0 -960 960 960\">\n",
              "    <path d=\"M120-120v-720h720v720H120Zm60-500h600v-160H180v160Zm220 220h160v-160H400v160Zm0 220h160v-160H400v160ZM180-400h160v-160H180v160Zm440 0h160v-160H620v160ZM180-180h160v-160H180v160Zm440 0h160v-160H620v160Z\"/>\n",
              "  </svg>\n",
              "    </button>\n",
              "\n",
              "  <style>\n",
              "    .colab-df-container {\n",
              "      display:flex;\n",
              "      gap: 12px;\n",
              "    }\n",
              "\n",
              "    .colab-df-convert {\n",
              "      background-color: #E8F0FE;\n",
              "      border: none;\n",
              "      border-radius: 50%;\n",
              "      cursor: pointer;\n",
              "      display: none;\n",
              "      fill: #1967D2;\n",
              "      height: 32px;\n",
              "      padding: 0 0 0 0;\n",
              "      width: 32px;\n",
              "    }\n",
              "\n",
              "    .colab-df-convert:hover {\n",
              "      background-color: #E2EBFA;\n",
              "      box-shadow: 0px 1px 2px rgba(60, 64, 67, 0.3), 0px 1px 3px 1px rgba(60, 64, 67, 0.15);\n",
              "      fill: #174EA6;\n",
              "    }\n",
              "\n",
              "    .colab-df-buttons div {\n",
              "      margin-bottom: 4px;\n",
              "    }\n",
              "\n",
              "    [theme=dark] .colab-df-convert {\n",
              "      background-color: #3B4455;\n",
              "      fill: #D2E3FC;\n",
              "    }\n",
              "\n",
              "    [theme=dark] .colab-df-convert:hover {\n",
              "      background-color: #434B5C;\n",
              "      box-shadow: 0px 1px 3px 1px rgba(0, 0, 0, 0.15);\n",
              "      filter: drop-shadow(0px 1px 2px rgba(0, 0, 0, 0.3));\n",
              "      fill: #FFFFFF;\n",
              "    }\n",
              "  </style>\n",
              "\n",
              "    <script>\n",
              "      const buttonEl =\n",
              "        document.querySelector('#df-15885405-9a7e-4915-b088-acdb7f840b65 button.colab-df-convert');\n",
              "      buttonEl.style.display =\n",
              "        google.colab.kernel.accessAllowed ? 'block' : 'none';\n",
              "\n",
              "      async function convertToInteractive(key) {\n",
              "        const element = document.querySelector('#df-15885405-9a7e-4915-b088-acdb7f840b65');\n",
              "        const dataTable =\n",
              "          await google.colab.kernel.invokeFunction('convertToInteractive',\n",
              "                                                    [key], {});\n",
              "        if (!dataTable) return;\n",
              "\n",
              "        const docLinkHtml = 'Like what you see? Visit the ' +\n",
              "          '<a target=\"_blank\" href=https://colab.research.google.com/notebooks/data_table.ipynb>data table notebook</a>'\n",
              "          + ' to learn more about interactive tables.';\n",
              "        element.innerHTML = '';\n",
              "        dataTable['output_type'] = 'display_data';\n",
              "        await google.colab.output.renderOutput(dataTable, element);\n",
              "        const docLink = document.createElement('div');\n",
              "        docLink.innerHTML = docLinkHtml;\n",
              "        element.appendChild(docLink);\n",
              "      }\n",
              "    </script>\n",
              "  </div>\n",
              "\n",
              "\n",
              "<div id=\"df-56be00f4-90f8-4385-b887-61142a1472ff\">\n",
              "  <button class=\"colab-df-quickchart\" onclick=\"quickchart('df-56be00f4-90f8-4385-b887-61142a1472ff')\"\n",
              "            title=\"Suggest charts.\"\n",
              "            style=\"display:none;\">\n",
              "\n",
              "<svg xmlns=\"http://www.w3.org/2000/svg\" height=\"24px\"viewBox=\"0 0 24 24\"\n",
              "     width=\"24px\">\n",
              "    <g>\n",
              "        <path d=\"M19 3H5c-1.1 0-2 .9-2 2v14c0 1.1.9 2 2 2h14c1.1 0 2-.9 2-2V5c0-1.1-.9-2-2-2zM9 17H7v-7h2v7zm4 0h-2V7h2v10zm4 0h-2v-4h2v4z\"/>\n",
              "    </g>\n",
              "</svg>\n",
              "  </button>\n",
              "\n",
              "<style>\n",
              "  .colab-df-quickchart {\n",
              "    background-color: #E8F0FE;\n",
              "    border: none;\n",
              "    border-radius: 50%;\n",
              "    cursor: pointer;\n",
              "    display: none;\n",
              "    fill: #1967D2;\n",
              "    height: 32px;\n",
              "    padding: 0 0 0 0;\n",
              "    width: 32px;\n",
              "  }\n",
              "\n",
              "  .colab-df-quickchart:hover {\n",
              "    background-color: #E2EBFA;\n",
              "    box-shadow: 0px 1px 2px rgba(60, 64, 67, 0.3), 0px 1px 3px 1px rgba(60, 64, 67, 0.15);\n",
              "    fill: #174EA6;\n",
              "  }\n",
              "\n",
              "  [theme=dark] .colab-df-quickchart {\n",
              "    background-color: #3B4455;\n",
              "    fill: #D2E3FC;\n",
              "  }\n",
              "\n",
              "  [theme=dark] .colab-df-quickchart:hover {\n",
              "    background-color: #434B5C;\n",
              "    box-shadow: 0px 1px 3px 1px rgba(0, 0, 0, 0.15);\n",
              "    filter: drop-shadow(0px 1px 2px rgba(0, 0, 0, 0.3));\n",
              "    fill: #FFFFFF;\n",
              "  }\n",
              "</style>\n",
              "\n",
              "  <script>\n",
              "    async function quickchart(key) {\n",
              "      const charts = await google.colab.kernel.invokeFunction(\n",
              "          'suggestCharts', [key], {});\n",
              "    }\n",
              "    (() => {\n",
              "      let quickchartButtonEl =\n",
              "        document.querySelector('#df-56be00f4-90f8-4385-b887-61142a1472ff button');\n",
              "      quickchartButtonEl.style.display =\n",
              "        google.colab.kernel.accessAllowed ? 'block' : 'none';\n",
              "    })();\n",
              "  </script>\n",
              "</div>\n",
              "    </div>\n",
              "  </div>\n"
            ]
          },
          "metadata": {},
          "execution_count": 61
        }
      ]
    },
    {
      "cell_type": "code",
      "source": [
        "# daily returns\n",
        "vect = data_ticker.fillna(0).change_close+100\n",
        "vect"
      ],
      "metadata": {
        "id": "jmw6943FIp_P",
        "colab": {
          "base_uri": "https://localhost:8080/"
        },
        "outputId": "d81fa988-a103-4c87-8089-bd92b88fa8e0"
      },
      "execution_count": null,
      "outputs": [
        {
          "output_type": "execute_result",
          "data": {
            "text/plain": [
              "Date\n",
              "2023-08-18    100.000000\n",
              "2023-08-21    101.611144\n",
              "2023-08-22     99.857107\n",
              "2023-08-23    101.576856\n",
              "2023-08-24     97.862430\n",
              "2023-08-25    100.775147\n",
              "2023-08-28    100.752712\n",
              "Name: change_close, dtype: float64"
            ]
          },
          "metadata": {},
          "execution_count": 62
        }
      ]
    },
    {
      "cell_type": "code",
      "source": [
        "import numpy as np\n",
        "print(f'Real return in the period: {(np.prod(vect/100)-1)*100}')"
      ],
      "metadata": {
        "id": "rvhCuOgLJXAa",
        "colab": {
          "base_uri": "https://localhost:8080/"
        },
        "outputId": "1c50089d-a2db-4c5a-e142-f42926269210"
      },
      "execution_count": null,
      "outputs": [
        {
          "output_type": "stream",
          "name": "stdout",
          "text": [
            "Real return in the period: 2.4097408106412033\n"
          ]
        }
      ]
    },
    {
      "cell_type": "code",
      "source": [
        "print(f'Approx. return in the period: {data_ticker.fillna(0).change_close.sum()}')\n"
      ],
      "metadata": {
        "id": "TOm4HjEvJ9tD",
        "colab": {
          "base_uri": "https://localhost:8080/"
        },
        "outputId": "324249ac-8e1e-42c1-f985-c08db2c23a4c"
      },
      "execution_count": null,
      "outputs": [
        {
          "output_type": "stream",
          "name": "stdout",
          "text": [
            "Approx. return in the period: 2.4353957725022246\n"
          ]
        }
      ]
    },
    {
      "cell_type": "code",
      "source": [
        "ddf = df[df.date==df.date.max()]\n",
        "ddf"
      ],
      "metadata": {
        "id": "OlaPpZWS6pK4",
        "colab": {
          "base_uri": "https://localhost:8080/",
          "height": 394
        },
        "outputId": "e1ec34f7-1568-41e2-c94a-08fd5def2d41"
      },
      "execution_count": null,
      "outputs": [
        {
          "output_type": "execute_result",
          "data": {
            "text/plain": [
              "          Open        High         Low       Close   Adj Close     Volume  \\\n",
              "6   470.119995  469.799988  448.880005  468.350006  468.350006   66651624   \n",
              "13  133.779999  133.949997  131.850006  133.139999  133.139999   33420369   \n",
              "20  180.089996  180.585007  178.544998  180.190002  180.190002   39522558   \n",
              "27  242.580002  244.380005  235.360001  238.820007  238.820007  106838699   \n",
              "34  442.239990  443.399994  439.972809  442.760010  442.760010   56650963   \n",
              "41  132.080002  133.240005  130.850006  131.789993  131.789993   16324635   \n",
              "48  103.470001  104.070000  100.894402  102.610001  102.610001   53658908   \n",
              "55  230.770004  233.080002  228.949997  232.419998  232.419998    2012410   \n",
              "62   21.900000   21.989901   21.889999   21.969999   21.969999      10248   \n",
              "69   83.830002   84.684998   83.529999   84.160004   84.160004   11921946   \n",
              "76  366.989990  367.709991  364.250000  366.760010  366.760010   40614469   \n",
              "\n",
              "   ticker  change_close       date  \n",
              "6    NVDA      1.775395 2023-08-28  \n",
              "13   AMZN     -0.090046 2023-08-28  \n",
              "20   AAPL      0.884610 2023-08-28  \n",
              "27   TSLA      0.096404 2023-08-28  \n",
              "34    SPY      0.634136 2023-08-28  \n",
              "41   GOOG      0.841679 2023-08-28  \n",
              "48    AMD      0.352079 2023-08-28  \n",
              "55   PANW      0.719364 2023-08-28  \n",
              "62   DJIA      0.365463 2023-08-28  \n",
              "69    DIS      0.959697 2023-08-28  \n",
              "76    QQQ      0.752712 2023-08-28  "
            ],
            "text/html": [
              "\n",
              "  <div id=\"df-77e4050c-7171-4db8-8b89-ee48efdc22fd\" class=\"colab-df-container\">\n",
              "    <div>\n",
              "<style scoped>\n",
              "    .dataframe tbody tr th:only-of-type {\n",
              "        vertical-align: middle;\n",
              "    }\n",
              "\n",
              "    .dataframe tbody tr th {\n",
              "        vertical-align: top;\n",
              "    }\n",
              "\n",
              "    .dataframe thead th {\n",
              "        text-align: right;\n",
              "    }\n",
              "</style>\n",
              "<table border=\"1\" class=\"dataframe\">\n",
              "  <thead>\n",
              "    <tr style=\"text-align: right;\">\n",
              "      <th></th>\n",
              "      <th>Open</th>\n",
              "      <th>High</th>\n",
              "      <th>Low</th>\n",
              "      <th>Close</th>\n",
              "      <th>Adj Close</th>\n",
              "      <th>Volume</th>\n",
              "      <th>ticker</th>\n",
              "      <th>change_close</th>\n",
              "      <th>date</th>\n",
              "    </tr>\n",
              "  </thead>\n",
              "  <tbody>\n",
              "    <tr>\n",
              "      <th>6</th>\n",
              "      <td>470.119995</td>\n",
              "      <td>469.799988</td>\n",
              "      <td>448.880005</td>\n",
              "      <td>468.350006</td>\n",
              "      <td>468.350006</td>\n",
              "      <td>66651624</td>\n",
              "      <td>NVDA</td>\n",
              "      <td>1.775395</td>\n",
              "      <td>2023-08-28</td>\n",
              "    </tr>\n",
              "    <tr>\n",
              "      <th>13</th>\n",
              "      <td>133.779999</td>\n",
              "      <td>133.949997</td>\n",
              "      <td>131.850006</td>\n",
              "      <td>133.139999</td>\n",
              "      <td>133.139999</td>\n",
              "      <td>33420369</td>\n",
              "      <td>AMZN</td>\n",
              "      <td>-0.090046</td>\n",
              "      <td>2023-08-28</td>\n",
              "    </tr>\n",
              "    <tr>\n",
              "      <th>20</th>\n",
              "      <td>180.089996</td>\n",
              "      <td>180.585007</td>\n",
              "      <td>178.544998</td>\n",
              "      <td>180.190002</td>\n",
              "      <td>180.190002</td>\n",
              "      <td>39522558</td>\n",
              "      <td>AAPL</td>\n",
              "      <td>0.884610</td>\n",
              "      <td>2023-08-28</td>\n",
              "    </tr>\n",
              "    <tr>\n",
              "      <th>27</th>\n",
              "      <td>242.580002</td>\n",
              "      <td>244.380005</td>\n",
              "      <td>235.360001</td>\n",
              "      <td>238.820007</td>\n",
              "      <td>238.820007</td>\n",
              "      <td>106838699</td>\n",
              "      <td>TSLA</td>\n",
              "      <td>0.096404</td>\n",
              "      <td>2023-08-28</td>\n",
              "    </tr>\n",
              "    <tr>\n",
              "      <th>34</th>\n",
              "      <td>442.239990</td>\n",
              "      <td>443.399994</td>\n",
              "      <td>439.972809</td>\n",
              "      <td>442.760010</td>\n",
              "      <td>442.760010</td>\n",
              "      <td>56650963</td>\n",
              "      <td>SPY</td>\n",
              "      <td>0.634136</td>\n",
              "      <td>2023-08-28</td>\n",
              "    </tr>\n",
              "    <tr>\n",
              "      <th>41</th>\n",
              "      <td>132.080002</td>\n",
              "      <td>133.240005</td>\n",
              "      <td>130.850006</td>\n",
              "      <td>131.789993</td>\n",
              "      <td>131.789993</td>\n",
              "      <td>16324635</td>\n",
              "      <td>GOOG</td>\n",
              "      <td>0.841679</td>\n",
              "      <td>2023-08-28</td>\n",
              "    </tr>\n",
              "    <tr>\n",
              "      <th>48</th>\n",
              "      <td>103.470001</td>\n",
              "      <td>104.070000</td>\n",
              "      <td>100.894402</td>\n",
              "      <td>102.610001</td>\n",
              "      <td>102.610001</td>\n",
              "      <td>53658908</td>\n",
              "      <td>AMD</td>\n",
              "      <td>0.352079</td>\n",
              "      <td>2023-08-28</td>\n",
              "    </tr>\n",
              "    <tr>\n",
              "      <th>55</th>\n",
              "      <td>230.770004</td>\n",
              "      <td>233.080002</td>\n",
              "      <td>228.949997</td>\n",
              "      <td>232.419998</td>\n",
              "      <td>232.419998</td>\n",
              "      <td>2012410</td>\n",
              "      <td>PANW</td>\n",
              "      <td>0.719364</td>\n",
              "      <td>2023-08-28</td>\n",
              "    </tr>\n",
              "    <tr>\n",
              "      <th>62</th>\n",
              "      <td>21.900000</td>\n",
              "      <td>21.989901</td>\n",
              "      <td>21.889999</td>\n",
              "      <td>21.969999</td>\n",
              "      <td>21.969999</td>\n",
              "      <td>10248</td>\n",
              "      <td>DJIA</td>\n",
              "      <td>0.365463</td>\n",
              "      <td>2023-08-28</td>\n",
              "    </tr>\n",
              "    <tr>\n",
              "      <th>69</th>\n",
              "      <td>83.830002</td>\n",
              "      <td>84.684998</td>\n",
              "      <td>83.529999</td>\n",
              "      <td>84.160004</td>\n",
              "      <td>84.160004</td>\n",
              "      <td>11921946</td>\n",
              "      <td>DIS</td>\n",
              "      <td>0.959697</td>\n",
              "      <td>2023-08-28</td>\n",
              "    </tr>\n",
              "    <tr>\n",
              "      <th>76</th>\n",
              "      <td>366.989990</td>\n",
              "      <td>367.709991</td>\n",
              "      <td>364.250000</td>\n",
              "      <td>366.760010</td>\n",
              "      <td>366.760010</td>\n",
              "      <td>40614469</td>\n",
              "      <td>QQQ</td>\n",
              "      <td>0.752712</td>\n",
              "      <td>2023-08-28</td>\n",
              "    </tr>\n",
              "  </tbody>\n",
              "</table>\n",
              "</div>\n",
              "    <div class=\"colab-df-buttons\">\n",
              "\n",
              "  <div class=\"colab-df-container\">\n",
              "    <button class=\"colab-df-convert\" onclick=\"convertToInteractive('df-77e4050c-7171-4db8-8b89-ee48efdc22fd')\"\n",
              "            title=\"Convert this dataframe to an interactive table.\"\n",
              "            style=\"display:none;\">\n",
              "\n",
              "  <svg xmlns=\"http://www.w3.org/2000/svg\" height=\"24px\" viewBox=\"0 -960 960 960\">\n",
              "    <path d=\"M120-120v-720h720v720H120Zm60-500h600v-160H180v160Zm220 220h160v-160H400v160Zm0 220h160v-160H400v160ZM180-400h160v-160H180v160Zm440 0h160v-160H620v160ZM180-180h160v-160H180v160Zm440 0h160v-160H620v160Z\"/>\n",
              "  </svg>\n",
              "    </button>\n",
              "\n",
              "  <style>\n",
              "    .colab-df-container {\n",
              "      display:flex;\n",
              "      gap: 12px;\n",
              "    }\n",
              "\n",
              "    .colab-df-convert {\n",
              "      background-color: #E8F0FE;\n",
              "      border: none;\n",
              "      border-radius: 50%;\n",
              "      cursor: pointer;\n",
              "      display: none;\n",
              "      fill: #1967D2;\n",
              "      height: 32px;\n",
              "      padding: 0 0 0 0;\n",
              "      width: 32px;\n",
              "    }\n",
              "\n",
              "    .colab-df-convert:hover {\n",
              "      background-color: #E2EBFA;\n",
              "      box-shadow: 0px 1px 2px rgba(60, 64, 67, 0.3), 0px 1px 3px 1px rgba(60, 64, 67, 0.15);\n",
              "      fill: #174EA6;\n",
              "    }\n",
              "\n",
              "    .colab-df-buttons div {\n",
              "      margin-bottom: 4px;\n",
              "    }\n",
              "\n",
              "    [theme=dark] .colab-df-convert {\n",
              "      background-color: #3B4455;\n",
              "      fill: #D2E3FC;\n",
              "    }\n",
              "\n",
              "    [theme=dark] .colab-df-convert:hover {\n",
              "      background-color: #434B5C;\n",
              "      box-shadow: 0px 1px 3px 1px rgba(0, 0, 0, 0.15);\n",
              "      filter: drop-shadow(0px 1px 2px rgba(0, 0, 0, 0.3));\n",
              "      fill: #FFFFFF;\n",
              "    }\n",
              "  </style>\n",
              "\n",
              "    <script>\n",
              "      const buttonEl =\n",
              "        document.querySelector('#df-77e4050c-7171-4db8-8b89-ee48efdc22fd button.colab-df-convert');\n",
              "      buttonEl.style.display =\n",
              "        google.colab.kernel.accessAllowed ? 'block' : 'none';\n",
              "\n",
              "      async function convertToInteractive(key) {\n",
              "        const element = document.querySelector('#df-77e4050c-7171-4db8-8b89-ee48efdc22fd');\n",
              "        const dataTable =\n",
              "          await google.colab.kernel.invokeFunction('convertToInteractive',\n",
              "                                                    [key], {});\n",
              "        if (!dataTable) return;\n",
              "\n",
              "        const docLinkHtml = 'Like what you see? Visit the ' +\n",
              "          '<a target=\"_blank\" href=https://colab.research.google.com/notebooks/data_table.ipynb>data table notebook</a>'\n",
              "          + ' to learn more about interactive tables.';\n",
              "        element.innerHTML = '';\n",
              "        dataTable['output_type'] = 'display_data';\n",
              "        await google.colab.output.renderOutput(dataTable, element);\n",
              "        const docLink = document.createElement('div');\n",
              "        docLink.innerHTML = docLinkHtml;\n",
              "        element.appendChild(docLink);\n",
              "      }\n",
              "    </script>\n",
              "  </div>\n",
              "\n",
              "\n",
              "<div id=\"df-c591b3b2-59d4-4aa0-9a2a-f1648d271176\">\n",
              "  <button class=\"colab-df-quickchart\" onclick=\"quickchart('df-c591b3b2-59d4-4aa0-9a2a-f1648d271176')\"\n",
              "            title=\"Suggest charts.\"\n",
              "            style=\"display:none;\">\n",
              "\n",
              "<svg xmlns=\"http://www.w3.org/2000/svg\" height=\"24px\"viewBox=\"0 0 24 24\"\n",
              "     width=\"24px\">\n",
              "    <g>\n",
              "        <path d=\"M19 3H5c-1.1 0-2 .9-2 2v14c0 1.1.9 2 2 2h14c1.1 0 2-.9 2-2V5c0-1.1-.9-2-2-2zM9 17H7v-7h2v7zm4 0h-2V7h2v10zm4 0h-2v-4h2v4z\"/>\n",
              "    </g>\n",
              "</svg>\n",
              "  </button>\n",
              "\n",
              "<style>\n",
              "  .colab-df-quickchart {\n",
              "    background-color: #E8F0FE;\n",
              "    border: none;\n",
              "    border-radius: 50%;\n",
              "    cursor: pointer;\n",
              "    display: none;\n",
              "    fill: #1967D2;\n",
              "    height: 32px;\n",
              "    padding: 0 0 0 0;\n",
              "    width: 32px;\n",
              "  }\n",
              "\n",
              "  .colab-df-quickchart:hover {\n",
              "    background-color: #E2EBFA;\n",
              "    box-shadow: 0px 1px 2px rgba(60, 64, 67, 0.3), 0px 1px 3px 1px rgba(60, 64, 67, 0.15);\n",
              "    fill: #174EA6;\n",
              "  }\n",
              "\n",
              "  [theme=dark] .colab-df-quickchart {\n",
              "    background-color: #3B4455;\n",
              "    fill: #D2E3FC;\n",
              "  }\n",
              "\n",
              "  [theme=dark] .colab-df-quickchart:hover {\n",
              "    background-color: #434B5C;\n",
              "    box-shadow: 0px 1px 3px 1px rgba(0, 0, 0, 0.15);\n",
              "    filter: drop-shadow(0px 1px 2px rgba(0, 0, 0, 0.3));\n",
              "    fill: #FFFFFF;\n",
              "  }\n",
              "</style>\n",
              "\n",
              "  <script>\n",
              "    async function quickchart(key) {\n",
              "      const charts = await google.colab.kernel.invokeFunction(\n",
              "          'suggestCharts', [key], {});\n",
              "    }\n",
              "    (() => {\n",
              "      let quickchartButtonEl =\n",
              "        document.querySelector('#df-c591b3b2-59d4-4aa0-9a2a-f1648d271176 button');\n",
              "      quickchartButtonEl.style.display =\n",
              "        google.colab.kernel.accessAllowed ? 'block' : 'none';\n",
              "    })();\n",
              "  </script>\n",
              "</div>\n",
              "    </div>\n",
              "  </div>\n"
            ]
          },
          "metadata": {},
          "execution_count": 65
        }
      ]
    },
    {
      "cell_type": "code",
      "source": [
        "fin_data = {x:np.round(y,2) for x, y in zip(ddf.ticker, ddf.change_close)}\n",
        "fin_data\n",
        "# for index, row in ddf.iterrows():\n",
        "  # print(index, row[ticker], row[change_close])"
      ],
      "metadata": {
        "id": "DS0FNncz4HT4",
        "colab": {
          "base_uri": "https://localhost:8080/"
        },
        "outputId": "d3ee109d-95dd-4689-832c-fa73d02e3f51"
      },
      "execution_count": null,
      "outputs": [
        {
          "output_type": "execute_result",
          "data": {
            "text/plain": [
              "{'NVDA': 1.78,\n",
              " 'AMZN': -0.09,\n",
              " 'AAPL': 0.88,\n",
              " 'TSLA': 0.1,\n",
              " 'SPY': 0.63,\n",
              " 'GOOG': 0.84,\n",
              " 'AMD': 0.35,\n",
              " 'PANW': 0.72,\n",
              " 'DJIA': 0.37,\n",
              " 'DIS': 0.96,\n",
              " 'QQQ': 0.75}"
            ]
          },
          "metadata": {},
          "execution_count": 66
        }
      ]
    },
    {
      "cell_type": "code",
      "source": [
        "min_date = datetime.strptime(rr[0], '%Y-%m-%dT%H:%M:%S%z').strftime('%Y-%m-%d')\n",
        "max_date = datetime.strptime(rr[1], '%Y-%m-%dT%H:%M:%S%z').strftime('%Y-%m-%d')\n",
        "\n",
        "print(min_date,max_date)"
      ],
      "metadata": {
        "id": "RdkJtrOQOOqC",
        "colab": {
          "base_uri": "https://localhost:8080/"
        },
        "outputId": "5d03cf67-4cdb-47a3-bd85-825c20c55a00"
      },
      "execution_count": null,
      "outputs": [
        {
          "output_type": "stream",
          "name": "stdout",
          "text": [
            "2023-08-18 2023-08-28\n"
          ]
        }
      ]
    },
    {
      "cell_type": "code",
      "source": [
        "# Use TextWrap for pretty print not wider than 80 characters\n",
        "# https://stackoverflow.com/questions/16430200/a-good-way-to-make-long-strings-wrap-to-newline\n",
        "import pprint\n",
        "\n",
        "daily_indiv_stocks_summary = f' Start date for the articles: {min_date};'\n",
        "daily_indiv_stocks_summary+= f' End date for the articles: {max_date} \\n'\n",
        "for (k,r) in zip(responses_keys, responses):\n",
        "  ret_1d = None\n",
        "  if k[0] in fin_data.keys():\n",
        "    ret_1d=fin_data[k[0]]\n",
        "  daily_indiv_stocks_summary+=f'NEWS SUMMARY for {k}, which changed on {ret_1d}% last trading day: \\n'\n",
        "  daily_indiv_stocks_summary+=r +'\\n'\n",
        "\n",
        "pprint.pprint(daily_indiv_stocks_summary.splitlines())\n",
        "# print(daily_indiv_stocks_summary.splitlines())\n",
        "\n",
        "# for line in textwrap.wrap(daily_indiv_stocks_summary,80):\n",
        "#   print(line)\n",
        "\n",
        "\n",
        "# textwrap.wrap(daily_indiv_stocks_summary,80)\n",
        "#   print(f'NEWS SUMMARY for {k}, which changed on {fin_data[k[0]]}% last trading day:')\n",
        "#   print(textwrap.fill(r.replace('\\n',''),80))\n",
        "#   print(' ')\n",
        "\n",
        "# print()"
      ],
      "metadata": {
        "id": "73543IveB-fl",
        "colab": {
          "base_uri": "https://localhost:8080/"
        },
        "outputId": "ea3450d8-45e9-4d97-e4c6-479e4044364b"
      },
      "execution_count": null,
      "outputs": [
        {
          "output_type": "stream",
          "name": "stdout",
          "text": [
            "[' Start date for the articles: 2023-08-18; End date for the articles: '\n",
            " '2023-08-28 ',\n",
            " \"NEWS SUMMARY for ('NVDA', 52), which changed on 1.78% last trading day: \",\n",
            " 'Nvidia (NVDA) has been receiving positive attention from investors and '\n",
            " \"analysts. The company's strong financial performance and above-average \"\n",
            " 'growth make it an appealing investment option. Despite failing to acquire '\n",
            " \"Arm for $40 billion, Nvidia's success and hype around AI have been cited as \"\n",
            " 'reasons to be optimistic about the stock. Wall Street analysts have given '\n",
            " 'overly optimistic recommendations for NVDA, raising questions about the '\n",
            " 'effectiveness of these recommendations. Overall, Nvidia is well-positioned '\n",
            " 'for future growth and is viewed favorably by both investors and analysts.',\n",
            " \"NEWS SUMMARY for ('AMZN', 23), which changed on -0.09% last trading day: \",\n",
            " 'Analysts are optimistic about the future performance of Amazon (AMZN) stock, '\n",
            " 'citing its above-average growth and positive earnings estimate revisions. '\n",
            " 'The stock has seen a strong rebound this year and continues to exhibit '\n",
            " \"potential for further growth. Additionally, Amazon's AWS business is using \"\n",
            " 'artificial intelligence to revitalize its operations and bounce back in an '\n",
            " \"uncertain economy. The company's focus on regionalization and strategic cost \"\n",
            " 'management has also contributed to its success. Overall, Amazon remains an '\n",
            " 'attractive investment option with promising prospects.',\n",
            " \"NEWS SUMMARY for ('AAPL', 18), which changed on 0.88% last trading day: \",\n",
            " 'Apple is looking to increase its domestic component production in India, '\n",
            " \"according to a recent meeting between Apple executives and India's finance \"\n",
            " 'ministry officials. This move indicates a commitment to manufacturing '\n",
            " \"iPhones in India, rather than just assembling them. Apple's services segment \"\n",
            " \"is growing faster than the rest of the business, and the company's stock \"\n",
            " 'repurchases can help make up for mediocre growth. The tech giant is also '\n",
            " 'focused on software rather than hardware driving its future revenue.',\n",
            " \"NEWS SUMMARY for ('TSLA', 23), which changed on 0.1% last trading day: \",\n",
            " 'India is considering reducing import taxes for electric vehicle (EV) makers '\n",
            " 'like Tesla. The proposed policy could allow automakers to import '\n",
            " 'fully-assembled EVs with a reduced tax rate, potentially as low as 15%. '\n",
            " 'Currently, EVs costing over $40,000 face a 100% tax, while others face a 70% '\n",
            " 'tax. This could be good news for Tesla as it seeks to enter the Indian '\n",
            " 'market.',\n",
            " \"NEWS SUMMARY for ('SPY', 14), which changed on 0.63% last trading day: \",\n",
            " 'Zero-day options have been introduced for the Euro Stoxx 50 index, making it '\n",
            " 'more competitive with its US counterparts. Inflation concerns were discussed '\n",
            " 'at the Jackson Hole Symposium, with Federal Reserve Chair Jerome Powell '\n",
            " 'indicating a readiness to raise interest rates if necessary. Other Fed '\n",
            " 'officials had more cautious views, emphasizing the need for ongoing '\n",
            " 'monitoring of inflation. The University of Michigan Consumer Sentiment Index '\n",
            " 'declined in August, and there are mixed opinions on the path the Fed should '\n",
            " 'take. The options market has signaled a shift towards a more negative '\n",
            " 'sentiment.',\n",
            " \"NEWS SUMMARY for ('GOOG', 10), which changed on 0.84% last trading day: \",\n",
            " 'The Delhi High Court in India has dismissed two petitions that called for a '\n",
            " \"halt to Google Pay's operations in the country over alleged regulatory and \"\n",
            " 'privacy breaches. The court clarified that Google Pay operates as a '\n",
            " 'third-party app provider, allowing it to continue its services. This ruling '\n",
            " 'is seen as a win for Google and will remove regulatory roadblocks for its '\n",
            " 'payment platform in India.',\n",
            " \"NEWS SUMMARY for ('AMD', 10), which changed on 0.35% last trading day: \",\n",
            " 'AMD has announced the release of two new graphics cards, the Radeon RX 7800 '\n",
            " 'XT and Radeon RX 7700 XT. These cards aim to provide high-performance gaming '\n",
            " 'experiences and superior performance-per-dollar. The company is also '\n",
            " 'promoting its next-gen AMD FidelityFX Super Resolution 3, which offers '\n",
            " 'significant performance boosts and image quality in supported games across '\n",
            " \"various platforms. AMD's stock has experienced a decline following Nvidia's \"\n",
            " 'earnings report, but investors are encouraged to buy while the valuation is '\n",
            " 'relatively cheaper. Additionally, AMD is showcasing its enterprise data '\n",
            " 'center momentum with EPYC CPUs and Pensando DPUs.',\n",
            " \"NEWS SUMMARY for ('PANW', 14), which changed on 0.72% last trading day: \",\n",
            " 'Palo Alto Networks, a cybersecurity company, reported strong quarterly '\n",
            " 'profits at the end of its fiscal year, causing its stock to surge. Analysts '\n",
            " 'have increased their forecasts for the company after the upbeat earnings '\n",
            " 'report, with RBC Capital Markets maintaining an Outperform rating and '\n",
            " 'raising the price target from $250 to $281. Raymond James also reiterated an '\n",
            " 'Outperform rating and lifted the price target from $230 to $250. Palo Alto '\n",
            " 'Networks is seen as a leader in the cybersecurity industry and is heavily '\n",
            " 'focusing on utilizing artificial intelligence to power its software '\n",
            " 'products.',\n",
            " \"NEWS SUMMARY for ('DJIA', 11), which changed on 0.37% last trading day: \",\n",
            " 'The news covers a range of topics related to the U.S. economy and the stock '\n",
            " 'market. It includes articles on the likelihood of a stock market crash, a '\n",
            " \"dip in consumer sentiment due to economic worries, Jerome Powell's upcoming \"\n",
            " \"speech at the Jackson Hole Economic Symposium, the Federal Reserve's efforts \"\n",
            " 'to curb inflation, a drop in jobless claims indicating a strong labor '\n",
            " 'market, S&P surveys showing a slow-down in the U.S. economy, a fall in U.S. '\n",
            " 'home sales, the potential acceptance of rising bond yields by the Federal '\n",
            " 'Reserve, negative returns in the treasury market, new security agreements '\n",
            " 'between the U.S., Japan, and South Korea, and China Evergrande filing for '\n",
            " 'bankruptcy.',\n",
            " \"NEWS SUMMARY for ('DIS', 13), which changed on 0.96% last trading day: \",\n",
            " 'The news articles discuss various aspects of The Walt Disney Company (DIS). '\n",
            " \"Some articles examine the decline in Disney's stock price and whether it \"\n",
            " \"presents a buying opportunity or a trap. Others analyze Disney's streaming \"\n",
            " 'efforts and attendance decline, discussing potential solutions and future '\n",
            " \"prospects. There is also coverage of Disney's upcoming content on Hulu and \"\n",
            " 'the legal battle the company is engaged in regarding its special tax '\n",
            " \"district in Florida. Overall, the articles provide insights into Disney's \"\n",
            " 'financial performance, strategic decisions, and challenges it faces in the '\n",
            " 'media industry.',\n",
            " \"NEWS SUMMARY for ('QQQ', 1), which changed on 0.75% last trading day: \",\n",
            " 'A cartoon about the U.S. economy created by a Chinese state propaganda organ '\n",
            " 'has left everyone confused. The cartoon, which offers a perspective on the '\n",
            " 'U.S. economy, has garnered attention due to its unexpected source. It is not '\n",
            " 'uncommon for harsh critics to provide unvarnished truths, but people are '\n",
            " \"puzzled by the Chinese government's portrayal of the U.S. economy in this \"\n",
            " 'cartoon.']\n"
          ]
        }
      ]
    },
    {
      "cell_type": "code",
      "source": [
        "print(f'{daily_indiv_stocks_summary}')\n"
      ],
      "metadata": {
        "id": "i51P9hVs2fbB",
        "colab": {
          "base_uri": "https://localhost:8080/"
        },
        "outputId": "78c8bea4-0f69-4269-aac8-1e14b0516d00"
      },
      "execution_count": null,
      "outputs": [
        {
          "output_type": "stream",
          "name": "stdout",
          "text": [
            " Start date for the articles: 2023-08-18; End date for the articles: 2023-08-28 \n",
            "NEWS SUMMARY for ('NVDA', 52), which changed on 1.78% last trading day: \n",
            "Nvidia (NVDA) has been receiving positive attention from investors and analysts. The company's strong financial performance and above-average growth make it an appealing investment option. Despite failing to acquire Arm for $40 billion, Nvidia's success and hype around AI have been cited as reasons to be optimistic about the stock. Wall Street analysts have given overly optimistic recommendations for NVDA, raising questions about the effectiveness of these recommendations. Overall, Nvidia is well-positioned for future growth and is viewed favorably by both investors and analysts.\n",
            "NEWS SUMMARY for ('AMZN', 23), which changed on -0.09% last trading day: \n",
            "Analysts are optimistic about the future performance of Amazon (AMZN) stock, citing its above-average growth and positive earnings estimate revisions. The stock has seen a strong rebound this year and continues to exhibit potential for further growth. Additionally, Amazon's AWS business is using artificial intelligence to revitalize its operations and bounce back in an uncertain economy. The company's focus on regionalization and strategic cost management has also contributed to its success. Overall, Amazon remains an attractive investment option with promising prospects.\n",
            "NEWS SUMMARY for ('AAPL', 18), which changed on 0.88% last trading day: \n",
            "Apple is looking to increase its domestic component production in India, according to a recent meeting between Apple executives and India's finance ministry officials. This move indicates a commitment to manufacturing iPhones in India, rather than just assembling them. Apple's services segment is growing faster than the rest of the business, and the company's stock repurchases can help make up for mediocre growth. The tech giant is also focused on software rather than hardware driving its future revenue.\n",
            "NEWS SUMMARY for ('TSLA', 23), which changed on 0.1% last trading day: \n",
            "India is considering reducing import taxes for electric vehicle (EV) makers like Tesla. The proposed policy could allow automakers to import fully-assembled EVs with a reduced tax rate, potentially as low as 15%. Currently, EVs costing over $40,000 face a 100% tax, while others face a 70% tax. This could be good news for Tesla as it seeks to enter the Indian market.\n",
            "NEWS SUMMARY for ('SPY', 14), which changed on 0.63% last trading day: \n",
            "Zero-day options have been introduced for the Euro Stoxx 50 index, making it more competitive with its US counterparts. Inflation concerns were discussed at the Jackson Hole Symposium, with Federal Reserve Chair Jerome Powell indicating a readiness to raise interest rates if necessary. Other Fed officials had more cautious views, emphasizing the need for ongoing monitoring of inflation. The University of Michigan Consumer Sentiment Index declined in August, and there are mixed opinions on the path the Fed should take. The options market has signaled a shift towards a more negative sentiment.\n",
            "NEWS SUMMARY for ('GOOG', 10), which changed on 0.84% last trading day: \n",
            "The Delhi High Court in India has dismissed two petitions that called for a halt to Google Pay's operations in the country over alleged regulatory and privacy breaches. The court clarified that Google Pay operates as a third-party app provider, allowing it to continue its services. This ruling is seen as a win for Google and will remove regulatory roadblocks for its payment platform in India.\n",
            "NEWS SUMMARY for ('AMD', 10), which changed on 0.35% last trading day: \n",
            "AMD has announced the release of two new graphics cards, the Radeon RX 7800 XT and Radeon RX 7700 XT. These cards aim to provide high-performance gaming experiences and superior performance-per-dollar. The company is also promoting its next-gen AMD FidelityFX Super Resolution 3, which offers significant performance boosts and image quality in supported games across various platforms. AMD's stock has experienced a decline following Nvidia's earnings report, but investors are encouraged to buy while the valuation is relatively cheaper. Additionally, AMD is showcasing its enterprise data center momentum with EPYC CPUs and Pensando DPUs.\n",
            "NEWS SUMMARY for ('PANW', 14), which changed on 0.72% last trading day: \n",
            "Palo Alto Networks, a cybersecurity company, reported strong quarterly profits at the end of its fiscal year, causing its stock to surge. Analysts have increased their forecasts for the company after the upbeat earnings report, with RBC Capital Markets maintaining an Outperform rating and raising the price target from $250 to $281. Raymond James also reiterated an Outperform rating and lifted the price target from $230 to $250. Palo Alto Networks is seen as a leader in the cybersecurity industry and is heavily focusing on utilizing artificial intelligence to power its software products.\n",
            "NEWS SUMMARY for ('DJIA', 11), which changed on 0.37% last trading day: \n",
            "The news covers a range of topics related to the U.S. economy and the stock market. It includes articles on the likelihood of a stock market crash, a dip in consumer sentiment due to economic worries, Jerome Powell's upcoming speech at the Jackson Hole Economic Symposium, the Federal Reserve's efforts to curb inflation, a drop in jobless claims indicating a strong labor market, S&P surveys showing a slow-down in the U.S. economy, a fall in U.S. home sales, the potential acceptance of rising bond yields by the Federal Reserve, negative returns in the treasury market, new security agreements between the U.S., Japan, and South Korea, and China Evergrande filing for bankruptcy.\n",
            "NEWS SUMMARY for ('DIS', 13), which changed on 0.96% last trading day: \n",
            "The news articles discuss various aspects of The Walt Disney Company (DIS). Some articles examine the decline in Disney's stock price and whether it presents a buying opportunity or a trap. Others analyze Disney's streaming efforts and attendance decline, discussing potential solutions and future prospects. There is also coverage of Disney's upcoming content on Hulu and the legal battle the company is engaged in regarding its special tax district in Florida. Overall, the articles provide insights into Disney's financial performance, strategic decisions, and challenges it faces in the media industry.\n",
            "NEWS SUMMARY for ('QQQ', 1), which changed on 0.75% last trading day: \n",
            "A cartoon about the U.S. economy created by a Chinese state propaganda organ has left everyone confused. The cartoon, which offers a perspective on the U.S. economy, has garnered attention due to its unexpected source. It is not uncommon for harsh critics to provide unvarnished truths, but people are puzzled by the Chinese government's portrayal of the U.S. economy in this cartoon.\n",
            "\n"
          ]
        }
      ]
    },
    {
      "cell_type": "code",
      "source": [
        "r_summary, usage = chat(prompt = daily_indiv_stocks_summary,\n",
        "                        system_message_adj = 'Get the summary of an overall market, stock indexes, and individual stocks - not more than 10 sentences')\n",
        "print(f'Usage: {usage}')"
      ],
      "metadata": {
        "id": "uGH0oPfQK1tU",
        "colab": {
          "base_uri": "https://localhost:8080/"
        },
        "outputId": "69939dce-faa2-447e-f97f-1b0c68737cca"
      },
      "execution_count": null,
      "outputs": [
        {
          "output_type": "stream",
          "name": "stdout",
          "text": [
            "Usage: 1662\n"
          ]
        }
      ]
    },
    {
      "cell_type": "code",
      "source": [
        "pprint.pprint('TL;DR: ' + r_summary)"
      ],
      "metadata": {
        "id": "esi6iGbVpcoh",
        "colab": {
          "base_uri": "https://localhost:8080/"
        },
        "outputId": "0ac9a1f5-e76b-4d0e-c3c1-bd8e07e59143"
      },
      "execution_count": null,
      "outputs": [
        {
          "output_type": "stream",
          "name": "stdout",
          "text": [
            "('TL;DR: Nvidia (NVDA) has been receiving positive attention from investors '\n",
            " 'and analysts due to its strong financial performance and above-average '\n",
            " 'growth. Wall Street analysts have given overly optimistic recommendations '\n",
            " 'for NVDA, raising questions about the effectiveness of these '\n",
            " 'recommendations. Amazon (AMZN) stock is also optimistic, with above-average '\n",
            " 'growth and positive earnings estimate revisions. Apple (AAPL) is looking to '\n",
            " 'increase its domestic component production in India, showing a commitment to '\n",
            " 'manufacturing iPhones in the country. Tesla (TSLA) could benefit from '\n",
            " 'reduced import taxes for electric vehicles in India. The Euro Stoxx 50 index '\n",
            " 'introduces zero-day options and there are discussions about inflation '\n",
            " 'concerns and the possibility of raising interest rates. The Delhi High Court '\n",
            " \"in India has dismissed petitions to halt Google Pay's operations. AMD \"\n",
            " 'announces the release of two new graphics cards and showcases its enterprise '\n",
            " 'data center momentum. Palo Alto Networks (PANW) reported strong quarterly '\n",
            " 'profits, leading to a surge in its stock. Various news articles cover topics '\n",
            " 'related to the U.S. economy, the stock market, and The Walt Disney Company '\n",
            " '(DIS). Finally, a cartoon created by a Chinese state propaganda organ about '\n",
            " 'the U.S. economy has left people confused.')\n"
          ]
        }
      ]
    },
    {
      "cell_type": "code",
      "source": [
        "print('TL;DR: ' + r_summary)"
      ],
      "metadata": {
        "id": "s5a_QpRa-2I4",
        "colab": {
          "base_uri": "https://localhost:8080/"
        },
        "outputId": "8181aec7-8779-49de-f3c6-485521f4ff92"
      },
      "execution_count": null,
      "outputs": [
        {
          "output_type": "stream",
          "name": "stdout",
          "text": [
            "TL;DR: Nvidia (NVDA) has been receiving positive attention from investors and analysts due to its strong financial performance and above-average growth. Wall Street analysts have given overly optimistic recommendations for NVDA, raising questions about the effectiveness of these recommendations. Amazon (AMZN) stock is also optimistic, with above-average growth and positive earnings estimate revisions. Apple (AAPL) is looking to increase its domestic component production in India, showing a commitment to manufacturing iPhones in the country. Tesla (TSLA) could benefit from reduced import taxes for electric vehicles in India. The Euro Stoxx 50 index introduces zero-day options and there are discussions about inflation concerns and the possibility of raising interest rates. The Delhi High Court in India has dismissed petitions to halt Google Pay's operations. AMD announces the release of two new graphics cards and showcases its enterprise data center momentum. Palo Alto Networks (PANW) reported strong quarterly profits, leading to a surge in its stock. Various news articles cover topics related to the U.S. economy, the stock market, and The Walt Disney Company (DIS). Finally, a cartoon created by a Chinese state propaganda organ about the U.S. economy has left people confused.\n"
          ]
        }
      ]
    },
    {
      "cell_type": "markdown",
      "source": [
        "# 2) Market summary"
      ],
      "metadata": {
        "id": "DmRZp-GKt92G"
      }
    },
    {
      "cell_type": "code",
      "source": [
        "# https://learn.microsoft.com/en-us/azure/cognitive-services/openai/how-to/chatgpt?pivots=programming-language-chat-completions\n",
        "\n",
        "def do_market_news_analysis(chunks, prompts, model = \"gpt-3.5-turbo-16k\"):\n",
        "  responses_market = []\n",
        "  used_tokens = []\n",
        "  print(f'Chunks of news :{chunks}')\n",
        "  for i,prompt in enumerate(prompts):\n",
        "    count_words = len(prompt.split(\" \"))\n",
        "    if len(chunks)==1:\n",
        "      print(f'Analyzing MARKET news in 1 chunk, total count of words:{count_words}')\n",
        "    else:\n",
        "      print(f' Analyzing MARKET news for chunk {i} (news range: {chunks[i],chunks[i+1]}): total count of words for a current chunk {count_words}')\n",
        "\n",
        "    if i==0:\n",
        "      system_adj_message = 'Find market expectations of future events, sentiment, and big trends. Not more than 20 sentences' #specify more details\n",
        "    else:\n",
        "      system_adj_message = f'Find big trends, no more than 20 bullet points or sentences, and avoid duplicated messages while prioritising the most popular and discussed news. Improve previous findings: {response} ' #specify more details\n",
        "\n",
        "    # passing params to the downstream call\n",
        "    response = chat(prompt = prompt,\n",
        "                    system_message_adj = system_adj_message,\n",
        "                    model=model)\n",
        "    responses_market.append(response)\n",
        "\n",
        "    time.sleep(1)\n",
        "  return responses_market, used_tokens"
      ],
      "metadata": {
        "id": "jOgZOCx1OcjO"
      },
      "execution_count": null,
      "outputs": []
    },
    {
      "cell_type": "markdown",
      "source": [
        "## 1day market summary"
      ],
      "metadata": {
        "id": "NpWPVP47xOrQ"
      }
    },
    {
      "cell_type": "code",
      "source": [
        "# Feel the inputs to the summarization engine - manually check top 5 news: <date, tickers, title, description> for each\n",
        "market_summary_desc_last_day[market_summary_key_last_day][0:5]"
      ],
      "metadata": {
        "id": "dKR845p3nH8n",
        "colab": {
          "base_uri": "https://localhost:8080/"
        },
        "outputId": "547c2e8d-a99f-4020-8050-257b6c650843"
      },
      "execution_count": null,
      "outputs": [
        {
          "output_type": "execute_result",
          "data": {
            "text/plain": [
              "[\"2023-08-28T20:27:00Z| ['DJIA', 'DHR', 'MMM', 'RAD', 'HE', 'COMP', 'ABCM']| S&P 500 and Nasdaq end higher, attempting to beat back worst month since December| Stocks see gains Monday as investors continue to weigh cautious comments from Federal Reserve Chairman Jerome Powell and get ready for another big data week.\",\n",
              " \"2023-08-28T20:07:00Z| ['DJIA', 'COMP']| The stock market is set up for a relief rally. Don't chase the bounce, says technician.| The potential reward from chasing a stock-market bounce isn't attractive, according to Tyler Richey, co-editor at Sevens Report Research.\",\n",
              " \"2023-08-28T20:01:00Z| ['FIVE', 'DG', 'DLTR']| Five Below And Dollar General Q2 Earnings Preview: Aiming To Emulate Dollar Tree's Beat| Two leading discount retailers are set to report quarterly earnings this week, aiming to emulate a peer company that recently beat\\xa0analysts’ estimates.\\nHere’s a look at what investors should know ahead of second quarter financial results from Five Below Inc (NASDAQ: FIVE) and Dollar General (NYSE: DG).\\nEarnings Estimates: Five Below will report second quarter financial results after market close Wednesday, Aug. 30. Analysts expect the company to report revenue of $758.3 million, according to data from Benzinga Pro.\\nThe company reported revenue of $668.9 million in the second quarter of last year and revenue of $726.7 million in the first quarter of the current fiscal year.\\nThe company has beaten seven and missed five of the last 12 quarters for revenue estimates, including missing four of the last six quarters.\\nAnalysts expect the company to report second quarter earnings per share of 83 cents. The company reported earnings of 74 cents per share in the second quarter of last year and earnings per share of 67 cents in the first quarter of the current fiscal year.\\nOver the last 11 quarters, Five Below has beat analysts’ EPS estimates in nine quarters, missed in one quarter and matched in one quarter.\\nThe company previously forecasted for second quarter revenue to come in the range of $755 million to $765 million.\\nTurning to Dollar General, they're set to report second quarter financial results before market open on Thursday, Aug. 31.\\nAnalysts expect the company to report second quarter revenue of $9.9 billion. The company reported revenue of $9.4 billion in the second quarter of last year and reported revenue of $9.3 billion in the first quarter of the current fiscal year.\\nDollar General has beaten revenue estimates in three of the last ...Full story available on Benzinga.com\",\n",
              " \"2023-08-28T19:19:00Z| ['JETS', 'AAL']| American Airlines fined for leaving thousands stranded on tarmac| American Airlines Group Inc. was fined $4.1 million for keeping thousands of passengers sitting in planes on the tarmac for hours without a chance to deplane.\",\n",
              " \"2023-08-28T19:13:02Z| ['UBER', 'DASH']| Uber Eats To Roll Out AI Companion That Will Help You Pick Your Next Meal| With the rapid rise of artificial intelligence\\xa0tools available, more and more companies are looking for ways to integrate the potentially transformative technology into their businesses. Uber Eats is no different.\\xa0\\nUber Eats is preparing to roll out an AI-powered chatbot that will help you decide what to eat for your next meal, according to a Bloomberg report. The report states that details of Uber’s AI chatbot were ...\"]"
            ]
          },
          "metadata": {},
          "execution_count": 74
        }
      ]
    },
    {
      "cell_type": "code",
      "source": [
        "print(f'Chunks and len prompts: {chunks_day}, {len(market_summary_prompts_last_day[0])}')"
      ],
      "metadata": {
        "id": "PtW_9zkuxNcf",
        "colab": {
          "base_uri": "https://localhost:8080/"
        },
        "outputId": "e4f6d3f8-b34d-4cf8-e1aa-8bff6d5f8a03"
      },
      "execution_count": null,
      "outputs": [
        {
          "output_type": "stream",
          "name": "stdout",
          "text": [
            "Chunks and len prompts: [0, 96, 222], 40390\n"
          ]
        }
      ]
    },
    {
      "cell_type": "code",
      "source": [
        "# how many news?\n",
        "market_summary_key_last_day"
      ],
      "metadata": {
        "id": "x3VugeE7xU0L",
        "colab": {
          "base_uri": "https://localhost:8080/"
        },
        "outputId": "05747a8c-b048-493c-cda2-977b3f680a13"
      },
      "execution_count": null,
      "outputs": [
        {
          "output_type": "execute_result",
          "data": {
            "text/plain": [
              "('multiple_tickers', 231)"
            ]
          },
          "metadata": {},
          "execution_count": 76
        }
      ]
    },
    {
      "cell_type": "code",
      "source": [
        "%%time\n",
        "summary_market_one_day, used_tokens_market_one_day= do_market_news_analysis(chunks_day, market_summary_prompts_last_day)\n",
        "print(used_tokens_market_one_day)"
      ],
      "metadata": {
        "id": "OmZd5VtowXlX",
        "colab": {
          "base_uri": "https://localhost:8080/"
        },
        "outputId": "af847864-f059-46b2-f5d9-8e7d30150a54"
      },
      "execution_count": null,
      "outputs": [
        {
          "output_type": "stream",
          "name": "stdout",
          "text": [
            "Chunks of news :[0, 96, 222]\n",
            " Analyzing MARKET news for chunk 0 (news range: (0, 96)): total count of words for a current chunk 5828\n",
            " Analyzing MARKET news for chunk 1 (news range: (96, 222)): total count of words for a current chunk 5830\n",
            "[]\n",
            "CPU times: user 124 ms, sys: 19.8 ms, total: 144 ms\n",
            "Wall time: 20.6 s\n"
          ]
        }
      ]
    },
    {
      "cell_type": "code",
      "source": [
        "%%time\n",
        "summary_market_one_day_gpt4, used_tokens_market_one_day_gpt4= do_market_news_analysis(chunks_day_for_gpt4, market_summary_prompts_last_day_for_gpt4, model='gpt-4')\n",
        "print(used_tokens_market_one_day_gpt4)"
      ],
      "metadata": {
        "colab": {
          "base_uri": "https://localhost:8080/"
        },
        "id": "wS1-z6lp4NWO",
        "outputId": "82bdcf8a-9f8f-45a4-f8a9-5b2d79a459be"
      },
      "execution_count": null,
      "outputs": [
        {
          "output_type": "stream",
          "name": "stdout",
          "text": [
            "Chunks of news :[0, 38, 96, 155, 222]\n",
            " Analyzing MARKET news for chunk 0 (news range: (0, 38)): total count of words for a current chunk 2943\n",
            " Analyzing MARKET news for chunk 1 (news range: (38, 96)): total count of words for a current chunk 2886\n",
            " Analyzing MARKET news for chunk 2 (news range: (96, 155)): total count of words for a current chunk 2906\n",
            " Analyzing MARKET news for chunk 3 (news range: (155, 222)): total count of words for a current chunk 2925\n",
            "[]\n",
            "CPU times: user 1.04 s, sys: 124 ms, total: 1.17 s\n",
            "Wall time: 3min 5s\n"
          ]
        }
      ]
    },
    {
      "cell_type": "code",
      "source": [
        "pprint.pprint(summary_market_one_day)"
      ],
      "metadata": {
        "id": "2IK0Augjw5SM",
        "colab": {
          "base_uri": "https://localhost:8080/"
        },
        "outputId": "6b8b1c31-d756-4976-9f58-7111cd3f20f3"
      },
      "execution_count": null,
      "outputs": [
        {
          "output_type": "stream",
          "name": "stdout",
          "text": [
            "[('The S&P 500 and Nasdaq ended higher on Monday, attempting to recover from '\n",
            "  'their worst month since December. Investors were cautious following '\n",
            "  'comments from Federal Reserve Chairman Jerome Powell and were preparing for '\n",
            "  'another big week of economic data. Technician Tyler Richey warned against '\n",
            "  \"chasing a stock-market bounce, stating that the potential reward isn't \"\n",
            "  'attractive. Discount retailers Five Below and Dollar General are set to '\n",
            "  \"report quarterly earnings with expectations for Five Below's revenue to be \"\n",
            "  \"$758.3 million and Dollar General's revenue to be $9.9 billion. American \"\n",
            "  'Airlines was fined $4.1 million for leaving thousands of passengers '\n",
            "  'stranded on the tarmac. Uber Eats is preparing to roll out an AI-powered '\n",
            "  'chatbot to help users decide what to eat for their next meal. Analysts have '\n",
            "  'recommended three penny stocks to buy, with price targets of up to 1,494%. '\n",
            "  'Hawaiian Electric and GD Culture Group saw their shares surge, while RPT '\n",
            "  'Realty soared after agreeing to be acquired by Kimco in an all-stock '\n",
            "  'transaction. Analysts are divided on whether ARK Innovation ETF is still a '\n",
            "  'top buy. In corporate news, Hersha Hospitality Trust announced a merger '\n",
            "  'with KSL Capital Partners, while RPT Realty agreed to be acquired by Kimco. '\n",
            "  'MACOM Technology Solutions Holdings was upgraded to Buy by Benchmark '\n",
            "  'following its acquisition of radio frequency business from Wolfspeed. '\n",
            "  'NovoCure shares plunged while Mobile Infrastructure and GD Culture Group '\n",
            "  'saw their shares spike higher.',\n",
            "  12106),\n",
            " ('- The stock market is consolidating slightly above support levels, with '\n",
            "  \"investors cautious after Jerome Powell's speech at Jackson Hole and \"\n",
            "  'focusing on the narrative of no recession.\\n'\n",
            "  '- Economic data has been strong, postponing the possibility of a recession '\n",
            "  'for now.\\n'\n",
            "  '- Lower income households are maintaining spending by borrowing while '\n",
            "  'higher income households continue to spend as stock prices and house prices '\n",
            "  'remain high.\\n'\n",
            "  '- Excessive government borrowing and spending is providing more stimulus to '\n",
            "  'the economy than expected.\\n'\n",
            "  '- Recession probability is estimated at 45%, soft landing at 35%, and no '\n",
            "  'landing at 20%.\\n'\n",
            "  '- Nikola stock and Plug Power stock are growing rapidly in terms of revenue '\n",
            "  'but are also seeing increasing losses.\\n'\n",
            "  '- Federal Reserve Chair Jerome Powell warned of potential interest rate '\n",
            "  'hikes until inflation is within the target range.\\n'\n",
            "  '- U.S. stocks opened higher on Monday, with the Dow Jones up 0.81% and the '\n",
            "  'NASDAQ up 0.61%.\\n'\n",
            "  '- Kimco Realty announced a merger agreement to acquire RPT Realty in an '\n",
            "  'all-stock transaction worth $2 billion.\\n'\n",
            "  '- Hersha Hospitality Trust announced a merger with KSL Capital Partners.\\n'\n",
            "  \"- Mobile Infrastructure Corporation's stock shot up 76% after the launch of \"\n",
            "  'its live-streaming e-commerce business on TikTok.\\n'\n",
            "  '- Sherwin-Williams shares have seen a 21% increase in the past six months.\\n'\n",
            "  '- Analysts recommend buying three penny stocks with price targets of up to '\n",
            "  '1,494%.\\n'\n",
            "  '- Uber Eats is preparing to roll out an AI-powered chatbot to help users '\n",
            "  'decide what to eat.\\n'\n",
            "  '- American Airlines was fined $4.1 million for leaving passengers stranded '\n",
            "  'on the tarmac.\\n'\n",
            "  '- Five Below is expected to report quarterly revenue of $758.3 million and '\n",
            "  'Dollar General is expected to report revenue of $9.9 billion.\\n'\n",
            "  '- MACOM Technology Solutions Holdings was upgraded to Buy by Benchmark '\n",
            "  \"after its acquisition of Wolfspeed's radio frequency business.\\n\"\n",
            "  '- NovoCure shares plunged while Mobile Infrastructure and GD Culture Group '\n",
            "  'saw their shares spike higher.',\n",
            "  12508)]\n"
          ]
        }
      ]
    },
    {
      "cell_type": "code",
      "source": [
        "# last chunk of One day summary (MODEL = gpt-3.5-turbo-16k)\n",
        "print(f'MARKET NEWS SUMMARY {market_summary_key_last_day} for the last 24 hours before {datetime.now(timezone.utc).strftime(\"%d/%m/%Y %H:%M\")} UTC time:')\n",
        "print(summary_market_one_day[len(summary_market_one_day)-1][0])"
      ],
      "metadata": {
        "id": "qwzDSVpM3kHv",
        "colab": {
          "base_uri": "https://localhost:8080/"
        },
        "outputId": "d8bbcaa3-e5c9-4cbc-e417-ed136e14f52c"
      },
      "execution_count": null,
      "outputs": [
        {
          "output_type": "stream",
          "name": "stdout",
          "text": [
            "MARKET NEWS SUMMARY ('multiple_tickers', 231) for the last 24 hours from 28/08/2023 20:59 UTC time:\n",
            "- The stock market is consolidating slightly above support levels, with investors cautious after Jerome Powell's speech at Jackson Hole and focusing on the narrative of no recession.\n",
            "- Economic data has been strong, postponing the possibility of a recession for now.\n",
            "- Lower income households are maintaining spending by borrowing while higher income households continue to spend as stock prices and house prices remain high.\n",
            "- Excessive government borrowing and spending is providing more stimulus to the economy than expected.\n",
            "- Recession probability is estimated at 45%, soft landing at 35%, and no landing at 20%.\n",
            "- Nikola stock and Plug Power stock are growing rapidly in terms of revenue but are also seeing increasing losses.\n",
            "- Federal Reserve Chair Jerome Powell warned of potential interest rate hikes until inflation is within the target range.\n",
            "- U.S. stocks opened higher on Monday, with the Dow Jones up 0.81% and the NASDAQ up 0.61%.\n",
            "- Kimco Realty announced a merger agreement to acquire RPT Realty in an all-stock transaction worth $2 billion.\n",
            "- Hersha Hospitality Trust announced a merger with KSL Capital Partners.\n",
            "- Mobile Infrastructure Corporation's stock shot up 76% after the launch of its live-streaming e-commerce business on TikTok.\n",
            "- Sherwin-Williams shares have seen a 21% increase in the past six months.\n",
            "- Analysts recommend buying three penny stocks with price targets of up to 1,494%.\n",
            "- Uber Eats is preparing to roll out an AI-powered chatbot to help users decide what to eat.\n",
            "- American Airlines was fined $4.1 million for leaving passengers stranded on the tarmac.\n",
            "- Five Below is expected to report quarterly revenue of $758.3 million and Dollar General is expected to report revenue of $9.9 billion.\n",
            "- MACOM Technology Solutions Holdings was upgraded to Buy by Benchmark after its acquisition of Wolfspeed's radio frequency business.\n",
            "- NovoCure shares plunged while Mobile Infrastructure and GD Culture Group saw their shares spike higher.\n"
          ]
        }
      ]
    },
    {
      "cell_type": "code",
      "source": [
        "# last chunk of One day summary (MODEL = gpt-4)\n",
        "print(f'MARKET NEWS SUMMARY {market_summary_key_last_day} for the last 24 hours before {datetime.now(timezone.utc).strftime(\"%d/%m/%Y %H:%M\")} UTC time:')\n",
        "print(summary_market_one_day_gpt4[len(summary_market_one_day_gpt4)-1][0])"
      ],
      "metadata": {
        "colab": {
          "base_uri": "https://localhost:8080/"
        },
        "id": "_IFHKhEK55Ko",
        "outputId": "273b0764-9e49-4aae-b291-921a73bb2ea8"
      },
      "execution_count": null,
      "outputs": [
        {
          "output_type": "stream",
          "name": "stdout",
          "text": [
            "MARKET NEWS SUMMARY ('multiple_tickers', 231) for the last 24 hours from 28/08/2023 20:59 UTC time:\n",
            "- Consumer-centric stocks LYV, RCL, DKNG, MAR, PEP continue to show strong potential for 2023.\n",
            "- Oncology treatment market is experiencing significant growth, with companies REGN, MRK, NVS and AZN taking the lead.\n",
            "- CHK and LNG are fundamentally sound investments amid uncertainty within the natural gas market.\n",
            "- Three biotech stocks AGEN, BCRX and NNOX highlighted as attractive buys.\n",
            "- High demand trends have allegedly boosted Ciena's (CIEN) fiscal Q3 performance.\n",
            "- Lennar and Quanta Services are part of the Zacks Earnings Preview article.\n",
            "- Novo Nordisk stock's latest financial report suggests it's only getting started.\n",
            "- Wall Street delivered mixed performances last week due to rising rates.\n",
            "- Caterpillar (CAT), Applied Materials (AMAT), Toll Brothers (TOL), Walmart (WMT) and Dr. Reddy's (RDY) are solid choices for investors amid market weakness.\n",
            "- XPeng (XPEV) plans to accelerate adoption of Smart EVs and technologies through an alliance with DiDi.\n",
            "- A \"bear market\", where stock prices fall at least 20% from their peak, is expected according to some analysts.\n",
            "- Healthcare technology, building technology, and security solutions are three industries recommended for investment.\n",
            "- Warren Buffett has bought three homebuilder stocks, one of which would be a winner for patient, long-term investors.\n",
            "- An uptick in insider trading has been reported amongst various stocks. \n",
            "- Zacks has highlighted Palo Alto Networks and Ciena as bull and bear of the day, respectively.\n",
            "- A rise in high-yielding stocks in the healthcare sector was reported. \n",
            "- Wall Street analysts targeting high-yield dividend stocks in the health care sector revealed Pfizer Inc. as a primary pick.\n",
            "- A look at the most overbought stocks in the materials sector shows potential for investment in overvalued companies.\n",
            "- Nvidia stocks are poised to rally around 20% according to an analyst.\n",
            "- For investors in penny stocks, 2023 is offering fresh opportunities. \n",
            "- Amidst inflationary issues, real estate industry presents an attractive proposition for patient, long-term followers of Warren Buffet investing model.\n",
            "- Fidelity MSCI Utilities Index ETF (FUTY) and S&P SmallCap 600 Revenue ETF (RWJ) are being eyed for potential investment as cash-like ETFs hit a 52-week high.\n",
            "- PetVivo Holdings announced it has achieved national distribution for its product Spryng to over 500 veterinary clinics across 49 states. \n",
            "- Novo Nordisk's strong stock performance continues, with predictions of more growth to come. \n",
            "- Nvidia executives remain confident about the company's market position in spite of ongoing chip supply issues.\n",
            "- In the tech sector, Alphabet and Adobe are identified as potential growth stocks to invest in 2023.\n",
            "- The automotive industry is set for a shake-up with the increased adoption of EV technologies, as evidenced by XPEng's recent partnership with DiDi. \n",
            "- The global brand FMC has made notable strides in the global herbicide product market.\n",
            "- The biggest stock on Wall Street is reportedly not Amazon or Nvidia, but remains undisclosed. \n",
            "- Shell is reportedly in talks with China's Sinopec for the sale of Shell's Bukom oil refinery in Singapore.\n",
            "- Warren Buffett's interest in the homebuilding sector indicates a likely upward trend for the industry. \n",
            "- Investment experts warn against an emerging trend of overbought stocks in the materials sector. \n",
            "- With interest rates poised to rise further this year, cash-like ETFs have hit a 52-week high.\n",
            "- According to a recent note from Citigroup Global Markets, investors should not invest in \"those inferior foreign stocks\".\n"
          ]
        }
      ]
    },
    {
      "cell_type": "markdown",
      "source": [
        "PROMPT TO CHAT GPT : \"compare 2 summaries by GPT-3.5-turbo-16k vs. gpt-4\"\n",
        "RESULT:\n",
        "*\n",
        "Both summaries cover a range of market events, including stock upgrades and downgrades, corporate actions, macroeconomic developments, and notable earnings reports. GPT-4 seems to provide slightly more specific details about each event and offers a bit more in-depth insights, while GPT-3.5-Turbo-16k tends to be a bit more concise and general in its descriptions.\n"
      ],
      "metadata": {
        "id": "p-3GEE9U7ZJ_"
      }
    },
    {
      "cell_type": "markdown",
      "source": [
        "## 1 week summary - chain of calls"
      ],
      "metadata": {
        "id": "Xvry3wHfxvWx"
      }
    },
    {
      "cell_type": "code",
      "source": [
        "print(f'Chunks and len prompts: {chunks_week}, {len(market_summary_prompts_week[0])}')"
      ],
      "metadata": {
        "id": "Egl0BtWvx0oC",
        "colab": {
          "base_uri": "https://localhost:8080/"
        },
        "outputId": "c9185611-471c-4e60-b2fb-eacb966b06a9"
      },
      "execution_count": null,
      "outputs": [
        {
          "output_type": "stream",
          "name": "stdout",
          "text": [
            "Chunks and len prompts: [0, 96, 222, 367, 483, 608, 681, 809, 931, 1034, 1145, 1292, 1402, 1504, 1625, 1730, 1851, 1988, 2107], 40390\n"
          ]
        }
      ]
    },
    {
      "cell_type": "code",
      "source": [
        "# how many news?\n",
        "print( market_summary_key_week)"
      ],
      "metadata": {
        "id": "EyXLy3YluDTi",
        "colab": {
          "base_uri": "https://localhost:8080/"
        },
        "outputId": "9c80ad40-9141-4e19-815a-1d18e5ed6646"
      },
      "execution_count": null,
      "outputs": [
        {
          "output_type": "stream",
          "name": "stdout",
          "text": [
            "('multiple_tickers', 2208)\n"
          ]
        }
      ]
    },
    {
      "cell_type": "code",
      "source": [
        "len(market_summary_prompts_week)"
      ],
      "metadata": {
        "id": "t60dCJDyu_G6",
        "colab": {
          "base_uri": "https://localhost:8080/"
        },
        "outputId": "fee81ef3-95f7-439c-9c84-8acd4d8e89a8"
      },
      "execution_count": null,
      "outputs": [
        {
          "output_type": "execute_result",
          "data": {
            "text/plain": [
              "18"
            ]
          },
          "metadata": {},
          "execution_count": 84
        }
      ]
    },
    {
      "cell_type": "code",
      "source": [
        "# Monday is 0 https://docs.python.org/3/library/datetime.html#datetime.datetime.weekday\n",
        "# Run only on Monday to save $$ and time\n",
        "%%time\n",
        "if datetime.today().weekday()==0:\n",
        "  summary_market_one_week, used_tokens_market_one_week= do_market_news_analysis(chunks_week, market_summary_prompts_week)\n",
        "  print(used_tokens_market_one_week)"
      ],
      "metadata": {
        "id": "4pssib-GyFDz",
        "colab": {
          "base_uri": "https://localhost:8080/"
        },
        "outputId": "a459ba7c-b90a-44e8-adb7-2eb5a4bdace8"
      },
      "execution_count": null,
      "outputs": [
        {
          "output_type": "stream",
          "name": "stdout",
          "text": [
            "Chunks of news :[0, 96, 222, 367, 483, 608, 681, 809, 931, 1034, 1145, 1292, 1402, 1504, 1625, 1730, 1851, 1988, 2107]\n",
            " Analyzing MARKET news for chunk 0 (news range: (0, 96)): total count of words for a current chunk 5828\n",
            " Analyzing MARKET news for chunk 1 (news range: (96, 222)): total count of words for a current chunk 5830\n",
            " Analyzing MARKET news for chunk 2 (news range: (222, 367)): total count of words for a current chunk 5819\n",
            " Analyzing MARKET news for chunk 3 (news range: (367, 483)): total count of words for a current chunk 5851\n",
            " Analyzing MARKET news for chunk 4 (news range: (483, 608)): total count of words for a current chunk 5699\n",
            " Analyzing MARKET news for chunk 5 (news range: (608, 681)): total count of words for a current chunk 5827\n",
            " Analyzing MARKET news for chunk 6 (news range: (681, 809)): total count of words for a current chunk 5872\n",
            " Analyzing MARKET news for chunk 7 (news range: (809, 931)): total count of words for a current chunk 5855\n",
            " Analyzing MARKET news for chunk 8 (news range: (931, 1034)): total count of words for a current chunk 5891\n",
            " Analyzing MARKET news for chunk 9 (news range: (1034, 1145)): total count of words for a current chunk 5864\n",
            " Analyzing MARKET news for chunk 10 (news range: (1145, 1292)): total count of words for a current chunk 5846\n",
            " Analyzing MARKET news for chunk 11 (news range: (1292, 1402)): total count of words for a current chunk 5507\n",
            " Analyzing MARKET news for chunk 12 (news range: (1402, 1504)): total count of words for a current chunk 5756\n",
            " Analyzing MARKET news for chunk 13 (news range: (1504, 1625)): total count of words for a current chunk 5870\n",
            " Analyzing MARKET news for chunk 14 (news range: (1625, 1730)): total count of words for a current chunk 5855\n",
            " Analyzing MARKET news for chunk 15 (news range: (1730, 1851)): total count of words for a current chunk 5827\n",
            " Analyzing MARKET news for chunk 16 (news range: (1851, 1988)): total count of words for a current chunk 5842\n",
            " Analyzing MARKET news for chunk 17 (news range: (1988, 2107)): total count of words for a current chunk 5617\n",
            "[]\n"
          ]
        }
      ]
    },
    {
      "cell_type": "code",
      "source": [
        "# run only on Monday\n",
        "if datetime.today().weekday()==0:\n",
        "  for i,summary in enumerate(summary_market_one_week):\n",
        "    print(f'Iteration {i}')\n",
        "    print('--------------------')\n",
        "    pprint.pprint(summary[0].replace('\\n',' '))"
      ],
      "metadata": {
        "id": "i9af7NLuyhth",
        "colab": {
          "base_uri": "https://localhost:8080/"
        },
        "outputId": "036838cd-3a51-49ed-c758-da55373839a7"
      },
      "execution_count": null,
      "outputs": [
        {
          "output_type": "stream",
          "name": "stdout",
          "text": [
            "Iteration 0\n",
            "--------------------\n",
            "('The S&P 500 and Nasdaq ended higher on Monday, attempting to beat back their '\n",
            " 'worst month since December. Investors continue to weigh cautious comments '\n",
            " 'from Federal Reserve Chairman Jerome Powell and prepare for another big data '\n",
            " 'week. Technician Tyler Richey warns against chasing the stock market bounce, '\n",
            " \"stating that the potential reward isn't attractive. This week, discount \"\n",
            " 'retailers Five Below and Dollar General are set to report their '\n",
            " 'second-quarter earnings. Five Below is expected to report revenue of $758.3 '\n",
            " 'million, while Dollar General is expected to report revenue of $9.9 billion. '\n",
            " 'American Airlines Group Inc. was fined $4.1 million for keeping thousands of '\n",
            " 'passengers sitting in planes on the tarmac for hours without a chance to '\n",
            " 'deplane. Uber Eats is preparing to roll out an AI-powered chatbot that will '\n",
            " 'help users decide what to eat for their next meal. Analysts have identified '\n",
            " 'three penny stocks to buy, with potential targets up to 1,494%. Hawaiian '\n",
            " 'Electric Industries saw its shares surge by 40% following its response to a '\n",
            " 'recent lawsuit filed against the company. MACOM Technology Solutions '\n",
            " 'Holdings has been upgraded to Buy, with a price target of $92. NovoCure '\n",
            " 'shares are trading lower by around 31%, with other stocks also moving in '\n",
            " \"Monday's session. The US stock market is trading higher following China's \"\n",
            " 'announcement of a 50% reduction in the stamp duty on domestic stocks and '\n",
            " 'guidelines for relaxing residential housing loans over the weekend. Traders '\n",
            " 'speculate on a potential rate pause in September and a close call between a '\n",
            " \"rate hike and a hold in November. Benzinga's top rating upgrades include \"\n",
            " 'Futu Holdings, Apartment Income REIT, UDR Inc, MACOM Technology Solutions '\n",
            " 'Holdings, Emerson Electric, Church & Dwight Co, AppFolio, Akebia '\n",
            " 'Therapeutics, UGI Corp, and Zimmer Biomet Holdings.')\n",
            "Iteration 1\n",
            "--------------------\n",
            "('- The stock market is consolidating slightly above support levels as '\n",
            " 'investors weigh cautious comments from Federal Reserve Chairman Jerome '\n",
            " 'Powell. - Economic data has been strong, postponing the possibility of a '\n",
            " 'recession. - Lower-income households are maintaining their spending by '\n",
            " 'borrowing, while higher-income households continue to spend due to the '\n",
            " 'AI-powered stock market rally and high home prices. - Excessive government '\n",
            " 'borrowing and spending is providing more stimulus to the economy than '\n",
            " \"anticipated. - Analysts' probabilities going forward are: 45% recession, 35% \"\n",
            " 'soft landing, 20% no landing. - Nikola stock and Plug Power stock are both '\n",
            " 'growing revenue rapidly, but losses are mounting on the bottom line. - The '\n",
            " 'Federal Reserve Chair Jerome Powell warned of potential interest rate hikes '\n",
            " 'until inflation comes in the target range of 2%. - Kimco Realty Corp has '\n",
            " 'acquired RPT Realty in an all-stock transaction for around $2 billion. - '\n",
            " 'Hawaiian Electric Industries saw its shares surge by 40% following its '\n",
            " 'response to a recent lawsuit. - Uber Eats is preparing to roll out an '\n",
            " 'AI-powered chatbot to help users decide what to eat for their next meal. - '\n",
            " 'American Airlines Group Inc. was fined $4.1 million for tarmac delays. - '\n",
            " 'Analysts have identified three penny stocks with potential targets up to '\n",
            " '1,494%. - MACOM Technology Solutions Holdings has been upgraded to Buy with '\n",
            " 'a price target of $92. - NovoCure shares are trading lower by around 31%. - '\n",
            " \"China's announcement of a 50% reduction in stamp duty on domestic stocks and \"\n",
            " 'guidelines for relaxing residential housing loans has boosted the US stock '\n",
            " 'market. - Traders speculate on a potential rate pause in September and a '\n",
            " \"close call between a rate hike and a hold in November. - Benzinga's top \"\n",
            " 'rating upgrades include Futu Holdings, Apartment Income REIT, UDR Inc, MACOM '\n",
            " 'Technology Solutions Holdings, Emerson Electric, Church & Dwight Co, '\n",
            " 'AppFolio, Akebia Therapeutics, UGI Corp, and Zimmer Biomet Holdings.')\n",
            "Iteration 2\n",
            "--------------------\n",
            "('- Better Home & Finance Holding Company (BETR) shares dipped 15.1% in '\n",
            " 'pre-market trading after closing a business combination with special-purpose '\n",
            " 'acquisition company Aurora Acquisition. - Ideanomics, Inc. (IDEX) shares '\n",
            " 'tumbled 8.8% in pre-market trading after reporting second-quarter results. - '\n",
            " 'TOL, GES, and CRH made it to the Zacks Rank #1 (Strong Buy) value stocks '\n",
            " \"list for August 28, 2023. - Some of Wall Street's most successful \"\n",
            " 'billionaire money managers are reducing their holdings in Dow stocks such as '\n",
            " 'INTC, JNJ, and CRM. - Berkshire Hathaway continues to buy shares of BRK.B '\n",
            " 'and BRK.A, while selling shares of ATVI. - MELI, AMZN, and AAPL are three '\n",
            " 'popular stocks being purchased by genius investors. - Hawaiian Electric '\n",
            " 'Industries saw its shares surge by 40% following its response to a recent '\n",
            " 'lawsuit. - Uber Eats is preparing to roll out an AI-powered chatbot to help '\n",
            " 'users decide what to eat for their next meal. - American Airlines Group Inc. '\n",
            " 'has been fined $4.1 million for tarmac delays. - Analysts have identified '\n",
            " 'three penny stocks with potential targets up to 1,494%. - MACOM Technology '\n",
            " 'Solutions Holdings has been upgraded to Buy with a price target of $92. - '\n",
            " \"NovoCure shares are trading lower by around 31%. - China's announcement of a \"\n",
            " '50% reduction in stamp duty on domestic stocks and guidelines for relaxing '\n",
            " 'residential housing loans has boosted the US stock market. - Traders '\n",
            " 'speculate on a potential rate pause in September and a close call between a '\n",
            " \"rate hike and a hold in November. - Benzinga's top rating upgrades include \"\n",
            " 'Futu Holdings, Apartment Income REIT, UDR Inc, MACOM Technology Solutions '\n",
            " 'Holdings, Emerson Electric, Church & Dwight Co, AppFolio, Akebia '\n",
            " 'Therapeutics, UGI Corp, and Zimmer Biomet Holdings. - The CNN Money Fear and '\n",
            " 'Greed index showed some improvement in overall sentiment among US investors '\n",
            " 'on Friday. - Affirm Holdings saw its shares jump around 29% on Friday. - '\n",
            " 'Analysts remain bullish on Snowflake stock, while others question its '\n",
            " \"valuation. - Marqeta's revenue is expected to be cut in half, but analysts \"\n",
            " 'still see it as a buy. - BDCs are in a Goldilocks period with low debt costs '\n",
            " 'and high returns on their investments. - Gallup polling shows that an '\n",
            " 'alcoholic drink is more popular than ever in 2023. - The music industry is '\n",
            " 'going increasingly global, with songs in different languages landing in the '\n",
            " 'Top 10. - Walt Disney Co is striving to regain its footing after hitting its '\n",
            " 'lowest point in almost 10 years. - Airbnb and Etsy are staying strong, but '\n",
            " 'investors may need to be patient if economic conditions worsen.')\n",
            "Iteration 3\n",
            "--------------------\n",
            "('- Raymond James downgrades ratings on Holly Energy Partners and Crestwood '\n",
            " 'Equity Partners amid separate acquisition deals. - Investors continue to '\n",
            " \"sell the news after Nvidia's blockbuster earnings report. - Grab Holdings \"\n",
            " 'stock surges after beating second-quarter results and raising guidance. - '\n",
            " 'Bank of America warns that tightening by central banks could overshadow the '\n",
            " \"artificial intelligence rally in the tech stock market. - Broadcom's AI \"\n",
            " 'contribution surges as analysts justify an Outperform rating and raise price '\n",
            " 'target. - Oppenheimer reiterates Outperform ratings on Nvidia and Microsoft, '\n",
            " 'highlighting the impact of Azure and AI. - Analysts recommend three low-beta '\n",
            " 'stocks to navigate market volatility. - BriaCell receives court approval for '\n",
            " 'a share arrangement spinning out BriaPro Therapeutics. - U.S. stocks gain, '\n",
            " 'with the Nasdaq Composite up over 100 points. - Affirm Holdings shares surge '\n",
            " 'on better-than-expected Q4 financial results and guidance. - Hibbett reports '\n",
            " 'Q2 earnings not as bad as feared, thanks to lower freight and logistics '\n",
            " 'costs. - IQVIA stock improves 8% in three months due to market expansion and '\n",
            " \"service improvements. - Citigroup invests in Peru's leading fintech Rextie \"\n",
            " 'to enter Latin America FX space. - Blink Charging shares tumble despite '\n",
            " 'locking in multiple EV charging agreements. - Power utility stocks provide '\n",
            " 'low volatility returns and regular dividends. - The Gallup poll shows that '\n",
            " 'the popularity of alcoholic drinks is at an all-time high in 2023. - The '\n",
            " 'music industry is going global, with songs in different languages landing in '\n",
            " 'the Top 10. - Walt Disney Co is working to regain its footing after hitting '\n",
            " 'its lowest point in almost 10 years. - Airbnb and Etsy remain strong, but '\n",
            " 'investors may need to be patient in case of worsening economic conditions.')\n",
            "Iteration 4\n",
            "--------------------\n",
            "('- VinFast Auto, a red-hot IPO stock, has seen its stock price surge over '\n",
            " \"240% in the past five days. - Daqo New Energy's subsidiary announces a share \"\n",
            " \"repurchase program worth RMB 200-400 million. - Baidu's revenue growth is \"\n",
            " 'accelerating again, making its stock a potentially attractive buy. - CNA '\n",
            " 'Financial is expected to grow due to a strong rate, higher income, improved '\n",
            " 'net earned premium, and sufficient liquidity. - U.S. stocks are trading '\n",
            " 'higher, with the Dow Jones gaining over 200 points. - Hibbett Inc. reports '\n",
            " 'mixed second-quarter financial results, but still expects sales to be flat '\n",
            " 'to up 2% for FY24. - Crown ElectroKinetics Corp. shares surge after issuing '\n",
            " 'a second-quarter business update. - Bank of America warns that the '\n",
            " 'tightening of central bank liquidity could impact the tech sector. - '\n",
            " \"Pfizer's RSV vaccine, Abrysvo, receives approval in Europe for maternal \"\n",
            " 'immunization and older adults. - Barfresh Food Group and Coca-Cola European '\n",
            " 'have outperformed their sector so far this year. - Dream Finders Homes and '\n",
            " 'Comfort Systems have underperformed compared to their sector this year. - '\n",
            " 'Analysts predict a potential burst of the tech bubble with the tightening of '\n",
            " \"central bank liquidity. - BioSig's subscription model for PURE EP is gaining \"\n",
            " 'traction in arrhythmia care. - Arcimoto reports a narrower net loss in Q2 '\n",
            " 'compared to the same period last year. - Live Nation Entertainment, B&G '\n",
            " 'Foods, and this energy stock are mentioned in CNBC\\'s \"Final Trades.\" - '\n",
            " 'Salesforce and Ulta Beauty share positive Q2 earnings results and updated '\n",
            " \"guidance. - PayPal's revenue growth and transactional metrics have been \"\n",
            " 'declining, making its stock a potential buy. - Unum Group and Dollar General '\n",
            " \"are recommended as low-beta stocks to navigate market volatility. - NVIDIA's \"\n",
            " 'datacenter sales surge in Q2 due to increased investments in generative AI '\n",
            " 'technology. - Agree Realty and Vici Properties are appealing stocks to '\n",
            " \"consider for long-term investment. - Cathie Wood's Ark Invest views Apple, \"\n",
            " 'Alphabet, and Nvidia as risky, but these AI stocks could be better '\n",
            " \"alternatives. - Marvell Technology's Q2 earnings and revenue beat \"\n",
            " 'expectations. - NetApp and Google roll out a new managed storage service. - '\n",
            " \"Mastercard's growth potential makes its stock a long-term investment \"\n",
            " \"opportunity. - PayPal's Q2 earnings were mixed, but a new CEO and additional \"\n",
            " 'products could drive growth in the long term. - These ultra-high-yield '\n",
            " 'stocks offer an annual-dividend income above $200 and are worthy '\n",
            " \"considerations. - IBM's IBM Selectric typewriters reinvented the ink-jetting \"\n",
            " 'process. - TC Energy plans to sell a stake in NGTL to indigenous groups as '\n",
            " 'part of its deleveraging plan. - Recursion Pharmaceuticals and 23andMe are '\n",
            " 'AI biotech stocks that are competing in the healthcare industry. - Investor '\n",
            " 'Warren Buffett can collect over $4 billion in annual-dividend income from '\n",
            " 'five stocks. - Hibbett beats Q2 earnings estimates, and Intuit reports '\n",
            " 'better-than-expected Q2 results. - The CNN Money Fear and Greed Index moves '\n",
            " 'to the \"Fear\" zone ahead of Powell\\'s speech.')\n",
            "Iteration 5\n",
            "--------------------\n",
            "('- Nvidia stock shows muted reaction to outstanding Q2 results, investors '\n",
            " \"cautious ahead of Federal Reserve Chair Jerome Powell's speech at Jackson \"\n",
            " 'Hole. - Analysts have upwardly revised their fiscal year 2024 estimates for '\n",
            " \"Nvidia following upbeat Q3 guidance. - Nvidia's current consensus earnings \"\n",
            " 'per share estimate for the year is $16.68, making the stock look cheap '\n",
            " 'compared to large-cap peer Tesla. - Opch, STRL, and FC are listed as Zacks '\n",
            " 'Rank #1 (Strong Buy) growth stocks. - Investors are cautioned about a '\n",
            " 'potential burst of the tech bubble with the tightening of central bank '\n",
            " 'liquidity. - Dollar Tree reports better-than-expected Q2 earnings and raises '\n",
            " 'sales guidance for FY23. - Ulta Beauty reports better-than-expected Q2 '\n",
            " 'earnings and revenue results, shares rise. - Splunk shares surge 13.3% after '\n",
            " 'reporting better-than-expected Q2 results and issuing positive FY24 revenue '\n",
            " 'guidance. - Boise Cascade to acquire Brockway-Smith for $172 million, '\n",
            " 'further strengthening its position in the millwork sector. - Viavi unveils '\n",
            " 'testing solutions for non-terrestrial networks and high-altitude platforms. '\n",
            " '- Nokia introduces a comprehensive 25G PON starter kit for high-speed '\n",
            " 'connectivity. - Talented young individuals share advice on finding side '\n",
            " 'hustles for additional income.')\n",
            "Iteration 6\n",
            "--------------------\n",
            "('- Shares of Peloton Interactive Inc (PTON) rise after its Q4 results, but '\n",
            " 'analysts remain cautious due to concerns over financials and customer '\n",
            " 'acquisition costs. - Manulife (MFC) launches a Personalized Medicine Program '\n",
            " 'for its Enhanced Health Care members in Canada. - Primerica (PRI) is poised '\n",
            " 'for growth due to higher premiums in term life insurance and improving '\n",
            " 'senior health business. - Nuclear power is seeing increased demand, leading '\n",
            " 'to higher uranium prices. - RLI Corp (RLI) expects Q3 catastrophe losses of '\n",
            " '$65-$75 million from Hawaiian wildfires. - Catalent Inc (CTLT) is expected '\n",
            " 'to be affected by soft segmental performances in its Q4 earnings report. - '\n",
            " 'Texas Instruments Inc (TXN) adds new current sensors and integrated shunt '\n",
            " 'solutions to its portfolio offerings. - American Financial Group Inc (AFG) '\n",
            " 'announces an increase in dividend payouts, showing its commitment to '\n",
            " 'shareholder value. - Masimo Corp (MASI) announces the U.S. availability of '\n",
            " 'its Stork smart home baby monitoring system. - NETGEAR Inc (NTGR) launches '\n",
            " 'PR60X to enhance small business networks. - Alphabet Inc (GOOGL) expands its '\n",
            " 'free streaming lineup on Google TV with 25 new free channels. - Reliance '\n",
            " 'Steel & Aluminum Co. (RS) faces pricing pressure but experiences strong '\n",
            " 'demand in key markets and acquisitions. - Panasonic Corp (PCRFY) gains 37.7% '\n",
            " 'year-to-date due to solid momentum in its automotive and connectivity '\n",
            " 'businesses. - Great Lakes Dredge & Dock Corp (GLDD) wins a contract for the '\n",
            " 'Port Arthur LNG Phase 1 project. - Snowflake Inc (SNOW) reports solid '\n",
            " 'earnings but faces challenges in future growth. - Indian ETFs are in focus '\n",
            " \"after India's recent successful lunar mission. - General Electric Co (GE) \"\n",
            " 'unit GE Vernova wins an order for gas turbines in China. - Taiwan '\n",
            " 'Semiconductor Manufacturing Co (TSM) stock falls despite encouraging results '\n",
            " 'from a key customer. - Rio Tinto Plc (RIO) renews its agreement for the QMM '\n",
            " 'mine in Madagascar. - U.S. stocks turn lower, with the Dow Jones falling '\n",
            " 'over 200 points. - Dollar Tree Inc (DLTR) reports better-than-expected Q2 '\n",
            " 'earnings and sales, while Ulta Beauty Inc (ULTA) also beats expectations '\n",
            " 'with its Q2 results. - Splunk Inc (SPLK) shares surge after reporting '\n",
            " 'better-than-expected Q2 results and issuing positive FY24 revenue guidance. '\n",
            " '- Nvidia Corp (NVDA) stock soars after outstanding Q2 results and strong Q3 '\n",
            " 'guidance.')\n",
            "Iteration 7\n",
            "--------------------\n",
            "('- Shares of Kinder Morgan (KMI) rise as its stable fee-based revenues from '\n",
            " 'midstream infrastructure generate positive results, but the company may face '\n",
            " 'challenges due to a downturn in drilling activities. - Jim Cramer shares his '\n",
            " 'opinions on Acushnet Holdings Corp. (GOLF) and Hawaiian Electric Industries, '\n",
            " 'Inc. (HE). - Ross Stores (ROST) and Coursera (COUR) hit 52-week highs, '\n",
            " 'prompting a closer look at their fundamentals for future gains. - Hewlett '\n",
            " 'Packard (HPE) is expected to report positive Q3 earnings due to increased '\n",
            " 'demand for cloud services. - Stock analysis compares Zoom Video '\n",
            " 'Communications and Cisco Systems. - Three top dividend stocks for retirement '\n",
            " 'income are highlighted as alternative income options. - Short Hills Capital '\n",
            " 'Partners recommends Freeport-McMoRan Inc. (FCX) as a good investment. - LGI '\n",
            " 'Homes (LGIH) introduces its third community in California. - LumiraDx '\n",
            " 'Limited (LMDX) reports Q2 loss, missing revenue estimates, potentially '\n",
            " 'affecting its stock. - Jabil (JBL) stock has surged 53% in 2023 and is '\n",
            " 'expected to continue growing due to its relationship with Apple. - Guess? '\n",
            " '(GES) rallies on better-than-expected Q2 earnings and raised profit view. - '\n",
            " 'Roche (RHHBY) experiences stock increase after publishing favorable cancer '\n",
            " \"drug study data. - HeartSciences' MyoVista wavECG is selected for a heart \"\n",
            " 'screening evaluation study in Dublin, Ireland. - Pebblebrook (PEB) reports '\n",
            " 'operating results that meet expectations, citing a recovery in urban '\n",
            " 'markets. - Beyond Meat (BYND), Ingredion (INGR), and Walmart (WMT) are '\n",
            " 'identified as stocks to watch as plant-based meat products gain popularity. '\n",
            " '- Five industrial product stocks are recommended for investment: CAT, IR, '\n",
            " 'HUBB, AOS, ETN. - Goldman Sachs (GS), Morgan Stanley (MS), JPMorgan (JPM), '\n",
            " 'and UBS Group (UBS) agree to pay $499 million to settle a stock lending '\n",
            " 'lawsuit. - Insider transactions highlight insider buying activity in various '\n",
            " 'penny stocks. - Chevron (CVX) plans to increase gas production at its '\n",
            " 'Wheatstone LNG facility in Australia. - Arena Investors, Australian Oilseeds '\n",
            " 'Holdings, and EDOC Acquisition Corp. announce a $7 million investment and a '\n",
            " '$50 million ELOC. - BAE Systems (BAESY) wins a contract for Bradley Fighting '\n",
            " 'Vehicles. - Clearway Energy (CWEN) benefits from acquisitions and focuses on '\n",
            " 'North America. - CONMED (CNMD) stock is recommended for holding due to its '\n",
            " 'broad product spectrum. - Nvidia (NVDA) reports outstanding Q2 earnings and '\n",
            " 'strong Q3 guidance, indicating a bullish future for the AI industry. - '\n",
            " 'IShares of other AI stocks, including NVDA, AMD, TSM, MSFT, and GOOGL, '\n",
            " 'reflect the AI boom in the first half of 2023. - CleanSpark (CLSK), '\n",
            " 'Stronghold (SDIG), and HIVE Digital (HIVE) are highlighted as growing crypto '\n",
            " 'mining stocks. - US stocks turn lower, with the Dow Jones falling over 200 '\n",
            " 'points. - Dollar Tree (DLTR) and Ulta Beauty (ULTA) report '\n",
            " 'better-than-expected Q2 earnings and sales. - Splunk (SPLK) shares surge '\n",
            " 'after reporting better-than-expected Q2 results and issuing positive FY24 '\n",
            " 'revenue guidance. - Nvidia (NVDA) stock soars after outstanding Q2 results '\n",
            " 'and strong Q3 guidance.')\n",
            "Iteration 8\n",
            "--------------------\n",
            "('- HSBC, TCPC, and HSII are listed as Zacks Rank #1 income stocks. - The 2024 '\n",
            " 'Nissan Pathfinder receives high marks for towing, interior comfort, and '\n",
            " 'safety. - Publicis, Omnicom, and The Interpublic Group are highlighted in an '\n",
            " 'industry outlook article. - KB Home, Medallion Financial, ePlus, Charles '\n",
            " 'River, and PagSeguro Digital are featured in a Screen of The Week article. - '\n",
            " 'Kinross Gold, B2Gold, Galiano Gold, and Vista Gold are highlighted in an '\n",
            " 'industry outlook article. - iShares Core S&P 500 ETF, iShares 0-3 Month '\n",
            " 'Treasury Bond ETF, SPDR Bloomberg 1-3 Month T-Bill ETF, Vanguard S&P 500 '\n",
            " 'ETF, and iShares Russell 2000 ETF are included in an analyst blog. - Getty '\n",
            " 'Realty, Trinity Capital, Crescent Capital, Golub Capital, and Runway Growth '\n",
            " 'Finance are featured in an analyst blog. - Target, Walmart, and TJX are '\n",
            " 'highlighted in an earnings trends article. - Apple, Nasdaq 100 Index ETF, '\n",
            " 'Super Micro Computer, and S&P 500 Index ETF are highlighted in an investment '\n",
            " 'ideas article. - Merck, Philip Morris, Qualcomm, CVS Health, and Chubb are '\n",
            " 'included in an analyst blog. - Perdoceo Education, Boot Barn, and iRadimed '\n",
            " 'are featured in a Screen of The Week article. - HOLO, HKIT, KAVL, and TIO '\n",
            " 'are among the stocks gaining attention in mid-day trading. - Analog Devices '\n",
            " 'reports weaker-than-expected Q3 results, including a decline in revenue. - '\n",
            " 'UPS secures a five-year labor deal, averting the risk of a strike. - Other '\n",
            " 'chip startups hope to challenge Nvidia in the AI space as investors '\n",
            " \"anticipate Nvidia's earnings report. - Foot Locker reports \"\n",
            " 'softer-than-expected sales and a weaker start to back-to-school shopping. - '\n",
            " 'MetLife partners with Empathy to offer enhanced bereavement services to its '\n",
            " 'customers. - The S&P 500 and Nasdaq Composite have a strong day, with '\n",
            " 'technology stocks leading the rally. - U.S. stocks turn higher as bond '\n",
            " \"yields fall and investors await Nvidia's earnings report. - Medtronic's \"\n",
            " 'tummy tuck surgery sales are not affected by global weight-loss treatment '\n",
            " 'trends. - Urban Outfitters beats earnings and shows improvement in sales at '\n",
            " 'Anthropologie Group and Free People brands. - Comcast expands its Xfinity '\n",
            " '10G network in Spring Hill, boosting its service offerings. - Key events and '\n",
            " 'earnings reports to watch include Dollar Tree, Nvidia, Snowflake, and Gap '\n",
            " 'Inc.')\n",
            "Iteration 9\n",
            "--------------------\n",
            "(\"- ProAssurance's (PRA) higher investment returns, thanks to a high interest \"\n",
            " \"rate environment, will keep benefiting the company's results. - General \"\n",
            " \"Motors' (GM) Ultium Cells battery plant is under investigation due to a \"\n",
            " 'hazardous solvent leak that presents an unreasonable risk to human health. - '\n",
            " 'Despite negative economic news coming out of China, there are still '\n",
            " 'opportunities in the stock market for Chinese tech stocks. - Lucid (LCID) is '\n",
            " 'offering special lease and financing deals on its vehicle models, which has '\n",
            " 'received a positive response from customers. - U.S. stocks traded higher, '\n",
            " 'with the Dow Jones gaining over 100 points on Wednesday. The Nasdaq rose '\n",
            " '1.40% to 13,694.79 and the S&P 500 gained 0.88% to 4,426.35. - Communication '\n",
            " 'services shares rose by 2.1%, while energy shares fell by 0.7%. - U.S. crude '\n",
            " 'oil inventories declined by 6.135 million barrels in the week to August 18, '\n",
            " '2023, compared to market estimates for a 2.85 million barrel decline. - VCI '\n",
            " 'Global Limited (VCIG) shares shot up 83% after announcing a collaboration '\n",
            " 'with Microsoft Azure OpenAI. - Apellis Pharmaceuticals, Inc. (APLS) shares '\n",
            " 'got a boost, shooting 33% after the company said events of retinal '\n",
            " 'vasculitis in treatment with SYFOVRE were rare. - iTeos Therapeutics, Inc. '\n",
            " '(ITOS) shares were up 32% following the release of Roche NSCLC data. - '\n",
            " 'Ideanomics, Inc. (IDEX) shares dropped 27% after the company announced a '\n",
            " 'reverse stock split. - Foot Locker, Inc. (FL) shares tumbled 34.4% after the '\n",
            " 'company reported a second-quarter revenue miss and a rise in inventories. - '\n",
            " 'Verizon (VZ) has introduced new upgrades to deliver superior connectivity to '\n",
            " 'Home Internet users and bring promotional offers to attract more customers. '\n",
            " '- ExxonMobil (XOM) plans to develop its sixth oil project in Guyana, '\n",
            " 'increasing its oil production to more than 1.2 million barrels per day. - '\n",
            " 'Nvidia, Novavax, and AMC Entertainment are among the stocks in the '\n",
            " 'spotlight. - American Airlines (AAL) anticipates non-fuel unit costs to '\n",
            " \"increase in the 4-6% range year over year in Q3. - Federal Realty's (FRT) \"\n",
            " 'focus on retail and mixed-use assets, expansion efforts, and a solid balance '\n",
            " 'sheet position it well for growth despite rising e-commerce adoption and '\n",
            " 'high-interest rate concerns. - Bristol Myers (BMY) obtains approval in the '\n",
            " 'EU for Opdivo for the adjuvant treatment of adults and adolescents with '\n",
            " 'stage IIB or IIC melanoma who have undergone complete resection. - '\n",
            " 'Williams-Sonoma (WSM) delivered earnings and revenue surprises for Q2. - '\n",
            " 'Wells Fargo downgraded Dollar General Corp (DG) from Positive to Mixed. - '\n",
            " 'Matterport, Inc. (MTTR) Director Jason Krikorian acquired 100,000 shares at '\n",
            " 'an average price of $2.46. - Uber Technologies, Inc. (UBER) CFO Nelson Chai '\n",
            " 'sold 100,000 shares at an average price of $45.05. - Marathon Digital '\n",
            " 'Holdings, Inc. (MARA) joined LOT Network. - Lockheed Martin (LMT) won a $607 '\n",
            " 'million deal to aid F-35 fighter jets. - CareCloud, Inc. (CCLD) sponsored '\n",
            " 'the 7th Annual Gulfcoast Orthopaedic Rehabilitation Conference. - There are '\n",
            " 'rumors of further reorganization under Citi CEO Jane Fraser. - The largest '\n",
            " 'companies by market cap are Apple, Microsoft, and Saudi Aramco. - The S&P '\n",
            " '500 is overweight in big tech, but diversifying with other highly-rated '\n",
            " 'funds can provide portfolio diversification. - Sector ETFs are going short '\n",
            " 'amid worries about higher interest rates. - The Zacks Advertising and '\n",
            " 'Marketing industry is expected to gradually reach pre-pandemic levels with '\n",
            " 'an increase in service activities. Companies like PUBGY, OMC, and IPG are '\n",
            " 'likely to benefit from the surge in digital marketing and client-centric '\n",
            " 'strategies. - Canadian Solar Inc. (CSIQ) has been oversold in the '\n",
            " 'information technology sector.')\n",
            "Iteration 10\n",
            "--------------------\n",
            "('- TotalEnergies (TTE) acquires a 40% stake in a Norway CO2 storage '\n",
            " 'exploration license. - Boeing (BA) wins a contract to support the Harpoon '\n",
            " \"Missile System. - Petrobras' (PBR) chief expects another 40 years of oil \"\n",
            " 'production. - Stryker (SYK) and NextEra Energy (NEE) are recommended stocks. '\n",
            " '- Cheniere Energy (LNG) signs a long-term LNG supply deal with BASF. - '\n",
            " 'Dominion Energy (D) is building a solar farm at Dulles Airport. - AMC '\n",
            " 'Entertainment (AMC) shares are trading lower by 21%. - Abercrombie & Fitch '\n",
            " '(ANF) surpasses Q2 earnings and revenue estimates. - All S&P 500 sectors are '\n",
            " 'down in August, on pace for a broad monthly drop. - Gainers in pre-market '\n",
            " 'trading include Apellis Pharmaceuticals (APLS) and iTeos Therapeutics '\n",
            " '(ITOS). - Foot Locker (FL) misses Q2 earnings and revenue estimates. - Urban '\n",
            " 'Outfitters (URBN) and Toll Brothers (TOL) beat earnings expectations. - '\n",
            " 'Investors should consider high-yield dividend stocks and consumer staples '\n",
            " \"stocks. - Warren Buffett's top holdings include Apple (AAPL) and Berkshire \"\n",
            " \"Hathaway (BRK.A, BRK.B). - Nvidia's earnings report is highly anticipated. - \"\n",
            " 'Investors should consider AI stocks like Nvidia (NVDA), Microsoft (MSFT), '\n",
            " 'and Alphabet (GOOG). - Goldman Sachs (GS) cancels summer Fridays and wants '\n",
            " 'employees in the office five days a week. - A Chinese market crash is a '\n",
            " 'concern, making investors cautious. - Chip stocks like Intel (INTC) and '\n",
            " 'Nvidia (NVDA) should be considered. - UPS workers vote to approve a new '\n",
            " 'contract. - Investors should buy non-cyclical stocks and telecom stocks like '\n",
            " \"Verizon (VZ) and AT&T (T). - Mario Gabelli's funds reveal their 13F \"\n",
            " 'portfolios. - QQQ and RSP are compared for ETF investing considerations. - '\n",
            " 'Urban Outfitters and Toll Brothers beat earnings expectations. - The SPDR '\n",
            " 'S&P Transportation ETF (XTN) is a strong ETF option. - WisdomTree '\n",
            " 'International Equity ETF (DWM) and MSCI Agriculture Producers ETF (VEGI) are '\n",
            " 'strong ETFs. - The Strive U.S. Energy ETF (DRLL) and VanEck Agribusiness ETF '\n",
            " '(MOO) are options for investment. - iShares Russell Mid-Cap Growth ETF (IWP) '\n",
            " 'should be considered for investment.')\n",
            "Iteration 11\n",
            "--------------------\n",
            "('- Invesco S&P 500 Equal Weight ETF (RSP) and SPDR Portfolio S&P 500 Growth '\n",
            " 'ETF (SPYG) are recommended for investment. - Toll Brothers (TOL) and Urban '\n",
            " \"Outfitters (URBN) beat earnings expectations in Q3. - Dick's Sporting Goods \"\n",
            " \"(DKS) reported Q2 earnings that missed estimates. - Nvidia's (NVDA) earnings \"\n",
            " 'report is highly anticipated. - Wells Fargo (WFC) won a dismissal in a '\n",
            " 'lawsuit accusing the bank of faking interviews for workplace diversity. - '\n",
            " 'Goldman Sachs (GS) revealed a long-term AI portfolio of 50 stocks that are '\n",
            " \"positioned for growth. - Lowe's (LOW) reported lower sales year over year in \"\n",
            " 'Q2. - Gilead Sciences (GILD) faces a clinical hold on clinical trials for '\n",
            " 'its leukemia treatment. - Zoom Video Communications (ZM) reported upbeat '\n",
            " 'earnings and raised its full-year guidance. - L3Harris (LHX) secured a '\n",
            " 'modification contract for the procurement of production hardware for '\n",
            " 'submarines. - Burlington Stores (BURL) is set to report Q2 earnings. - A '\n",
            " 'class action suit against Wells Fargo (WFC) over fake interviews was '\n",
            " 'dismissed. - Carrier (CARR) expanded its line of WeatherExpert rooftop '\n",
            " 'units. - Fabrinet (FN) reported Q4 earnings that topped estimates. - Madison '\n",
            " 'Square Garden Entertainment (MSGE) reported upbeat earnings but '\n",
            " 'disappointing sales in Q4. - Krystal (KRYS) sold its priority review voucher '\n",
            " 'for $100 million. - Progressive (PGR) is recommended for investment due to '\n",
            " 'positive factors. - Energizer Holdings (ENR) is benefiting from its Project '\n",
            " \"Momentum program. - Lowe's (LOW) announced development of RFIDs embedded in \"\n",
            " 'power tools to combat theft. - AMD (AMD) is benefiting from the adoption of '\n",
            " 'new EPYC CPUs. - Gilead Sciences (GILD) faces a partial clinical hold on its '\n",
            " 'leukemia treatment trials. - Apple (AAPL) is the only Big Tech stock hitting '\n",
            " 'the S&P 500 index. - Goldman Sachs (GS) considers selling PFM and focusing '\n",
            " \"on ultra-rich clients. - Dick's Sporting Goods (DKS) reported Q2 earnings \"\n",
            " 'that missed estimates. - Sally Beauty (SBH) is focused on customer focus, '\n",
            " 'innovation, and digital expansion.')\n",
            "Iteration 12\n",
            "--------------------\n",
            "('- Positive sentiment is seen in the stock market, with aggressive investor '\n",
            " 'buying in Nvidia ahead of its earnings release. - Wall Street is positioning '\n",
            " 'for another leg up in the artificial intelligence frenzy rally. - Chinese '\n",
            " 'Plunge Protection Team (PPT) is believed to be buying stocks to prevent them '\n",
            " \"from plunging. - Lowe's reported better-than-expected Q2 earnings and \"\n",
            " 'reaffirmed its outlook for FY23. - Fulcrum Therapeutics stock surged after '\n",
            " 'the FDA lifted a clinical hold on its sickle cell disease treatment. - '\n",
            " 'Stifel, Northcoast Research, Compass Point, Mizuho, and UBS have upgraded '\n",
            " 'various stocks. - Waste Connections is gaining from its acquisition '\n",
            " 'strategy, while foreign currency exchange risk is a concern. - American '\n",
            " \"Airlines' pilots have ratified a four-year agreement related to wage rise. - \"\n",
            " \"MetLife's cost-cutting initiatives are likely to lower expenses and boost \"\n",
            " 'profit levels. - RTX secured a $59.3 million contract to provide support '\n",
            " 'services for the F135 propulsion system. - Mattel benefits from product '\n",
            " 'portfolio expansion, optimizing for growth, and strong demand for Hot '\n",
            " 'Wheels. - Several stocks were upgraded or downgraded by analysts. - Teleflex '\n",
            " 'expanded its sales and marketing reach for its Arrow ErgoPack Complete '\n",
            " 'System. - There are opportunities to invest in low-beta energy stocks like '\n",
            " 'Evolution Petroleum, Profire Energy, and Granite Ridge. - NVIDIA is '\n",
            " 'considered the AI stock to watch, but Goldman Sachs provides a list of '\n",
            " 'long-term plays beyond the usual names. - Armata Pharma stock surged due to '\n",
            " 'positive progress with its phage candidates for pathogen treatment. - Novo '\n",
            " 'Nordisk and Eli Lilly stock could be affected by challenges in chasing '\n",
            " 'indications for NASH. - DuPont is divesting an 80% stake in Delrin for $1.8 '\n",
            " 'billion. - Snap is expanding its generative AI capabilities with the '\n",
            " 'introduction of Dreams. - McCormick benefits from strategic acquisitions and '\n",
            " 'efficiency plans. - S&P Global downgraded the ratings of several US banks, '\n",
            " \"while Moody's took similar actions two weeks prior. - There are \"\n",
            " 'opportunities to invest in micro-EV stocks, as the market is projected to '\n",
            " 'grow. - comScore beats expectations with its Q2 earnings. - Teleflex '\n",
            " 'expanded the Arrow ErgoPack Complete Kit to include Hemodialysis and Large '\n",
            " 'Bore catheters. - Lockhead won a contract to procure helmet mounted display '\n",
            " 'system requirements for F-35 fighter jets. - Nvidia, Ulta Beauty, and other '\n",
            " \"companies reported strong earnings. - J&J's exchange offer for Kenvue shares \"\n",
            " \"was oversubscribed. - COVID-19 vaccine makers' shares rose after reports of \"\n",
            " 'an upcoming campaign urging citizens to get updated shots in the fall. - '\n",
            " 'Hilton is optimistic about continued recovery in international markets, but '\n",
            " 'macroeconomic uncertainty is a concern. - Lamb Weston is expanding capacity '\n",
            " 'but facing cost inflation challenges. - Yum! Brands emphasizes digital '\n",
            " 'strategy and leveraging customer data for growth. - Voya Financial benefits '\n",
            " 'from higher investment income and prudent capital deployment. - Networking '\n",
            " 'stocks like Cisco, Extreme Networks, and Radcom are poised to benefit from '\n",
            " '5G deployment and network security demand. - Hallmark Financial reported a '\n",
            " 'Q2 operating loss of $6.83 per share. - DraftKings stock is expected to '\n",
            " \"rally further, according to UBS analyst. - Zoom's stock climbed after the \"\n",
            " 'company reported strong earnings. - GDS Holdings reports a Q2 loss and '\n",
            " \"misses revenue estimates. - Dick's Sporting Goods missed Q2 earnings \"\n",
            " 'estimates. - LAVA Therapeutics reports a Q2 loss but tops revenue estimates. '\n",
            " \"- SoFi's Q2 earnings showcase a strong business model despite the stock's \"\n",
            " 'decline.')\n",
            "Iteration 13\n",
            "--------------------\n",
            "('- CEO and President of TJX Companies sold 56,000 shares in the company. - '\n",
            " 'UBS lowered the price target for Estée Lauder and Susquehanna raised the '\n",
            " 'price target for Permian Resources Corporation. - Mizuho raised the price '\n",
            " \"target for Williams Companies. - Denovo Brands selected Nogin's \"\n",
            " \"Commerce-as-a-Service Solution for growth. - Ford's Mustang Mach-E electric \"\n",
            " \"vehicle is under investigation for a recall fix. - BJ's Wholesale Club beat \"\n",
            " \"Q2 earnings estimates. - Macy's beat Q2 earnings and revenue estimates. - \"\n",
            " 'Medtronic surpassed Q1 earnings and revenue estimates. - Five blue-chip '\n",
            " 'stocks for a stable portfolio amid volatility are Walmart, JPMorgan Chase, '\n",
            " \"Johnson & Johnson, Caterpillar, and McDonald's. - Five insurance stocks to \"\n",
            " 'buy amid soaring government bond yields are Assurant, RenaissanceRe '\n",
            " 'Holdings, Kinsale Capital Group, Arch Capital Group, and Brown & Brown. - '\n",
            " 'Four low-beta utility stocks to tide over ongoing market volatility are '\n",
            " 'Entergy Corporation, Consolidated Water Co., PNM Resources, and Atmos Energy '\n",
            " 'Corporation. - Top five financial stocks to consider selling this quarter '\n",
            " 'are Riverview Bancorp, First Niagara Financial Group, UBS Group, Barings '\n",
            " 'BDC, and Erie Indemnity. - Four low-beta utility stocks to tide over ongoing '\n",
            " 'market volatility are Entergy Corporation, Consolidated Water Co., PNM '\n",
            " 'Resources, and Atmos Energy Corporation. - Nvidia is expected to have '\n",
            " 'another strong earnings report due to increasing strength in data centers '\n",
            " 'and elevated GPU chip demand. - Worksport achieved a major milestone by '\n",
            " 'shipping its first shipment of hard-folding tonneau covers from its US '\n",
            " 'facility. - Two magnificent stock-split growth stocks to buy hand over fist '\n",
            " 'and never sell are Alphabet and Amazon. - McCormick benefits from strategic '\n",
            " 'acquisitions and efficiency plans. - S&P Global downgraded the ratings of '\n",
            " \"several US banks, while Moody's took similar actions two weeks prior. - \"\n",
            " 'There are opportunities to invest in micro-EV stocks as the market is '\n",
            " 'projected to grow. - Comscore beat expectations with its Q2 earnings. - '\n",
            " 'Teleflex expanded sales and marketing reach for its Arrow ErgoPack Complete '\n",
            " 'System. - Lockheed Martin won a contract for helmet-mounted display systems '\n",
            " 'for F-35 fighter jets. - Nvidia, Ulta Beauty, and other companies reported '\n",
            " \"strong earnings. - Johnson & Johnson's exchange offer for Kenvue shares was \"\n",
            " \"oversubscribed. - COVID-19 vaccine makers' shares rose after reports of an \"\n",
            " 'upcoming campaign urging citizens to get updated shots in the fall. - Hilton '\n",
            " 'is optimistic about continued recovery in international markets, but '\n",
            " 'macroeconomic uncertainty is a concern. - Lamb Weston is expanding capacity '\n",
            " 'but facing cost inflation challenges. - Yum! Brands emphasizes a digital '\n",
            " 'strategy and leveraging customer data for growth. - Voya Financial benefits '\n",
            " 'from higher investment income and prudent capital deployment. - Networking '\n",
            " 'stocks like Cisco, Extreme Networks, and Radcom are poised to benefit from '\n",
            " '5G deployment and network security demand. - Hallmark Financial reported a '\n",
            " 'Q2 operating loss. - DraftKings stock is expected to rally further, '\n",
            " \"according to UBS analyst. - Zoom's stock climbed after the company reported \"\n",
            " 'strong earnings. - GDS Holdings reports a Q2 loss and misses revenue '\n",
            " \"estimates. - Dick's Sporting Goods missed Q2 earnings estimates. - LAVA \"\n",
            " \"Therapeutics reports a Q2 loss but tops revenue estimates. - SoFi's Q2 \"\n",
            " \"earnings showcase a strong business model despite the stock's decline. - \"\n",
            " 'TJX, ON Semiconductor, and two other stocks see insider selling. - Hasbro '\n",
            " \"could rally over 42% according to analysts. - Denovo Brands selects Nogin's \"\n",
            " \"Commerce-as-a-Service Solution for growth. - Ford's Mustang Mach-E recall \"\n",
            " \"fix is under investigation. - BJ's Wholesale Club beats Q2 earnings \"\n",
            " \"estimates. - Macy's beats Q2 earnings and revenue estimates. - Medtronic \"\n",
            " 'surpasses Q1 earnings and revenue estimates. - Five blue-chip stocks for a '\n",
            " 'stable portfolio amid volatility are Walmart, JPMorgan Chase, Johnson & '\n",
            " \"Johnson, Caterpillar, and McDonald's. - Five insurance stocks to buy amid \"\n",
            " 'soaring government bond yields are Assurant, RenaissanceRe Holdings, Kinsale '\n",
            " 'Capital Group, Arch Capital Group, and Brown & Brown. - Four low-beta '\n",
            " 'utility stocks to tide over ongoing market volatility are Entergy '\n",
            " 'Corporation, Consolidated Water Co., PNM Resources, and Atmos Energy '\n",
            " 'Corporation. - Worksport achieves a major milestone with its first shipment '\n",
            " 'of hard-folding tonneau covers from the US facility. - Nvidia is expected to '\n",
            " 'have another strong earnings report due to increasing strength in data '\n",
            " 'centers and elevated GPU chip demand. - Wall Street delivers downbeat '\n",
            " 'performances due to rising rates. - Consolidated Water, Lifeway Foods, J & J '\n",
            " 'Snack Foods, and Barfresh Food Group are part of the Zacks top Analyst Blog. '\n",
            " '- Nvidia is poised for another earnings blowout with increasing strength in '\n",
            " 'data centers and elevated GPU chip demand. - Worksport achieves a major '\n",
            " 'milestone with its first shipment of hard-folding tonneau covers from the US '\n",
            " 'facility. ')\n",
            "Iteration 14\n",
            "--------------------\n",
            "(\"- Wedbush analyst Dan Ives expects Nvidia's upcoming earnings report to \"\n",
            " 'ignite a rally in the tech sector, citing strong demand for AI technology. '\n",
            " \"Nvidia's results could have a positive ripple effect on other tech stocks. - \"\n",
            " 'Shares of AMC fell more than 22% as the company implemented its '\n",
            " 'stock-conversion plan to eliminate debt. - Crude oil prices fell, causing '\n",
            " 'shares of energy companies like Nikola to plummet. - Palo Alto Networks '\n",
            " 'reported better-than-expected earnings and issued a strong outlook, leading '\n",
            " 'to a significant surge in its stock price. - The Nasdaq Composite gained '\n",
            " 'around 1.5% on Monday, led by a 2% rise in information technology shares. - '\n",
            " 'Investment bank Goldman Sachs released a report suggesting that relying '\n",
            " 'solely on mega-cap tech companies for innovation is becoming less relevant, '\n",
            " 'and that small-cap companies focused on artificial intelligence may offer '\n",
            " \"greater growth opportunities. - Urban Outfitters and Macy's are set to \"\n",
            " 'announce their Q2 earnings, with both companies expected to face challenges '\n",
            " 'due to macroeconomic pressures and increased competition. - John Deere beat '\n",
            " 'Q3 earnings expectations and raised its profit outlook for the fiscal year. '\n",
            " '- Shares of Tronox rose after the company closed a $350 million incremental '\n",
            " \"term loan to advance its growth initiatives. - Marsh & McLennan's unit Marsh \"\n",
            " 'acquired Honan to boost its capabilities and expand its geographical '\n",
            " \"presence. - Wall Street is closely watching Nvidia's earnings report, as it \"\n",
            " \"is expected to provide insight into the AI market's growth potential. - \"\n",
            " 'Affirm is set to announce its Q4 earnings, with investors expecting '\n",
            " \"significant growth in merchant network revenues. - China's rate cut is \"\n",
            " 'causing uncertainty in the financial markets, with some experts suggesting '\n",
            " \"it may not be enough to invigorate the property sector. - Gap's Q2 earnings \"\n",
            " 'are anticipated to show improved margins due to reduced freight and '\n",
            " 'promotions, and cost-saving initiatives. - Equinor made a discovery near the '\n",
            " 'Fram Field in Norway, further boosting its position in the oil and gas '\n",
            " 'industry. - Canada is emerging as a battery hub for the EV industry, with '\n",
            " 'companies like GM and Ford increasing battery manufacturing in the country. '\n",
            " '- Drug and biotech companies, including Eli Lilly and Novartis, are expected '\n",
            " 'to see significant innovation, making them attractive options for investors. '\n",
            " '- The number of oil drilling rigs in the Permian Basin has increased for two '\n",
            " 'consecutive weeks. - Apple and Microsoft are not typically thought of as '\n",
            " 'dividend stocks, but they offer lucrative opportunities for investors. - '\n",
            " \"Casey's stock has displayed a decent run in the past six months, driven by \"\n",
            " 'its price and product optimization strategies and digital engagements.')\n",
            "Iteration 15\n",
            "--------------------\n",
            "('- Landsea Homes (LSEA) stock may be undervalued, according to Zacks. - '\n",
            " 'Patterson Companies (PDCO) stock has outperformed its medical peers this '\n",
            " 'year, along with Abcam PLC Sponsored ADR (ABCM). - Value investors may '\n",
            " 'consider buying Textainer Group (TGH) stock, according to Zacks. - Bit '\n",
            " 'Digital (BTBT) stock has outpaced other business services stocks this year '\n",
            " 'compared to UiPath (PATH). - Finance stocks like Midwest Holding Inc. (MDWT) '\n",
            " 'have lagged behind names like Medallion Financial (MFIN) within the sector. '\n",
            " '- CVR Energy (CVI) stock has outperformed other oils-energy peers this year, '\n",
            " 'along with Evolution Petroleum (EPM). - Applied Materials (AMAT) stock is '\n",
            " 'performing well in the computer and technology sector compared to Arlo '\n",
            " 'Technologies (ARLO). - PulteGroup (PHM) stock is outpacing its construction '\n",
            " 'peers, including Sterling Infrastructure (STRL), this year. - Industrial '\n",
            " 'products stocks like O-I Glass (OI) have lagged behind peers such as Terex '\n",
            " '(TEX) this year. - Modine Manufacturing (MOD) stock is outperforming '\n",
            " 'auto-tires-trucks peers like Paccar (PCAR) in the sector. - Some growth '\n",
            " 'stocks like NVIDIA (NVDA) and Shake Shack (SHAK) are attracting attention '\n",
            " \"despite the August tech sell-off. - China's central bank rate cut is \"\n",
            " 'impacting the financial markets and property sector. - Urban Outfitters '\n",
            " \"(URBN) and Macy's (M) face challenges due to macroeconomic pressures and \"\n",
            " 'increased competition. - John Deere (DE) beat earnings expectations and '\n",
            " 'raised its profit outlook. - Tronox (TROX) stock rose after closing a $350 '\n",
            " \"million incremental term loan. - Marsh & McLennan's (MMC) acquisition of \"\n",
            " \"Honan will expand its capabilities and geographic presence. - NVIDIA's \"\n",
            " '(NVDA) upcoming earnings report is expected to provide insight into the AI '\n",
            " \"market's growth potential. - Affirm (AFRM) is expected to announce \"\n",
            " 'significant growth in Q4 merchant network revenues. - Canada is becoming a '\n",
            " 'battery hub for the EV industry, with companies like GM and Ford increasing '\n",
            " 'battery manufacturing in the country. - Eli Lilly and Novartis are expected '\n",
            " 'to see significant innovation, making them attractive options for investors. '\n",
            " '- The number of oil drilling rigs in the Permian Basin is increasing for two '\n",
            " 'consecutive weeks. - Apple (AAPL) and Microsoft (MSFT) are considered '\n",
            " \"lucrative opportunities for investors seeking dividends. - Casey's (CASY) \"\n",
            " 'stock has experienced growth due to optimization strategies and digital '\n",
            " 'engagement.')\n",
            "Iteration 16\n",
            "--------------------\n",
            "('- Billionaires are selling stock-split stocks like Nvidia, Amazon, and '\n",
            " 'DexCom, but are piling into Shopify. - Tips on saving money on school '\n",
            " 'supplies include utilizing sales-tax holidays and cash-back apps. - Two '\n",
            " 'studies have conflicting answers regarding whether gas or electricity is '\n",
            " 'cheaper to fuel a car. - Acura is set to release its new electric SUV, the '\n",
            " '2024 Acura ZDX, which boasts a range of 325 miles. - There are three bargain '\n",
            " 'stocks worth considering for value investors. - Buying name brands over '\n",
            " 'generics often means paying more for the same product. - SoFi Technologies '\n",
            " 'is seeing record revenues and member growth, indicating potential '\n",
            " 'profitability. - Zoom Video Communications and Palo Alto Networks are '\n",
            " 'expected to post earnings this week. - Analysis suggests that the fear and '\n",
            " 'greed index remains in a \"neutral\" zone after last week\\'s downturn. - The '\n",
            " \"US stock market's bull run may be coming to an end. - Nvidia is expected to \"\n",
            " 'beat Q2 estimates thanks to the growth of AI. - JEPI has underperformed due '\n",
            " 'to its low-volatility stock selection approach. - The S&P 500 reversed its '\n",
            " \"downward trend, suggesting gains this week. - Meta's Threads is set to \"\n",
            " 'launch a desktop version this week. - These companies proved their '\n",
            " \"reliability during last year's stock market sell-off. - China's Evergrande \"\n",
            " 'collapse may require a $1 trillion rescue plan from Beijing. - Taylor '\n",
            " \"Swift's and the music industry's use of data for business decisions should \"\n",
            " 'be adopted by the TV and film industry. - 2 Tech stocks, Adobe and Marvell, '\n",
            " 'received positive analyst calls due to AI growth. - Merger mania in the '\n",
            " \"energy sector could make one company an acquisition target. - Symbotic's \"\n",
            " 'AI-enabled robotics technology could revolutionize the warehouse industry. - '\n",
            " 'Artificial intelligence software is a lucrative market, with many growth '\n",
            " 'stocks to consider. - Apple and Microsoft are considered attractive options '\n",
            " \"for investors seeking dividends. - Robinhood's profitability and growth \"\n",
            " \"potential make it an attractive meme stock. - Berkshire Hathaway's \"\n",
            " 'investments in certain stocks have yielded significant returns. - These 3 '\n",
            " \"tech stocks have more potential than any cryptocurrency. - There's a \"\n",
            " \"comparison between Starbucks and McDonald's stocks, both of which are \"\n",
            " 'trailing the market. - Cathie Wood sold Tesla and Shopify stocks but bought '\n",
            " \"a potentially explosive growth stock. - The US stock market's bull run may \"\n",
            " 'be coming to an end, according to analysts. - This cash-gushing dividend '\n",
            " 'stock has beaten the Dow Jones over the past 10 years. - These two passive '\n",
            " 'income stocks can help investors get richer. - These 3 dividend stocks are '\n",
            " \"projected to pay out for the rest of investors' lives. - These 3 bargain \"\n",
            " 'stocks are loved by Cathie Wood. - This AI growth stock could be a huge '\n",
            " 'winner in the next decade. - These 3 fantastic stocks are worth buying in a '\n",
            " \"bull market. - This is how to analyze a penny stock's financials. - This \"\n",
            " 'stock could double your money in under 3 years. - The future of Rivian stock '\n",
            " 'is uncertain due to changing production estimates. - These 3 stocks will '\n",
            " '\"never\" be sold due to their stability and reliability. - These are 3 growth '\n",
            " 'stocks that could be huge winners. - Investing in battery stocks in Canada '\n",
            " 'is a growing trend in the EV industry. - Eli Lilly and Novartis are expected '\n",
            " 'to see significant innovation, making them attractive investments. - The '\n",
            " 'number of oil drilling rigs in the Permian Basin is increasing. - Apple and '\n",
            " 'Microsoft are considered lucrative opportunities for investors seeking '\n",
            " \"dividends. - Casey's stock has experienced growth due to optimization \"\n",
            " 'strategies and digital engagement. - Street expectations for Zoom Video '\n",
            " \"Communications' Q3 earnings are exceeding the forecasts used in the risk \"\n",
            " 'model. - The back-to-school season brought some weak earnings for Microsoft, '\n",
            " 'causing its stock to fall. - Research indicates that traveling with gasoline '\n",
            " \"cars is cheaper than electric cars. - Acura's new electric SUV, the 2024 \"\n",
            " 'ZDX, will be available to purchase in the future. - Value investors may '\n",
            " 'consider buying Textainer Group stock. - Bit Digital stock has outperformed '\n",
            " 'other business services stocks this year. - Finance stocks like Midwest '\n",
            " 'Holding have lagged behind Medallion Financial. - CVR Energy stock has '\n",
            " 'outperformed other oils-energy peers this year. - Applied Materials stock is '\n",
            " 'performing well in the computer and technology sector. - PulteGroup stock is '\n",
            " 'outpacing its construction peers this year. - Industrial products stocks '\n",
            " 'like O-I Glass have lagged behind peers such as Terex this year. - Modine '\n",
            " 'Manufacturing stock is outperforming auto-tires-trucks peers like Paccar in '\n",
            " 'the sector.')\n",
            "Iteration 17\n",
            "--------------------\n",
            "('- Amphastar Pharma (AMPH) shares are up 89.1% year to date due to the '\n",
            " 'acquisition of Baqsimi from Lilly and FDA approval for Naloxone. - Capital '\n",
            " 'One confirms another big sale of its office loans as fallout in the sector '\n",
            " 'intensifies in the face of higher interest rates and tumbling property '\n",
            " 'values. - SpartanNash (SPTN) posts higher sales for the second quarter of '\n",
            " '2023 on increased sales across both segments and solid comparable sales. - '\n",
            " 'Dividend payout and strong liquidity boost Canadian National (CNI). - The '\n",
            " \"Children's Place (PLCE) second-quarter fiscal 2023 results reflect a \"\n",
            " 'year-over-year decline in both top and bottom lines due to a tough '\n",
            " 'macroeconomic environment. - Truist Securities downgraded Crestwood Equity '\n",
            " \"Partners LP (CEQP) to Hold from Buy, but analysts favor CEQP's acquisition \"\n",
            " 'by Energy Transfer LP (ET). - High labor costs and weak demand-induced '\n",
            " 'volume woes are hurting UPS stock significantly. - Cullen/Frost (CFR) is '\n",
            " 'hurt by mounting costs and a concentrated commercial loan portfolio, while '\n",
            " \"deteriorating credit quality is another headwind. - Dycom's (DY) fiscal \"\n",
            " 'second-quarter 2024 results are likely to reflect a strong demand for '\n",
            " \"network bandwidth and mobile broadband. - PayPal's declining stock price \"\n",
            " 'presents an opportunity for long-term investors, with its strong market '\n",
            " \"presence and growth potential. - GoDaddy's (GDDY) new AI-powered Instant \"\n",
            " 'Video feature delivers an enhanced experience to small businesses. - Splunk '\n",
            " '(SPLK) is expected to report higher revenues year over year in the second '\n",
            " 'quarter of fiscal 2024. - UnitedHealth (UNH) receives a contract from the '\n",
            " 'New Mexico HSD, subsequent to which it can effectively serve the statewide '\n",
            " \"Medicaid members. - This jump in UroGen's (URGN) stock price is attributable \"\n",
            " 'to positive data from two late-stage studies on bladder cancer therapy. - '\n",
            " 'Caesars Entertainment (CZR) focuses on race betting, announcing the launch '\n",
            " \"of the Caesars Racebook app in New York State. - NICE's second-quarter 2023 \"\n",
            " 'results reflect benefits from robust cloud revenues, driven by the increased '\n",
            " \"migration to the cloud and an expanding customer base. - Snowflake's (SNOW) \"\n",
            " 'fiscal second-quarter results are likely to reflect gains from an increasing '\n",
            " \"clientele and an expanding partner base. - Moderna's (MRNA) updated \"\n",
            " 'monovalent COVID-19 vaccine generates a robust immune response against the '\n",
            " 'dominating Eris variant and another rapidly spreading virus strain in a '\n",
            " 'clinical study. - AON collaborates with Cover Whale to cater to the '\n",
            " 'underserved market segment of trucking insurance. - Molson Coors pulls back '\n",
            " 'from cannabis drinks to focus on other growth opportunities as Tilray buys '\n",
            " \"its stake in Truss Beverage. - Guidewire's (GWRE) performance benefits from \"\n",
            " 'higher revenue growth across the subscription and support business segment. '\n",
            " '- Apple Inc. (AAPL), NVIDIA Corporation (NVDA), and Bank of America '\n",
            " \"Corporation (BAC) are featured in top stock reports. - NetApp's (NTAP) \"\n",
            " 'fiscal first-quarter performance is likely to have been affected by '\n",
            " 'softening IT spending and cloud cost optimization efforts by clients. - BILL '\n",
            " \"Holdings' (BILL) fourth-quarter fiscal 2023 results reflect solid growth in \"\n",
            " 'its standalone BILL Platform and Divvy spend management solution. - Ball '\n",
            " 'Corp (BALL) agreed to sell its Aerospace business to BAE Systems for gross '\n",
            " 'proceeds of $5.6 billion in cash. - OTIS benefits from robust R&D '\n",
            " 'investments and operational improvements, reflecting solid backlog and order '\n",
            " 'volume, although Chinese markets ail. - Invitation Homes (INVH) receives a '\n",
            " \"rating outlook upgrade to 'Positive' from Fitch Ratings owing to its balance \"\n",
            " \"sheet and capital access strength. - Arcos Dorados' (ARCO) second-quarter \"\n",
            " 'top line reflects substantial contributions from front counter, dessert '\n",
            " \"center, and Delivery sales. - West Pharmaceutical's (WST) strength in its \"\n",
            " 'proprietary products segment raises optimism about the stock. - High spec '\n",
            " \"sales and focus on operational efficiency likely aided Toll Brothers' (TOL) \"\n",
            " \"Q3 results, although higher costs may have affected results. - Nevro's \"\n",
            " '(NVRO) latest 24-month data demonstrates the benefits of high-frequency 10 '\n",
            " 'kHz SCS implant for pain relief. - Annual inflation rate in the United '\n",
            " \"States accelerated to 3.2% in July 2023 from 3% in June. - Valero's (VLO) \"\n",
            " 'premium refining operations are resilient, even with carbon constraints, but '\n",
            " 'rising operating expenses are hurting the bottom line. - Entravision '\n",
            " 'Communications (EVC) extends its partnership with the NFL for the ninth '\n",
            " 'consecutive season, securing exclusive national Spanish radio broadcast '\n",
            " \"rights. - Supply-chain disruptions are likely to have hurt Frontline's (FRO) \"\n",
            " 'Q2 performance. - LGI Homes (LGIH) introduces a new 25-single-family home '\n",
            " \"community in Washington. - NICE's Q2 2023 results reflect benefits from \"\n",
            " 'robust cloud revenues, driven by increased migration and an expanding '\n",
            " \"customer base. - Credit Acceptance's (CACC) revenues will likely continue to \"\n",
            " 'improve, supported by the decent rise in dealer enrollments and active '\n",
            " 'dealers, while elevated costs might hurt profits. - Williams Trading '\n",
            " \"upgraded Foot Locker's (FL) previous rating from Sell to Hold. - By \"\n",
            " 'acquiring PhenomeX, Bruker (BRKR) initiates its entry into single-cell '\n",
            " \"biology research solutions. - Estee Lauder's (EL) fourth-quarter fiscal 2023 \"\n",
            " 'results reflect strength in nearly all categories other than Skin Care, '\n",
            " 'positioning the company well for fiscal 2024.')\n"
          ]
        }
      ]
    },
    {
      "cell_type": "code",
      "source": [
        "# CHECK ONLY THE LATEST ITERATION - after the last call\n",
        "if datetime.today().weekday()==0:\n",
        "  print(f'MARKET NEWS SUMMARY {market_summary_key_week} \\nfor the period {min_date} to {max_date}: \\n {summary_market_one_week[len(summary_market_one_week)-1][0]}')\n"
      ],
      "metadata": {
        "id": "hLQzrNYo51nl",
        "colab": {
          "base_uri": "https://localhost:8080/"
        },
        "outputId": "15ed9200-7ff3-4866-8b40-dc7ad995677a"
      },
      "execution_count": null,
      "outputs": [
        {
          "output_type": "stream",
          "name": "stdout",
          "text": [
            "MARKET NEWS SUMMARY ('multiple_tickers', 2208) \n",
            "for the period 2023-08-18 to 2023-08-28: \n",
            " - Amphastar Pharma (AMPH) shares are up 89.1% year to date due to the acquisition of Baqsimi from Lilly and FDA approval for Naloxone.\n",
            "- Capital One confirms another big sale of its office loans as fallout in the sector intensifies in the face of higher interest rates and tumbling property values.\n",
            "- SpartanNash (SPTN) posts higher sales for the second quarter of 2023 on increased sales across both segments and solid comparable sales.\n",
            "- Dividend payout and strong liquidity boost Canadian National (CNI).\n",
            "- The Children's Place (PLCE) second-quarter fiscal 2023 results reflect a year-over-year decline in both top and bottom lines due to a tough macroeconomic environment.\n",
            "- Truist Securities downgraded Crestwood Equity Partners LP (CEQP) to Hold from Buy, but analysts favor CEQP's acquisition by Energy Transfer LP (ET).\n",
            "- High labor costs and weak demand-induced volume woes are hurting UPS stock significantly.\n",
            "- Cullen/Frost (CFR) is hurt by mounting costs and a concentrated commercial loan portfolio, while deteriorating credit quality is another headwind.\n",
            "- Dycom's (DY) fiscal second-quarter 2024 results are likely to reflect a strong demand for network bandwidth and mobile broadband.\n",
            "- PayPal's declining stock price presents an opportunity for long-term investors, with its strong market presence and growth potential.\n",
            "- GoDaddy's (GDDY) new AI-powered Instant Video feature delivers an enhanced experience to small businesses.\n",
            "- Splunk (SPLK) is expected to report higher revenues year over year in the second quarter of fiscal 2024.\n",
            "- UnitedHealth (UNH) receives a contract from the New Mexico HSD, subsequent to which it can effectively serve the statewide Medicaid members.\n",
            "- This jump in UroGen's (URGN) stock price is attributable to positive data from two late-stage studies on bladder cancer therapy.\n",
            "- Caesars Entertainment (CZR) focuses on race betting, announcing the launch of the Caesars Racebook app in New York State.\n",
            "- NICE's second-quarter 2023 results reflect benefits from robust cloud revenues, driven by the increased migration to the cloud and an expanding customer base.\n",
            "- Snowflake's (SNOW) fiscal second-quarter results are likely to reflect gains from an increasing clientele and an expanding partner base.\n",
            "- Moderna's (MRNA) updated monovalent COVID-19 vaccine generates a robust immune response against the dominating Eris variant and another rapidly spreading virus strain in a clinical study.\n",
            "- AON collaborates with Cover Whale to cater to the underserved market segment of trucking insurance.\n",
            "- Molson Coors pulls back from cannabis drinks to focus on other growth opportunities as Tilray buys its stake in Truss Beverage.\n",
            "- Guidewire's (GWRE) performance benefits from higher revenue growth across the subscription and support business segment.\n",
            "- Apple Inc. (AAPL), NVIDIA Corporation (NVDA), and Bank of America Corporation (BAC) are featured in top stock reports.\n",
            "- NetApp's (NTAP) fiscal first-quarter performance is likely to have been affected by softening IT spending and cloud cost optimization efforts by clients.\n",
            "- BILL Holdings' (BILL) fourth-quarter fiscal 2023 results reflect solid growth in its standalone BILL Platform and Divvy spend management solution.\n",
            "- Ball Corp (BALL) agreed to sell its Aerospace business to BAE Systems for gross proceeds of $5.6 billion in cash.\n",
            "- OTIS benefits from robust R&D investments and operational improvements, reflecting solid backlog and order volume, although Chinese markets ail.\n",
            "- Invitation Homes (INVH) receives a rating outlook upgrade to 'Positive' from Fitch Ratings owing to its balance sheet and capital access strength.\n",
            "- Arcos Dorados' (ARCO) second-quarter top line reflects substantial contributions from front counter, dessert center, and Delivery sales.\n",
            "- West Pharmaceutical's (WST) strength in its proprietary products segment raises optimism about the stock.\n",
            "- High spec sales and focus on operational efficiency likely aided Toll Brothers' (TOL) Q3 results, although higher costs may have affected results.\n",
            "- Nevro's (NVRO) latest 24-month data demonstrates the benefits of high-frequency 10 kHz SCS implant for pain relief.\n",
            "- Annual inflation rate in the United States accelerated to 3.2% in July 2023 from 3% in June.\n",
            "- Valero's (VLO) premium refining operations are resilient, even with carbon constraints, but rising operating expenses are hurting the bottom line.\n",
            "- Entravision Communications (EVC) extends its partnership with the NFL for the ninth consecutive season, securing exclusive national Spanish radio broadcast rights.\n",
            "- Supply-chain disruptions are likely to have hurt Frontline's (FRO) Q2 performance.\n",
            "- LGI Homes (LGIH) introduces a new 25-single-family home community in Washington.\n",
            "- NICE's Q2 2023 results reflect benefits from robust cloud revenues, driven by increased migration and an expanding customer base.\n",
            "- Credit Acceptance's (CACC) revenues will likely continue to improve, supported by the decent rise in dealer enrollments and active dealers, while elevated costs might hurt profits.\n",
            "- Williams Trading upgraded Foot Locker's (FL) previous rating from Sell to Hold.\n",
            "- By acquiring PhenomeX, Bruker (BRKR) initiates its entry into single-cell biology research solutions.\n",
            "- Estee Lauder's (EL) fourth-quarter fiscal 2023 results reflect strength in nearly all categories other than Skin Care, positioning the company well for fiscal 2024.\n"
          ]
        }
      ]
    },
    {
      "cell_type": "code",
      "source": [
        "# how many tokens used (only for the last-out-of-20 call)?\n",
        "if datetime.today().weekday()==0:\n",
        "  print(f'Used tokens for the last iteration: {summary_market_one_week[len(summary_market_one_week)-1][1]}')\n"
      ],
      "metadata": {
        "id": "CbHbGrUsv3Sw",
        "colab": {
          "base_uri": "https://localhost:8080/"
        },
        "outputId": "09a6814f-2130-4072-cc29-e149758e6b4a"
      },
      "execution_count": null,
      "outputs": [
        {
          "output_type": "stream",
          "name": "stdout",
          "text": [
            "Used tokens for the last iteration: 13920\n"
          ]
        }
      ]
    },
    {
      "cell_type": "code",
      "source": [
        "# Another use-case: I want to generate text description of a market summary to be used for the logo-image-generation\n",
        "# generate summary to use for text-to-image generation of an Article Logo\n",
        "\n",
        "if datetime.today().weekday()==0:\n",
        "  r_summary_for_pic, usage = chat(prompt=summary_market_one_week[len(summary_market_one_week)-1][1], system_message_adj='I have a market summary of financial news in 1 week. Generate a word description of it to feed the image generator for the article head image')\n",
        "  print(f'Usage: {usage}')\n",
        "  print(r_summary_for_pic)"
      ],
      "metadata": {
        "id": "cHd5ST3NJ8mg",
        "colab": {
          "base_uri": "https://localhost:8080/"
        },
        "outputId": "fe3b3bb2-46bc-4680-9972-ee318cfb784d"
      },
      "execution_count": null,
      "outputs": [
        {
          "output_type": "stream",
          "name": "stdout",
          "text": [
            "Usage: 158\n",
            "Due to high volatility and economic uncertainties, the financial market experienced a rollercoaster ride in the past week. Global stock markets faced a significant decline due to concerns over inflation, rising interest rates, and potential trade tensions. Investors shifted their focus towards safe-haven assets, resulting in a surge in gold and government bond prices. Cryptocurrencies also faced a downward trend as regulatory concerns continued to weigh on the market. The week ended with a mixed sentiment as optimism regarding COVID-19 vaccinations and fiscal stimulus clashed with the fears of a potential market correction.\n"
          ]
        }
      ]
    }
  ]
}